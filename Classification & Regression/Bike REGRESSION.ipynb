{
  "cells": [
    {
      "cell_type": "code",
      "execution_count": 1,
      "metadata": {
        "id": "HTtyXWE6AkoV"
      },
      "outputs": [],
      "source": [
        "### Bike Sharing  Project\n",
        "#Exploratory Data Analysis (EDA)"
      ]
    },
    {
      "cell_type": "code",
      "execution_count": 2,
      "metadata": {
        "id": "s_v9P2apmed-"
      },
      "outputs": [],
      "source": [
        "##=================================================================\n",
        "##              Importing Necessary Modules\n",
        "##=================================================================\n",
        "\n",
        "import pandas as pd; import numpy as np\n",
        "import matplotlib.pyplot as plt\n",
        "import seaborn as sns\n",
        "%matplotlib inline"
      ]
    },
    {
      "cell_type": "markdown",
      "metadata": {
        "id": "aFT4pN-yAgIb"
      },
      "source": [
        "# **Step 1**: Get the data\n",
        "**Description of Data**\n",
        "\n",
        "**instant**: record index\n",
        "\n",
        "**dteday** : date\n",
        "\n",
        "**season** : season (1:winter, 2:spring, 3:summer, 4:fall)\n",
        "\n",
        "**yr** : year (0: 2011, 1:2012)\n",
        "\n",
        "**mnth** : month ( 1 to 12)\n",
        "\n",
        "**hr** : hour (0 to 23)\n",
        "\n",
        "**holiday** : weather day is holiday or not (extracted from [Web Link])\n",
        "\n",
        "**weekday** : day of the week\n",
        "\n",
        "**workingday** : if day is neither weekend nor holiday is 1, otherwise is 0.\n",
        "\n",
        "**weathersit** :\n",
        "\n",
        "__1: Clear, Few clouds, Partly cloudy, Partly cloudy__\n",
        "\n",
        "__2: Mist + Cloudy, Mist + Broken clouds, Mist + Few clouds, Mist__\n",
        " \n",
        "__3: Light Snow, Light Rain + Thunderstorm + Scattered clouds, Light Rain + Scattered clouds__\n",
        " \n",
        "__4: Heavy Rain + Ice Pallets + Thunderstorm + Mist, Snow + Fog__\n",
        "\n",
        "**temp** : Normalized temperature in Celsius. The values are derived via (t-t_min)/(t_max-t_min), t_min=-8, t_max=+39 (only in hourly scale)\n",
        "\n",
        "**atemp**: Normalized feeling temperature in Celsius. The values are derived via (t-t_min)/(t_max-t_min), t_min=-16, t_max=+50 (only in hourly scale)\n",
        "\n",
        "**hum**: Normalized humidity. The values are divided to 100 (max)\n",
        "\n",
        "**windspeed**: Normalized wind speed. The values are divided to 67 (max)\n",
        "\n",
        "**casual**: count of casual users\n",
        "\n",
        "**registered**: count of registered users\n",
        "\n",
        "**cnt**: count of total rental bikes including both casual and registered"
      ]
    },
    {
      "cell_type": "code",
      "execution_count": 3,
      "metadata": {
        "colab": {
          "base_uri": "https://localhost:8080/",
          "height": 357
        },
        "id": "vLulWzm5mhh9",
        "outputId": "c6d62529-9605-4acf-9b08-18ddf18ea419"
      },
      "outputs": [
        {
          "output_type": "execute_result",
          "data": {
            "text/html": [
              "\n",
              "  <div id=\"df-a10cb4b6-e147-47e0-8b53-8726ffa21166\">\n",
              "    <div class=\"colab-df-container\">\n",
              "      <div>\n",
              "<style scoped>\n",
              "    .dataframe tbody tr th:only-of-type {\n",
              "        vertical-align: middle;\n",
              "    }\n",
              "\n",
              "    .dataframe tbody tr th {\n",
              "        vertical-align: top;\n",
              "    }\n",
              "\n",
              "    .dataframe thead th {\n",
              "        text-align: right;\n",
              "    }\n",
              "</style>\n",
              "<table border=\"1\" class=\"dataframe\">\n",
              "  <thead>\n",
              "    <tr style=\"text-align: right;\">\n",
              "      <th></th>\n",
              "      <th>instant</th>\n",
              "      <th>dteday</th>\n",
              "      <th>season</th>\n",
              "      <th>yr</th>\n",
              "      <th>mnth</th>\n",
              "      <th>holiday</th>\n",
              "      <th>weekday</th>\n",
              "      <th>workingday</th>\n",
              "      <th>weathersit</th>\n",
              "      <th>temp</th>\n",
              "      <th>atemp</th>\n",
              "      <th>hum</th>\n",
              "      <th>windspeed</th>\n",
              "      <th>casual</th>\n",
              "      <th>registered</th>\n",
              "      <th>cnt</th>\n",
              "    </tr>\n",
              "  </thead>\n",
              "  <tbody>\n",
              "    <tr>\n",
              "      <th>0</th>\n",
              "      <td>1</td>\n",
              "      <td>2011-01-01</td>\n",
              "      <td>1.0</td>\n",
              "      <td>0.0</td>\n",
              "      <td>1.0</td>\n",
              "      <td>0.0</td>\n",
              "      <td>6.0</td>\n",
              "      <td>0.0</td>\n",
              "      <td>2</td>\n",
              "      <td>0.344167</td>\n",
              "      <td>0.363625</td>\n",
              "      <td>0.805833</td>\n",
              "      <td>0.160446</td>\n",
              "      <td>331</td>\n",
              "      <td>654</td>\n",
              "      <td>985</td>\n",
              "    </tr>\n",
              "    <tr>\n",
              "      <th>1</th>\n",
              "      <td>2</td>\n",
              "      <td>2011-01-02</td>\n",
              "      <td>1.0</td>\n",
              "      <td>0.0</td>\n",
              "      <td>1.0</td>\n",
              "      <td>0.0</td>\n",
              "      <td>0.0</td>\n",
              "      <td>0.0</td>\n",
              "      <td>2</td>\n",
              "      <td>0.363478</td>\n",
              "      <td>0.353739</td>\n",
              "      <td>0.696087</td>\n",
              "      <td>0.248539</td>\n",
              "      <td>131</td>\n",
              "      <td>670</td>\n",
              "      <td>801</td>\n",
              "    </tr>\n",
              "    <tr>\n",
              "      <th>2</th>\n",
              "      <td>3</td>\n",
              "      <td>2011-01-03</td>\n",
              "      <td>1.0</td>\n",
              "      <td>0.0</td>\n",
              "      <td>1.0</td>\n",
              "      <td>0.0</td>\n",
              "      <td>1.0</td>\n",
              "      <td>1.0</td>\n",
              "      <td>1</td>\n",
              "      <td>0.196364</td>\n",
              "      <td>0.189405</td>\n",
              "      <td>0.437273</td>\n",
              "      <td>0.248309</td>\n",
              "      <td>120</td>\n",
              "      <td>1229</td>\n",
              "      <td>1349</td>\n",
              "    </tr>\n",
              "    <tr>\n",
              "      <th>3</th>\n",
              "      <td>4</td>\n",
              "      <td>2011-01-04</td>\n",
              "      <td>1.0</td>\n",
              "      <td>0.0</td>\n",
              "      <td>1.0</td>\n",
              "      <td>0.0</td>\n",
              "      <td>2.0</td>\n",
              "      <td>1.0</td>\n",
              "      <td>1</td>\n",
              "      <td>0.200000</td>\n",
              "      <td>0.212122</td>\n",
              "      <td>0.590435</td>\n",
              "      <td>0.160296</td>\n",
              "      <td>108</td>\n",
              "      <td>1454</td>\n",
              "      <td>1562</td>\n",
              "    </tr>\n",
              "    <tr>\n",
              "      <th>4</th>\n",
              "      <td>5</td>\n",
              "      <td>2011-01-05</td>\n",
              "      <td>1.0</td>\n",
              "      <td>0.0</td>\n",
              "      <td>1.0</td>\n",
              "      <td>0.0</td>\n",
              "      <td>3.0</td>\n",
              "      <td>1.0</td>\n",
              "      <td>1</td>\n",
              "      <td>0.226957</td>\n",
              "      <td>0.229270</td>\n",
              "      <td>0.436957</td>\n",
              "      <td>0.186900</td>\n",
              "      <td>82</td>\n",
              "      <td>1518</td>\n",
              "      <td>1600</td>\n",
              "    </tr>\n",
              "  </tbody>\n",
              "</table>\n",
              "</div>\n",
              "      <button class=\"colab-df-convert\" onclick=\"convertToInteractive('df-a10cb4b6-e147-47e0-8b53-8726ffa21166')\"\n",
              "              title=\"Convert this dataframe to an interactive table.\"\n",
              "              style=\"display:none;\">\n",
              "        \n",
              "  <svg xmlns=\"http://www.w3.org/2000/svg\" height=\"24px\"viewBox=\"0 0 24 24\"\n",
              "       width=\"24px\">\n",
              "    <path d=\"M0 0h24v24H0V0z\" fill=\"none\"/>\n",
              "    <path d=\"M18.56 5.44l.94 2.06.94-2.06 2.06-.94-2.06-.94-.94-2.06-.94 2.06-2.06.94zm-11 1L8.5 8.5l.94-2.06 2.06-.94-2.06-.94L8.5 2.5l-.94 2.06-2.06.94zm10 10l.94 2.06.94-2.06 2.06-.94-2.06-.94-.94-2.06-.94 2.06-2.06.94z\"/><path d=\"M17.41 7.96l-1.37-1.37c-.4-.4-.92-.59-1.43-.59-.52 0-1.04.2-1.43.59L10.3 9.45l-7.72 7.72c-.78.78-.78 2.05 0 2.83L4 21.41c.39.39.9.59 1.41.59.51 0 1.02-.2 1.41-.59l7.78-7.78 2.81-2.81c.8-.78.8-2.07 0-2.86zM5.41 20L4 18.59l7.72-7.72 1.47 1.35L5.41 20z\"/>\n",
              "  </svg>\n",
              "      </button>\n",
              "      \n",
              "  <style>\n",
              "    .colab-df-container {\n",
              "      display:flex;\n",
              "      flex-wrap:wrap;\n",
              "      gap: 12px;\n",
              "    }\n",
              "\n",
              "    .colab-df-convert {\n",
              "      background-color: #E8F0FE;\n",
              "      border: none;\n",
              "      border-radius: 50%;\n",
              "      cursor: pointer;\n",
              "      display: none;\n",
              "      fill: #1967D2;\n",
              "      height: 32px;\n",
              "      padding: 0 0 0 0;\n",
              "      width: 32px;\n",
              "    }\n",
              "\n",
              "    .colab-df-convert:hover {\n",
              "      background-color: #E2EBFA;\n",
              "      box-shadow: 0px 1px 2px rgba(60, 64, 67, 0.3), 0px 1px 3px 1px rgba(60, 64, 67, 0.15);\n",
              "      fill: #174EA6;\n",
              "    }\n",
              "\n",
              "    [theme=dark] .colab-df-convert {\n",
              "      background-color: #3B4455;\n",
              "      fill: #D2E3FC;\n",
              "    }\n",
              "\n",
              "    [theme=dark] .colab-df-convert:hover {\n",
              "      background-color: #434B5C;\n",
              "      box-shadow: 0px 1px 3px 1px rgba(0, 0, 0, 0.15);\n",
              "      filter: drop-shadow(0px 1px 2px rgba(0, 0, 0, 0.3));\n",
              "      fill: #FFFFFF;\n",
              "    }\n",
              "  </style>\n",
              "\n",
              "      <script>\n",
              "        const buttonEl =\n",
              "          document.querySelector('#df-a10cb4b6-e147-47e0-8b53-8726ffa21166 button.colab-df-convert');\n",
              "        buttonEl.style.display =\n",
              "          google.colab.kernel.accessAllowed ? 'block' : 'none';\n",
              "\n",
              "        async function convertToInteractive(key) {\n",
              "          const element = document.querySelector('#df-a10cb4b6-e147-47e0-8b53-8726ffa21166');\n",
              "          const dataTable =\n",
              "            await google.colab.kernel.invokeFunction('convertToInteractive',\n",
              "                                                     [key], {});\n",
              "          if (!dataTable) return;\n",
              "\n",
              "          const docLinkHtml = 'Like what you see? Visit the ' +\n",
              "            '<a target=\"_blank\" href=https://colab.research.google.com/notebooks/data_table.ipynb>data table notebook</a>'\n",
              "            + ' to learn more about interactive tables.';\n",
              "          element.innerHTML = '';\n",
              "          dataTable['output_type'] = 'display_data';\n",
              "          await google.colab.output.renderOutput(dataTable, element);\n",
              "          const docLink = document.createElement('div');\n",
              "          docLink.innerHTML = docLinkHtml;\n",
              "          element.appendChild(docLink);\n",
              "        }\n",
              "      </script>\n",
              "    </div>\n",
              "  </div>\n",
              "  "
            ],
            "text/plain": [
              "   instant      dteday  season   yr  ...  windspeed  casual  registered   cnt\n",
              "0        1  2011-01-01     1.0  0.0  ...   0.160446     331         654   985\n",
              "1        2  2011-01-02     1.0  0.0  ...   0.248539     131         670   801\n",
              "2        3  2011-01-03     1.0  0.0  ...   0.248309     120        1229  1349\n",
              "3        4  2011-01-04     1.0  0.0  ...   0.160296     108        1454  1562\n",
              "4        5  2011-01-05     1.0  0.0  ...   0.186900      82        1518  1600\n",
              "\n",
              "[5 rows x 16 columns]"
            ]
          },
          "metadata": {},
          "execution_count": 3
        }
      ],
      "source": [
        "##=================================================================\n",
        "##             Reading the data\n",
        "##=================================================================\n",
        "url=('https://raw.githubusercontent.com/DrSaadLa/PythonTuts/main/TreeBasedModels/bike_rentals.csv')\n",
        "bike = pd.read_csv(url)\n",
        "bike.head()"
      ]
    },
    {
      "cell_type": "code",
      "execution_count": 4,
      "metadata": {
        "colab": {
          "base_uri": "https://localhost:8080/"
        },
        "id": "-OuGbgaZENvo",
        "outputId": "495749fb-cc64-45ab-8211-a21c49196028"
      },
      "outputs": [
        {
          "output_type": "stream",
          "name": "stdout",
          "text": [
            "<class 'pandas.core.frame.DataFrame'>\n",
            "RangeIndex: 731 entries, 0 to 730\n",
            "Data columns (total 16 columns):\n",
            " #   Column      Non-Null Count  Dtype  \n",
            "---  ------      --------------  -----  \n",
            " 0   instant     731 non-null    int64  \n",
            " 1   dteday      731 non-null    object \n",
            " 2   season      731 non-null    float64\n",
            " 3   yr          730 non-null    float64\n",
            " 4   mnth        730 non-null    float64\n",
            " 5   holiday     731 non-null    float64\n",
            " 6   weekday     731 non-null    float64\n",
            " 7   workingday  731 non-null    float64\n",
            " 8   weathersit  731 non-null    int64  \n",
            " 9   temp        730 non-null    float64\n",
            " 10  atemp       730 non-null    float64\n",
            " 11  hum         728 non-null    float64\n",
            " 12  windspeed   726 non-null    float64\n",
            " 13  casual      731 non-null    int64  \n",
            " 14  registered  731 non-null    int64  \n",
            " 15  cnt         731 non-null    int64  \n",
            "dtypes: float64(10), int64(5), object(1)\n",
            "memory usage: 91.5+ KB\n"
          ]
        }
      ],
      "source": [
        "bike.info()"
      ]
    },
    {
      "cell_type": "code",
      "execution_count": 5,
      "metadata": {
        "colab": {
          "base_uri": "https://localhost:8080/"
        },
        "id": "wS_xQJ_8ACFe",
        "outputId": "1d64ca8f-87a3-4045-ae37-253eb004597b"
      },
      "outputs": [
        {
          "output_type": "execute_result",
          "data": {
            "text/plain": [
              "Index(['instant', 'dteday', 'season', 'yr', 'mnth', 'holiday', 'weekday',\n",
              "       'workingday', 'weathersit', 'temp', 'atemp', 'hum', 'windspeed',\n",
              "       'casual', 'registered', 'cnt'],\n",
              "      dtype='object')"
            ]
          },
          "metadata": {},
          "execution_count": 5
        }
      ],
      "source": [
        "#checking the columns\n",
        "bike.columns"
      ]
    },
    {
      "cell_type": "code",
      "execution_count": 6,
      "metadata": {
        "colab": {
          "base_uri": "https://localhost:8080/"
        },
        "id": "53hhqiBzAH1O",
        "outputId": "fc3311ea-624a-4b9d-b203-364a40cefba0"
      },
      "outputs": [
        {
          "output_type": "execute_result",
          "data": {
            "text/plain": [
              "instant       0\n",
              "dteday        0\n",
              "season        0\n",
              "yr            1\n",
              "mnth          1\n",
              "holiday       0\n",
              "weekday       0\n",
              "workingday    0\n",
              "weathersit    0\n",
              "temp          1\n",
              "atemp         1\n",
              "hum           3\n",
              "windspeed     5\n",
              "casual        0\n",
              "registered    0\n",
              "cnt           0\n",
              "dtype: int64"
            ]
          },
          "metadata": {},
          "execution_count": 6
        }
      ],
      "source": [
        "# Looking for missing data\n",
        "bike.isnull().sum()"
      ]
    },
    {
      "cell_type": "code",
      "execution_count": 7,
      "metadata": {
        "colab": {
          "base_uri": "https://localhost:8080/",
          "height": 335
        },
        "id": "E_tVkxqR8eM7",
        "outputId": "4da9ef60-39b8-4aab-8365-db6d100778ad"
      },
      "outputs": [
        {
          "output_type": "execute_result",
          "data": {
            "text/plain": [
              "<matplotlib.axes._subplots.AxesSubplot at 0x7f2012ca1c50>"
            ]
          },
          "metadata": {},
          "execution_count": 7
        },
        {
          "output_type": "display_data",
          "data": {
            "image/png": "[encoded data removed]",
            "text/plain": [
              "<Figure size 432x288 with 1 Axes>"
            ]
          },
          "metadata": {
            "needs_background": "light"
          }
        }
      ],
      "source": [
        "#====================================================\n",
        "# Using heatmap to check for missing values\n",
        "#----------------------------------------------------\n",
        "sns.heatmap(bike.isnull(), cbar = False)"
      ]
    },
    {
      "cell_type": "code",
      "execution_count": 9,
      "metadata": {
        "id": "iIXrKK0aK-xX"
      },
      "outputs": [],
      "source": [
        "#replacing the missing numeric data by mean\n",
        "mean1 = bike['temp'].mean()\n",
        "mean2 = bike['atemp'].mean()\n",
        "mean3 = bike['hum'].mean()\n",
        "mean4 = bike['windspeed'].mean()\n",
        "\n",
        "bike['temp']=bike['temp'].fillna(mean1)\n",
        "bike['atemp']=bike['atemp'].fillna(mean2)\n",
        "bike['hum']=bike['hum'].fillna(mean3)\n",
        "bike['windspeed']=bike['windspeed'].fillna(mean4)\n"
      ]
    },
    {
      "cell_type": "code",
      "execution_count": 10,
      "metadata": {
        "id": "GQvCf6wDlA7x"
      },
      "outputs": [],
      "source": [
        "#replacing the missing non-numeric data by idmax\n",
        "temp1 = bike.groupby('yr')['instant'].count().idxmax()\n",
        "temp2 = bike.groupby('mnth')['instant'].count().idxmax()\n",
        "bike['yr']=bike['yr'].fillna(temp1)\n",
        "bike['mnth']=bike['mnth'].fillna(temp2)"
      ]
    },
    {
      "cell_type": "code",
      "execution_count": 11,
      "metadata": {
        "id": "xDu9YSuolA7z"
      },
      "outputs": [],
      "source": [
        "#Rename the columns\n",
        "bike.rename(columns={'instant':'id','dteday':'datetime','yr':'year','mnth':'month','weathersit':'weather_condition',\n",
        "                       'hum':'humidity','cnt':'total_count'},inplace=True)"
      ]
    },
    {
      "cell_type": "code",
      "execution_count": 12,
      "metadata": {
        "colab": {
          "base_uri": "https://localhost:8080/",
          "height": 357
        },
        "id": "KzR_BWnglA72",
        "outputId": "7823eace-d6a7-4be3-d56c-d4fa1c96ef24"
      },
      "outputs": [
        {
          "output_type": "execute_result",
          "data": {
            "text/html": [
              "\n",
              "  <div id=\"df-ecbf9f7a-cf07-4888-9020-cd6de84a727e\">\n",
              "    <div class=\"colab-df-container\">\n",
              "      <div>\n",
              "<style scoped>\n",
              "    .dataframe tbody tr th:only-of-type {\n",
              "        vertical-align: middle;\n",
              "    }\n",
              "\n",
              "    .dataframe tbody tr th {\n",
              "        vertical-align: top;\n",
              "    }\n",
              "\n",
              "    .dataframe thead th {\n",
              "        text-align: right;\n",
              "    }\n",
              "</style>\n",
              "<table border=\"1\" class=\"dataframe\">\n",
              "  <thead>\n",
              "    <tr style=\"text-align: right;\">\n",
              "      <th></th>\n",
              "      <th>id</th>\n",
              "      <th>datetime</th>\n",
              "      <th>season</th>\n",
              "      <th>year</th>\n",
              "      <th>month</th>\n",
              "      <th>holiday</th>\n",
              "      <th>weekday</th>\n",
              "      <th>workingday</th>\n",
              "      <th>weather_condition</th>\n",
              "      <th>temp</th>\n",
              "      <th>atemp</th>\n",
              "      <th>humidity</th>\n",
              "      <th>windspeed</th>\n",
              "      <th>casual</th>\n",
              "      <th>registered</th>\n",
              "      <th>total_count</th>\n",
              "    </tr>\n",
              "  </thead>\n",
              "  <tbody>\n",
              "    <tr>\n",
              "      <th>0</th>\n",
              "      <td>1</td>\n",
              "      <td>2011-01-01</td>\n",
              "      <td>1.0</td>\n",
              "      <td>0.0</td>\n",
              "      <td>1.0</td>\n",
              "      <td>0.0</td>\n",
              "      <td>6.0</td>\n",
              "      <td>0.0</td>\n",
              "      <td>2</td>\n",
              "      <td>0.344167</td>\n",
              "      <td>0.363625</td>\n",
              "      <td>0.805833</td>\n",
              "      <td>0.160446</td>\n",
              "      <td>331</td>\n",
              "      <td>654</td>\n",
              "      <td>985</td>\n",
              "    </tr>\n",
              "    <tr>\n",
              "      <th>1</th>\n",
              "      <td>2</td>\n",
              "      <td>2011-01-02</td>\n",
              "      <td>1.0</td>\n",
              "      <td>0.0</td>\n",
              "      <td>1.0</td>\n",
              "      <td>0.0</td>\n",
              "      <td>0.0</td>\n",
              "      <td>0.0</td>\n",
              "      <td>2</td>\n",
              "      <td>0.363478</td>\n",
              "      <td>0.353739</td>\n",
              "      <td>0.696087</td>\n",
              "      <td>0.248539</td>\n",
              "      <td>131</td>\n",
              "      <td>670</td>\n",
              "      <td>801</td>\n",
              "    </tr>\n",
              "    <tr>\n",
              "      <th>2</th>\n",
              "      <td>3</td>\n",
              "      <td>2011-01-03</td>\n",
              "      <td>1.0</td>\n",
              "      <td>0.0</td>\n",
              "      <td>1.0</td>\n",
              "      <td>0.0</td>\n",
              "      <td>1.0</td>\n",
              "      <td>1.0</td>\n",
              "      <td>1</td>\n",
              "      <td>0.196364</td>\n",
              "      <td>0.189405</td>\n",
              "      <td>0.437273</td>\n",
              "      <td>0.248309</td>\n",
              "      <td>120</td>\n",
              "      <td>1229</td>\n",
              "      <td>1349</td>\n",
              "    </tr>\n",
              "    <tr>\n",
              "      <th>3</th>\n",
              "      <td>4</td>\n",
              "      <td>2011-01-04</td>\n",
              "      <td>1.0</td>\n",
              "      <td>0.0</td>\n",
              "      <td>1.0</td>\n",
              "      <td>0.0</td>\n",
              "      <td>2.0</td>\n",
              "      <td>1.0</td>\n",
              "      <td>1</td>\n",
              "      <td>0.200000</td>\n",
              "      <td>0.212122</td>\n",
              "      <td>0.590435</td>\n",
              "      <td>0.160296</td>\n",
              "      <td>108</td>\n",
              "      <td>1454</td>\n",
              "      <td>1562</td>\n",
              "    </tr>\n",
              "    <tr>\n",
              "      <th>4</th>\n",
              "      <td>5</td>\n",
              "      <td>2011-01-05</td>\n",
              "      <td>1.0</td>\n",
              "      <td>0.0</td>\n",
              "      <td>1.0</td>\n",
              "      <td>0.0</td>\n",
              "      <td>3.0</td>\n",
              "      <td>1.0</td>\n",
              "      <td>1</td>\n",
              "      <td>0.226957</td>\n",
              "      <td>0.229270</td>\n",
              "      <td>0.436957</td>\n",
              "      <td>0.186900</td>\n",
              "      <td>82</td>\n",
              "      <td>1518</td>\n",
              "      <td>1600</td>\n",
              "    </tr>\n",
              "  </tbody>\n",
              "</table>\n",
              "</div>\n",
              "      <button class=\"colab-df-convert\" onclick=\"convertToInteractive('df-ecbf9f7a-cf07-4888-9020-cd6de84a727e')\"\n",
              "              title=\"Convert this dataframe to an interactive table.\"\n",
              "              style=\"display:none;\">\n",
              "        \n",
              "  <svg xmlns=\"http://www.w3.org/2000/svg\" height=\"24px\"viewBox=\"0 0 24 24\"\n",
              "       width=\"24px\">\n",
              "    <path d=\"M0 0h24v24H0V0z\" fill=\"none\"/>\n",
              "    <path d=\"M18.56 5.44l.94 2.06.94-2.06 2.06-.94-2.06-.94-.94-2.06-.94 2.06-2.06.94zm-11 1L8.5 8.5l.94-2.06 2.06-.94-2.06-.94L8.5 2.5l-.94 2.06-2.06.94zm10 10l.94 2.06.94-2.06 2.06-.94-2.06-.94-.94-2.06-.94 2.06-2.06.94z\"/><path d=\"M17.41 7.96l-1.37-1.37c-.4-.4-.92-.59-1.43-.59-.52 0-1.04.2-1.43.59L10.3 9.45l-7.72 7.72c-.78.78-.78 2.05 0 2.83L4 21.41c.39.39.9.59 1.41.59.51 0 1.02-.2 1.41-.59l7.78-7.78 2.81-2.81c.8-.78.8-2.07 0-2.86zM5.41 20L4 18.59l7.72-7.72 1.47 1.35L5.41 20z\"/>\n",
              "  </svg>\n",
              "      </button>\n",
              "      \n",
              "  <style>\n",
              "    .colab-df-container {\n",
              "      display:flex;\n",
              "      flex-wrap:wrap;\n",
              "      gap: 12px;\n",
              "    }\n",
              "\n",
              "    .colab-df-convert {\n",
              "      background-color: #E8F0FE;\n",
              "      border: none;\n",
              "      border-radius: 50%;\n",
              "      cursor: pointer;\n",
              "      display: none;\n",
              "      fill: #1967D2;\n",
              "      height: 32px;\n",
              "      padding: 0 0 0 0;\n",
              "      width: 32px;\n",
              "    }\n",
              "\n",
              "    .colab-df-convert:hover {\n",
              "      background-color: #E2EBFA;\n",
              "      box-shadow: 0px 1px 2px rgba(60, 64, 67, 0.3), 0px 1px 3px 1px rgba(60, 64, 67, 0.15);\n",
              "      fill: #174EA6;\n",
              "    }\n",
              "\n",
              "    [theme=dark] .colab-df-convert {\n",
              "      background-color: #3B4455;\n",
              "      fill: #D2E3FC;\n",
              "    }\n",
              "\n",
              "    [theme=dark] .colab-df-convert:hover {\n",
              "      background-color: #434B5C;\n",
              "      box-shadow: 0px 1px 3px 1px rgba(0, 0, 0, 0.15);\n",
              "      filter: drop-shadow(0px 1px 2px rgba(0, 0, 0, 0.3));\n",
              "      fill: #FFFFFF;\n",
              "    }\n",
              "  </style>\n",
              "\n",
              "      <script>\n",
              "        const buttonEl =\n",
              "          document.querySelector('#df-ecbf9f7a-cf07-4888-9020-cd6de84a727e button.colab-df-convert');\n",
              "        buttonEl.style.display =\n",
              "          google.colab.kernel.accessAllowed ? 'block' : 'none';\n",
              "\n",
              "        async function convertToInteractive(key) {\n",
              "          const element = document.querySelector('#df-ecbf9f7a-cf07-4888-9020-cd6de84a727e');\n",
              "          const dataTable =\n",
              "            await google.colab.kernel.invokeFunction('convertToInteractive',\n",
              "                                                     [key], {});\n",
              "          if (!dataTable) return;\n",
              "\n",
              "          const docLinkHtml = 'Like what you see? Visit the ' +\n",
              "            '<a target=\"_blank\" href=https://colab.research.google.com/notebooks/data_table.ipynb>data table notebook</a>'\n",
              "            + ' to learn more about interactive tables.';\n",
              "          element.innerHTML = '';\n",
              "          dataTable['output_type'] = 'display_data';\n",
              "          await google.colab.output.renderOutput(dataTable, element);\n",
              "          const docLink = document.createElement('div');\n",
              "          docLink.innerHTML = docLinkHtml;\n",
              "          element.appendChild(docLink);\n",
              "        }\n",
              "      </script>\n",
              "    </div>\n",
              "  </div>\n",
              "  "
            ],
            "text/plain": [
              "   id   datetime season year  ... windspeed casual registered total_count\n",
              "0   1 2011-01-01    1.0  0.0  ...  0.160446    331        654         985\n",
              "1   2 2011-01-02    1.0  0.0  ...  0.248539    131        670         801\n",
              "2   3 2011-01-03    1.0  0.0  ...  0.248309    120       1229        1349\n",
              "3   4 2011-01-04    1.0  0.0  ...  0.160296    108       1454        1562\n",
              "4   5 2011-01-05    1.0  0.0  ...  0.186900     82       1518        1600\n",
              "\n",
              "[5 rows x 16 columns]"
            ]
          },
          "metadata": {},
          "execution_count": 12
        }
      ],
      "source": [
        "#Type casting the datetime and numerical attributes to category\n",
        "\n",
        "bike['datetime']=pd.to_datetime(bike.datetime)\n",
        "bike['season']=bike.season.astype('category')\n",
        "bike['year']=bike.year.astype('category')\n",
        "bike['month']=bike.month.astype('category')\n",
        "bike['holiday']=bike.holiday.astype('category')\n",
        "bike['weekday']=bike.weekday.astype('category')\n",
        "bike['workingday']=bike.workingday.astype('category')\n",
        "bike['weather_condition']=bike.weather_condition.astype('category')\n",
        "bike.head()"
      ]
    },
    {
      "cell_type": "code",
      "execution_count": 13,
      "metadata": {
        "colab": {
          "base_uri": "https://localhost:8080/"
        },
        "id": "W1h2_9tvlA75",
        "outputId": "4174bc6d-daec-4640-8004-e8e89207035d"
      },
      "outputs": [
        {
          "output_type": "stream",
          "name": "stdout",
          "text": [
            "<class 'pandas.core.frame.DataFrame'>\n",
            "RangeIndex: 731 entries, 0 to 730\n",
            "Data columns (total 16 columns):\n",
            " #   Column             Non-Null Count  Dtype         \n",
            "---  ------             --------------  -----         \n",
            " 0   id                 731 non-null    int64         \n",
            " 1   datetime           731 non-null    datetime64[ns]\n",
            " 2   season             731 non-null    category      \n",
            " 3   year               731 non-null    category      \n",
            " 4   month              731 non-null    category      \n",
            " 5   holiday            731 non-null    category      \n",
            " 6   weekday            731 non-null    category      \n",
            " 7   workingday         731 non-null    category      \n",
            " 8   weather_condition  731 non-null    category      \n",
            " 9   temp               731 non-null    float64       \n",
            " 10  atemp              731 non-null    float64       \n",
            " 11  humidity           731 non-null    float64       \n",
            " 12  windspeed          731 non-null    float64       \n",
            " 13  casual             731 non-null    int64         \n",
            " 14  registered         731 non-null    int64         \n",
            " 15  total_count        731 non-null    int64         \n",
            "dtypes: category(7), datetime64[ns](1), float64(4), int64(4)\n",
            "memory usage: 57.9 KB\n"
          ]
        }
      ],
      "source": [
        "bike.info()"
      ]
    },
    {
      "cell_type": "code",
      "execution_count": 17,
      "metadata": {
        "colab": {
          "base_uri": "https://localhost:8080/",
          "height": 1000
        },
        "id": "QxwfGC5xlA76",
        "outputId": "af616ab2-e5d1-4327-cf0e-c048586b7f45"
      },
      "outputs": [
        {
          "output_type": "stream",
          "name": "stdout",
          "text": [
            "Collecting researchpy\n",
            "  Downloading researchpy-0.3.2-py3-none-any.whl (15 kB)\n",
            "Requirement already satisfied: patsy in /usr/local/lib/python3.7/dist-packages (from researchpy) (0.5.2)\n",
            "Requirement already satisfied: statsmodels in /usr/local/lib/python3.7/dist-packages (from researchpy) (0.10.2)\n",
            "Requirement already satisfied: scipy in /usr/local/lib/python3.7/dist-packages (from researchpy) (1.4.1)\n",
            "Requirement already satisfied: pandas in /usr/local/lib/python3.7/dist-packages (from researchpy) (1.3.5)\n",
            "Requirement already satisfied: numpy in /usr/local/lib/python3.7/dist-packages (from researchpy) (1.19.5)\n",
            "Requirement already satisfied: pytz>=2017.3 in /usr/local/lib/python3.7/dist-packages (from pandas->researchpy) (2018.9)\n",
            "Requirement already satisfied: python-dateutil>=2.7.3 in /usr/local/lib/python3.7/dist-packages (from pandas->researchpy) (2.8.2)\n",
            "Requirement already satisfied: six>=1.5 in /usr/local/lib/python3.7/dist-packages (from python-dateutil>=2.7.3->pandas->researchpy) (1.15.0)\n",
            "Installing collected packages: researchpy\n",
            "Successfully installed researchpy-0.3.2\n"
          ]
        },
        {
          "output_type": "stream",
          "name": "stderr",
          "text": [
            "/usr/local/lib/python3.7/dist-packages/statsmodels/tools/_testing.py:19: FutureWarning: pandas.util.testing is deprecated. Use the functions in the public API at pandas.testing instead.\n",
            "  import pandas.util.testing as tm\n"
          ]
        },
        {
          "output_type": "execute_result",
          "data": {
            "text/html": [
              "\n",
              "  <div id=\"df-8037565b-3feb-42ee-954f-1758f2790f6f\">\n",
              "    <div class=\"colab-df-container\">\n",
              "      <div>\n",
              "<style scoped>\n",
              "    .dataframe tbody tr th:only-of-type {\n",
              "        vertical-align: middle;\n",
              "    }\n",
              "\n",
              "    .dataframe tbody tr th {\n",
              "        vertical-align: top;\n",
              "    }\n",
              "\n",
              "    .dataframe thead th {\n",
              "        text-align: right;\n",
              "    }\n",
              "</style>\n",
              "<table border=\"1\" class=\"dataframe\">\n",
              "  <thead>\n",
              "    <tr style=\"text-align: right;\">\n",
              "      <th></th>\n",
              "      <th>Variable</th>\n",
              "      <th>Outcome</th>\n",
              "      <th>Count</th>\n",
              "      <th>Percent</th>\n",
              "    </tr>\n",
              "  </thead>\n",
              "  <tbody>\n",
              "    <tr>\n",
              "      <th>0</th>\n",
              "      <td>season</td>\n",
              "      <td>3.0</td>\n",
              "      <td>188</td>\n",
              "      <td>25.72</td>\n",
              "    </tr>\n",
              "    <tr>\n",
              "      <th>1</th>\n",
              "      <td></td>\n",
              "      <td>2.0</td>\n",
              "      <td>184</td>\n",
              "      <td>25.17</td>\n",
              "    </tr>\n",
              "    <tr>\n",
              "      <th>2</th>\n",
              "      <td></td>\n",
              "      <td>1.0</td>\n",
              "      <td>181</td>\n",
              "      <td>24.76</td>\n",
              "    </tr>\n",
              "    <tr>\n",
              "      <th>3</th>\n",
              "      <td></td>\n",
              "      <td>4.0</td>\n",
              "      <td>178</td>\n",
              "      <td>24.35</td>\n",
              "    </tr>\n",
              "    <tr>\n",
              "      <th>4</th>\n",
              "      <td>year</td>\n",
              "      <td>0.0</td>\n",
              "      <td>366</td>\n",
              "      <td>50.07</td>\n",
              "    </tr>\n",
              "    <tr>\n",
              "      <th>5</th>\n",
              "      <td></td>\n",
              "      <td>1.0</td>\n",
              "      <td>365</td>\n",
              "      <td>49.93</td>\n",
              "    </tr>\n",
              "    <tr>\n",
              "      <th>6</th>\n",
              "      <td>month</td>\n",
              "      <td>1.0</td>\n",
              "      <td>63</td>\n",
              "      <td>8.62</td>\n",
              "    </tr>\n",
              "    <tr>\n",
              "      <th>7</th>\n",
              "      <td></td>\n",
              "      <td>3.0</td>\n",
              "      <td>62</td>\n",
              "      <td>8.48</td>\n",
              "    </tr>\n",
              "    <tr>\n",
              "      <th>8</th>\n",
              "      <td></td>\n",
              "      <td>5.0</td>\n",
              "      <td>62</td>\n",
              "      <td>8.48</td>\n",
              "    </tr>\n",
              "    <tr>\n",
              "      <th>9</th>\n",
              "      <td></td>\n",
              "      <td>7.0</td>\n",
              "      <td>62</td>\n",
              "      <td>8.48</td>\n",
              "    </tr>\n",
              "    <tr>\n",
              "      <th>10</th>\n",
              "      <td></td>\n",
              "      <td>8.0</td>\n",
              "      <td>62</td>\n",
              "      <td>8.48</td>\n",
              "    </tr>\n",
              "    <tr>\n",
              "      <th>11</th>\n",
              "      <td></td>\n",
              "      <td>10.0</td>\n",
              "      <td>62</td>\n",
              "      <td>8.48</td>\n",
              "    </tr>\n",
              "    <tr>\n",
              "      <th>12</th>\n",
              "      <td></td>\n",
              "      <td>12.0</td>\n",
              "      <td>61</td>\n",
              "      <td>8.34</td>\n",
              "    </tr>\n",
              "    <tr>\n",
              "      <th>13</th>\n",
              "      <td></td>\n",
              "      <td>4.0</td>\n",
              "      <td>60</td>\n",
              "      <td>8.21</td>\n",
              "    </tr>\n",
              "    <tr>\n",
              "      <th>14</th>\n",
              "      <td></td>\n",
              "      <td>6.0</td>\n",
              "      <td>60</td>\n",
              "      <td>8.21</td>\n",
              "    </tr>\n",
              "    <tr>\n",
              "      <th>15</th>\n",
              "      <td></td>\n",
              "      <td>9.0</td>\n",
              "      <td>60</td>\n",
              "      <td>8.21</td>\n",
              "    </tr>\n",
              "    <tr>\n",
              "      <th>16</th>\n",
              "      <td></td>\n",
              "      <td>11.0</td>\n",
              "      <td>60</td>\n",
              "      <td>8.21</td>\n",
              "    </tr>\n",
              "    <tr>\n",
              "      <th>17</th>\n",
              "      <td></td>\n",
              "      <td>2.0</td>\n",
              "      <td>57</td>\n",
              "      <td>7.80</td>\n",
              "    </tr>\n",
              "    <tr>\n",
              "      <th>18</th>\n",
              "      <td>holiday</td>\n",
              "      <td>0.0</td>\n",
              "      <td>710</td>\n",
              "      <td>97.13</td>\n",
              "    </tr>\n",
              "    <tr>\n",
              "      <th>19</th>\n",
              "      <td></td>\n",
              "      <td>1.0</td>\n",
              "      <td>21</td>\n",
              "      <td>2.87</td>\n",
              "    </tr>\n",
              "    <tr>\n",
              "      <th>20</th>\n",
              "      <td>weekday</td>\n",
              "      <td>0.0</td>\n",
              "      <td>105</td>\n",
              "      <td>14.36</td>\n",
              "    </tr>\n",
              "    <tr>\n",
              "      <th>21</th>\n",
              "      <td></td>\n",
              "      <td>1.0</td>\n",
              "      <td>105</td>\n",
              "      <td>14.36</td>\n",
              "    </tr>\n",
              "    <tr>\n",
              "      <th>22</th>\n",
              "      <td></td>\n",
              "      <td>6.0</td>\n",
              "      <td>105</td>\n",
              "      <td>14.36</td>\n",
              "    </tr>\n",
              "    <tr>\n",
              "      <th>23</th>\n",
              "      <td></td>\n",
              "      <td>2.0</td>\n",
              "      <td>104</td>\n",
              "      <td>14.23</td>\n",
              "    </tr>\n",
              "    <tr>\n",
              "      <th>24</th>\n",
              "      <td></td>\n",
              "      <td>3.0</td>\n",
              "      <td>104</td>\n",
              "      <td>14.23</td>\n",
              "    </tr>\n",
              "    <tr>\n",
              "      <th>25</th>\n",
              "      <td></td>\n",
              "      <td>4.0</td>\n",
              "      <td>104</td>\n",
              "      <td>14.23</td>\n",
              "    </tr>\n",
              "    <tr>\n",
              "      <th>26</th>\n",
              "      <td></td>\n",
              "      <td>5.0</td>\n",
              "      <td>104</td>\n",
              "      <td>14.23</td>\n",
              "    </tr>\n",
              "    <tr>\n",
              "      <th>27</th>\n",
              "      <td>workingday</td>\n",
              "      <td>1.0</td>\n",
              "      <td>499</td>\n",
              "      <td>68.26</td>\n",
              "    </tr>\n",
              "    <tr>\n",
              "      <th>28</th>\n",
              "      <td></td>\n",
              "      <td>0.0</td>\n",
              "      <td>232</td>\n",
              "      <td>31.74</td>\n",
              "    </tr>\n",
              "    <tr>\n",
              "      <th>29</th>\n",
              "      <td>weather_condition</td>\n",
              "      <td>1.0</td>\n",
              "      <td>463</td>\n",
              "      <td>63.34</td>\n",
              "    </tr>\n",
              "    <tr>\n",
              "      <th>30</th>\n",
              "      <td></td>\n",
              "      <td>2.0</td>\n",
              "      <td>247</td>\n",
              "      <td>33.79</td>\n",
              "    </tr>\n",
              "    <tr>\n",
              "      <th>31</th>\n",
              "      <td></td>\n",
              "      <td>3.0</td>\n",
              "      <td>21</td>\n",
              "      <td>2.87</td>\n",
              "    </tr>\n",
              "  </tbody>\n",
              "</table>\n",
              "</div>\n",
              "      <button class=\"colab-df-convert\" onclick=\"convertToInteractive('df-8037565b-3feb-42ee-954f-1758f2790f6f')\"\n",
              "              title=\"Convert this dataframe to an interactive table.\"\n",
              "              style=\"display:none;\">\n",
              "        \n",
              "  <svg xmlns=\"http://www.w3.org/2000/svg\" height=\"24px\"viewBox=\"0 0 24 24\"\n",
              "       width=\"24px\">\n",
              "    <path d=\"M0 0h24v24H0V0z\" fill=\"none\"/>\n",
              "    <path d=\"M18.56 5.44l.94 2.06.94-2.06 2.06-.94-2.06-.94-.94-2.06-.94 2.06-2.06.94zm-11 1L8.5 8.5l.94-2.06 2.06-.94-2.06-.94L8.5 2.5l-.94 2.06-2.06.94zm10 10l.94 2.06.94-2.06 2.06-.94-2.06-.94-.94-2.06-.94 2.06-2.06.94z\"/><path d=\"M17.41 7.96l-1.37-1.37c-.4-.4-.92-.59-1.43-.59-.52 0-1.04.2-1.43.59L10.3 9.45l-7.72 7.72c-.78.78-.78 2.05 0 2.83L4 21.41c.39.39.9.59 1.41.59.51 0 1.02-.2 1.41-.59l7.78-7.78 2.81-2.81c.8-.78.8-2.07 0-2.86zM5.41 20L4 18.59l7.72-7.72 1.47 1.35L5.41 20z\"/>\n",
              "  </svg>\n",
              "      </button>\n",
              "      \n",
              "  <style>\n",
              "    .colab-df-container {\n",
              "      display:flex;\n",
              "      flex-wrap:wrap;\n",
              "      gap: 12px;\n",
              "    }\n",
              "\n",
              "    .colab-df-convert {\n",
              "      background-color: #E8F0FE;\n",
              "      border: none;\n",
              "      border-radius: 50%;\n",
              "      cursor: pointer;\n",
              "      display: none;\n",
              "      fill: #1967D2;\n",
              "      height: 32px;\n",
              "      padding: 0 0 0 0;\n",
              "      width: 32px;\n",
              "    }\n",
              "\n",
              "    .colab-df-convert:hover {\n",
              "      background-color: #E2EBFA;\n",
              "      box-shadow: 0px 1px 2px rgba(60, 64, 67, 0.3), 0px 1px 3px 1px rgba(60, 64, 67, 0.15);\n",
              "      fill: #174EA6;\n",
              "    }\n",
              "\n",
              "    [theme=dark] .colab-df-convert {\n",
              "      background-color: #3B4455;\n",
              "      fill: #D2E3FC;\n",
              "    }\n",
              "\n",
              "    [theme=dark] .colab-df-convert:hover {\n",
              "      background-color: #434B5C;\n",
              "      box-shadow: 0px 1px 3px 1px rgba(0, 0, 0, 0.15);\n",
              "      filter: drop-shadow(0px 1px 2px rgba(0, 0, 0, 0.3));\n",
              "      fill: #FFFFFF;\n",
              "    }\n",
              "  </style>\n",
              "\n",
              "      <script>\n",
              "        const buttonEl =\n",
              "          document.querySelector('#df-8037565b-3feb-42ee-954f-1758f2790f6f button.colab-df-convert');\n",
              "        buttonEl.style.display =\n",
              "          google.colab.kernel.accessAllowed ? 'block' : 'none';\n",
              "\n",
              "        async function convertToInteractive(key) {\n",
              "          const element = document.querySelector('#df-8037565b-3feb-42ee-954f-1758f2790f6f');\n",
              "          const dataTable =\n",
              "            await google.colab.kernel.invokeFunction('convertToInteractive',\n",
              "                                                     [key], {});\n",
              "          if (!dataTable) return;\n",
              "\n",
              "          const docLinkHtml = 'Like what you see? Visit the ' +\n",
              "            '<a target=\"_blank\" href=https://colab.research.google.com/notebooks/data_table.ipynb>data table notebook</a>'\n",
              "            + ' to learn more about interactive tables.';\n",
              "          element.innerHTML = '';\n",
              "          dataTable['output_type'] = 'display_data';\n",
              "          await google.colab.output.renderOutput(dataTable, element);\n",
              "          const docLink = document.createElement('div');\n",
              "          docLink.innerHTML = docLinkHtml;\n",
              "          element.appendChild(docLink);\n",
              "        }\n",
              "      </script>\n",
              "    </div>\n",
              "  </div>\n",
              "  "
            ],
            "text/plain": [
              "             Variable  Outcome  Count  Percent\n",
              "0              season      3.0    188    25.72\n",
              "1                          2.0    184    25.17\n",
              "2                          1.0    181    24.76\n",
              "3                          4.0    178    24.35\n",
              "4                year      0.0    366    50.07\n",
              "5                          1.0    365    49.93\n",
              "6               month      1.0     63     8.62\n",
              "7                          3.0     62     8.48\n",
              "8                          5.0     62     8.48\n",
              "9                          7.0     62     8.48\n",
              "10                         8.0     62     8.48\n",
              "11                        10.0     62     8.48\n",
              "12                        12.0     61     8.34\n",
              "13                         4.0     60     8.21\n",
              "14                         6.0     60     8.21\n",
              "15                         9.0     60     8.21\n",
              "16                        11.0     60     8.21\n",
              "17                         2.0     57     7.80\n",
              "18            holiday      0.0    710    97.13\n",
              "19                         1.0     21     2.87\n",
              "20            weekday      0.0    105    14.36\n",
              "21                         1.0    105    14.36\n",
              "22                         6.0    105    14.36\n",
              "23                         2.0    104    14.23\n",
              "24                         3.0    104    14.23\n",
              "25                         4.0    104    14.23\n",
              "26                         5.0    104    14.23\n",
              "27         workingday      1.0    499    68.26\n",
              "28                         0.0    232    31.74\n",
              "29  weather_condition      1.0    463    63.34\n",
              "30                         2.0    247    33.79\n",
              "31                         3.0     21     2.87"
            ]
          },
          "metadata": {},
          "execution_count": 17
        }
      ],
      "source": [
        "! pip install researchpy\n",
        "import researchpy as rp\n",
        "rp.summary_cat(bike[['season', 'year', 'month', 'holiday', 'weekday',\n",
        "       'workingday', 'weather_condition',]])"
      ]
    },
    {
      "cell_type": "code",
      "execution_count": 18,
      "metadata": {
        "colab": {
          "base_uri": "https://localhost:8080/"
        },
        "id": "rH6qlTLplA78",
        "outputId": "a9594e93-9b00-4e3f-d8b3-f7645cdce62e"
      },
      "outputs": [
        {
          "output_type": "execute_result",
          "data": {
            "text/plain": [
              "id                   0\n",
              "datetime             0\n",
              "season               0\n",
              "year                 0\n",
              "month                0\n",
              "holiday              0\n",
              "weekday              0\n",
              "workingday           0\n",
              "weather_condition    0\n",
              "temp                 0\n",
              "atemp                0\n",
              "humidity             0\n",
              "windspeed            0\n",
              "casual               0\n",
              "registered           0\n",
              "total_count          0\n",
              "dtype: int64"
            ]
          },
          "metadata": {},
          "execution_count": 18
        }
      ],
      "source": [
        "bike.isnull().sum()"
      ]
    },
    {
      "cell_type": "code",
      "execution_count": 19,
      "metadata": {
        "colab": {
          "base_uri": "https://localhost:8080/"
        },
        "id": "sziNT1IVlA7-",
        "outputId": "ea9f6d48-91ba-4c8c-b2ed-2eafb856df91"
      },
      "outputs": [
        {
          "output_type": "execute_result",
          "data": {
            "text/plain": [
              "0"
            ]
          },
          "metadata": {},
          "execution_count": 19
        }
      ],
      "source": [
        "bike.duplicated().sum()"
      ]
    },
    {
      "cell_type": "code",
      "execution_count": 20,
      "metadata": {
        "colab": {
          "base_uri": "https://localhost:8080/",
          "height": 364
        },
        "id": "6oLvqa9zAO5Q",
        "outputId": "d774ad59-7b8c-4d4a-dc54-4e5355299023"
      },
      "outputs": [
        {
          "output_type": "execute_result",
          "data": {
            "text/html": [
              "\n",
              "  <div id=\"df-09feb0ec-0c74-4a8e-abd8-6d17cd44ef3c\">\n",
              "    <div class=\"colab-df-container\">\n",
              "      <div>\n",
              "<style scoped>\n",
              "    .dataframe tbody tr th:only-of-type {\n",
              "        vertical-align: middle;\n",
              "    }\n",
              "\n",
              "    .dataframe tbody tr th {\n",
              "        vertical-align: top;\n",
              "    }\n",
              "\n",
              "    .dataframe thead th {\n",
              "        text-align: right;\n",
              "    }\n",
              "</style>\n",
              "<table border=\"1\" class=\"dataframe\">\n",
              "  <thead>\n",
              "    <tr style=\"text-align: right;\">\n",
              "      <th></th>\n",
              "      <th>count</th>\n",
              "      <th>mean</th>\n",
              "      <th>std</th>\n",
              "      <th>min</th>\n",
              "      <th>25%</th>\n",
              "      <th>50%</th>\n",
              "      <th>75%</th>\n",
              "      <th>max</th>\n",
              "    </tr>\n",
              "  </thead>\n",
              "  <tbody>\n",
              "    <tr>\n",
              "      <th>id</th>\n",
              "      <td>731.0</td>\n",
              "      <td>366.000000</td>\n",
              "      <td>211.165812</td>\n",
              "      <td>1.000000</td>\n",
              "      <td>183.500000</td>\n",
              "      <td>366.000000</td>\n",
              "      <td>548.500000</td>\n",
              "      <td>731.000000</td>\n",
              "    </tr>\n",
              "    <tr>\n",
              "      <th>temp</th>\n",
              "      <td>731.0</td>\n",
              "      <td>0.495587</td>\n",
              "      <td>0.182969</td>\n",
              "      <td>0.059130</td>\n",
              "      <td>0.337083</td>\n",
              "      <td>0.498333</td>\n",
              "      <td>0.655417</td>\n",
              "      <td>0.861667</td>\n",
              "    </tr>\n",
              "    <tr>\n",
              "      <th>atemp</th>\n",
              "      <td>731.0</td>\n",
              "      <td>0.474512</td>\n",
              "      <td>0.162905</td>\n",
              "      <td>0.079070</td>\n",
              "      <td>0.337842</td>\n",
              "      <td>0.486733</td>\n",
              "      <td>0.608602</td>\n",
              "      <td>0.840896</td>\n",
              "    </tr>\n",
              "    <tr>\n",
              "      <th>humidity</th>\n",
              "      <td>731.0</td>\n",
              "      <td>0.627987</td>\n",
              "      <td>0.142038</td>\n",
              "      <td>0.000000</td>\n",
              "      <td>0.522291</td>\n",
              "      <td>0.627987</td>\n",
              "      <td>0.729791</td>\n",
              "      <td>0.972500</td>\n",
              "    </tr>\n",
              "    <tr>\n",
              "      <th>windspeed</th>\n",
              "      <td>731.0</td>\n",
              "      <td>0.190476</td>\n",
              "      <td>0.077458</td>\n",
              "      <td>0.022392</td>\n",
              "      <td>0.134950</td>\n",
              "      <td>0.181596</td>\n",
              "      <td>0.233206</td>\n",
              "      <td>0.507463</td>\n",
              "    </tr>\n",
              "    <tr>\n",
              "      <th>casual</th>\n",
              "      <td>731.0</td>\n",
              "      <td>848.176471</td>\n",
              "      <td>686.622488</td>\n",
              "      <td>2.000000</td>\n",
              "      <td>315.500000</td>\n",
              "      <td>713.000000</td>\n",
              "      <td>1096.000000</td>\n",
              "      <td>3410.000000</td>\n",
              "    </tr>\n",
              "    <tr>\n",
              "      <th>registered</th>\n",
              "      <td>731.0</td>\n",
              "      <td>3656.172367</td>\n",
              "      <td>1560.256377</td>\n",
              "      <td>20.000000</td>\n",
              "      <td>2497.000000</td>\n",
              "      <td>3662.000000</td>\n",
              "      <td>4776.500000</td>\n",
              "      <td>6946.000000</td>\n",
              "    </tr>\n",
              "    <tr>\n",
              "      <th>total_count</th>\n",
              "      <td>731.0</td>\n",
              "      <td>4504.348837</td>\n",
              "      <td>1937.211452</td>\n",
              "      <td>22.000000</td>\n",
              "      <td>3152.000000</td>\n",
              "      <td>4548.000000</td>\n",
              "      <td>5956.000000</td>\n",
              "      <td>8714.000000</td>\n",
              "    </tr>\n",
              "  </tbody>\n",
              "</table>\n",
              "</div>\n",
              "      <button class=\"colab-df-convert\" onclick=\"convertToInteractive('df-09feb0ec-0c74-4a8e-abd8-6d17cd44ef3c')\"\n",
              "              title=\"Convert this dataframe to an interactive table.\"\n",
              "              style=\"display:none;\">\n",
              "        \n",
              "  <svg xmlns=\"http://www.w3.org/2000/svg\" height=\"24px\"viewBox=\"0 0 24 24\"\n",
              "       width=\"24px\">\n",
              "    <path d=\"M0 0h24v24H0V0z\" fill=\"none\"/>\n",
              "    <path d=\"M18.56 5.44l.94 2.06.94-2.06 2.06-.94-2.06-.94-.94-2.06-.94 2.06-2.06.94zm-11 1L8.5 8.5l.94-2.06 2.06-.94-2.06-.94L8.5 2.5l-.94 2.06-2.06.94zm10 10l.94 2.06.94-2.06 2.06-.94-2.06-.94-.94-2.06-.94 2.06-2.06.94z\"/><path d=\"M17.41 7.96l-1.37-1.37c-.4-.4-.92-.59-1.43-.59-.52 0-1.04.2-1.43.59L10.3 9.45l-7.72 7.72c-.78.78-.78 2.05 0 2.83L4 21.41c.39.39.9.59 1.41.59.51 0 1.02-.2 1.41-.59l7.78-7.78 2.81-2.81c.8-.78.8-2.07 0-2.86zM5.41 20L4 18.59l7.72-7.72 1.47 1.35L5.41 20z\"/>\n",
              "  </svg>\n",
              "      </button>\n",
              "      \n",
              "  <style>\n",
              "    .colab-df-container {\n",
              "      display:flex;\n",
              "      flex-wrap:wrap;\n",
              "      gap: 12px;\n",
              "    }\n",
              "\n",
              "    .colab-df-convert {\n",
              "      background-color: #E8F0FE;\n",
              "      border: none;\n",
              "      border-radius: 50%;\n",
              "      cursor: pointer;\n",
              "      display: none;\n",
              "      fill: #1967D2;\n",
              "      height: 32px;\n",
              "      padding: 0 0 0 0;\n",
              "      width: 32px;\n",
              "    }\n",
              "\n",
              "    .colab-df-convert:hover {\n",
              "      background-color: #E2EBFA;\n",
              "      box-shadow: 0px 1px 2px rgba(60, 64, 67, 0.3), 0px 1px 3px 1px rgba(60, 64, 67, 0.15);\n",
              "      fill: #174EA6;\n",
              "    }\n",
              "\n",
              "    [theme=dark] .colab-df-convert {\n",
              "      background-color: #3B4455;\n",
              "      fill: #D2E3FC;\n",
              "    }\n",
              "\n",
              "    [theme=dark] .colab-df-convert:hover {\n",
              "      background-color: #434B5C;\n",
              "      box-shadow: 0px 1px 3px 1px rgba(0, 0, 0, 0.15);\n",
              "      filter: drop-shadow(0px 1px 2px rgba(0, 0, 0, 0.3));\n",
              "      fill: #FFFFFF;\n",
              "    }\n",
              "  </style>\n",
              "\n",
              "      <script>\n",
              "        const buttonEl =\n",
              "          document.querySelector('#df-09feb0ec-0c74-4a8e-abd8-6d17cd44ef3c button.colab-df-convert');\n",
              "        buttonEl.style.display =\n",
              "          google.colab.kernel.accessAllowed ? 'block' : 'none';\n",
              "\n",
              "        async function convertToInteractive(key) {\n",
              "          const element = document.querySelector('#df-09feb0ec-0c74-4a8e-abd8-6d17cd44ef3c');\n",
              "          const dataTable =\n",
              "            await google.colab.kernel.invokeFunction('convertToInteractive',\n",
              "                                                     [key], {});\n",
              "          if (!dataTable) return;\n",
              "\n",
              "          const docLinkHtml = 'Like what you see? Visit the ' +\n",
              "            '<a target=\"_blank\" href=https://colab.research.google.com/notebooks/data_table.ipynb>data table notebook</a>'\n",
              "            + ' to learn more about interactive tables.';\n",
              "          element.innerHTML = '';\n",
              "          dataTable['output_type'] = 'display_data';\n",
              "          await google.colab.output.renderOutput(dataTable, element);\n",
              "          const docLink = document.createElement('div');\n",
              "          docLink.innerHTML = docLinkHtml;\n",
              "          element.appendChild(docLink);\n",
              "        }\n",
              "      </script>\n",
              "    </div>\n",
              "  </div>\n",
              "  "
            ],
            "text/plain": [
              "             count         mean  ...          75%          max\n",
              "id           731.0   366.000000  ...   548.500000   731.000000\n",
              "temp         731.0     0.495587  ...     0.655417     0.861667\n",
              "atemp        731.0     0.474512  ...     0.608602     0.840896\n",
              "humidity     731.0     0.627987  ...     0.729791     0.972500\n",
              "windspeed    731.0     0.190476  ...     0.233206     0.507463\n",
              "casual       731.0   848.176471  ...  1096.000000  3410.000000\n",
              "registered   731.0  3656.172367  ...  4776.500000  6946.000000\n",
              "total_count  731.0  4504.348837  ...  5956.000000  8714.000000\n",
              "\n",
              "[8 rows x 8 columns]"
            ]
          },
          "metadata": {},
          "execution_count": 20
        }
      ],
      "source": [
        "bike.describe().T"
      ]
    },
    {
      "cell_type": "code",
      "execution_count": 21,
      "metadata": {
        "colab": {
          "base_uri": "https://localhost:8080/",
          "height": 364
        },
        "id": "NQMvLUhQlA8B",
        "outputId": "ca9c5c96-de60-4b35-9ac3-f459216a01d0"
      },
      "outputs": [
        {
          "output_type": "display_data",
          "data": {
            "image/png": "[encoded data removed]",
            "text/plain": [
              "<Figure size 1080x576 with 1 Axes>"
            ]
          },
          "metadata": {
            "needs_background": "light"
          }
        }
      ],
      "source": [
        "#Presentation of Holiday , count by season (Barplot)\n",
        "fig,ax=plt.subplots(figsize=(15,8))\n",
        "\n",
        "sns.barplot(data=bike,x='holiday',y='total_count',hue='season', palette='dark')\n",
        "ax.set_title('Holiday-wise distribution of counts')\n",
        "total = float(len(bike['season']))\n"
      ]
    },
    {
      "cell_type": "code",
      "execution_count": 22,
      "metadata": {
        "colab": {
          "base_uri": "https://localhost:8080/",
          "height": 364
        },
        "id": "JXLzyPgKlA8F",
        "outputId": "19bd284b-ff40-47e3-8e8e-92eaf22a5359"
      },
      "outputs": [
        {
          "output_type": "display_data",
          "data": {
            "image/png": "[encoded data removed]",
            "text/plain": [
              "<Figure size 1080x576 with 1 Axes>"
            ]
          },
          "metadata": {
            "needs_background": "light"
          }
        }
      ],
      "source": [
        "#Presentation of Holiday , count by season (Barplot)\n",
        "fig,ax=plt.subplots(figsize=(15,8))\n",
        "\n",
        "sns.barplot(data=bike,x='weekday',y='total_count',hue='season', palette='dark')\n",
        "ax.set_title('weekday distribution of counts')\n",
        "plt.show()"
      ]
    },
    {
      "cell_type": "code",
      "execution_count": 23,
      "metadata": {
        "colab": {
          "base_uri": "https://localhost:8080/",
          "height": 364
        },
        "id": "FEbj-f8wlA8I",
        "outputId": "c257dd73-d935-4e2f-87af-70c5d3c9a498"
      },
      "outputs": [
        {
          "output_type": "display_data",
          "data": {
            "image/png": "[encoded data removed]",
            "text/plain": [
              "<Figure size 1080x576 with 1 Axes>"
            ]
          },
          "metadata": {
            "needs_background": "light"
          }
        }
      ],
      "source": [
        "#Presentation of Holiday , count by season (Barplot)\n",
        "fig,ax=plt.subplots(figsize=(15,8))\n",
        "\n",
        "sns.barplot(data=bike,x='workingday',y='total_count',hue='season', palette='dark')\n",
        "ax.set_title('Workingday distribution of counts')\n",
        "plt.show()"
      ]
    },
    {
      "cell_type": "code",
      "execution_count": 24,
      "metadata": {
        "colab": {
          "base_uri": "https://localhost:8080/",
          "height": 365
        },
        "id": "xZa2wr4MlA8K",
        "outputId": "e3a615d3-aa04-455e-b8ca-76efcb10af9f"
      },
      "outputs": [
        {
          "output_type": "display_data",
          "data": {
            "image/png": "[encoded data removed]",
            "text/plain": [
              "<Figure size 1080x576 with 1 Axes>"
            ]
          },
          "metadata": {
            "needs_background": "light"
          }
        }
      ],
      "source": [
        "fig,ax1=plt.subplots(figsize=(15,8))\n",
        "#Bar plot for weather_condition distribution of counts\n",
        "sns.barplot(x='weather_condition',y='total_count',data=bike,ax=ax1)\n",
        "ax1.set_title('Weather_condition wise monthly distribution of counts')\n",
        "plt.show()"
      ]
    },
    {
      "cell_type": "code",
      "execution_count": 25,
      "metadata": {
        "colab": {
          "base_uri": "https://localhost:8080/",
          "height": 520
        },
        "id": "tuJdJDOKlA8M",
        "outputId": "be5a0cf7-6b19-4ad4-df3c-fd6a8a6209e4"
      },
      "outputs": [
        {
          "output_type": "display_data",
          "data": {
            "image/png": "[encoded data removed]",
            "text/plain": [
              "<Figure size 1080x576 with 1 Axes>"
            ]
          },
          "metadata": {
            "needs_background": "light"
          }
        }
      ],
      "source": [
        "#Outlier analysis\n",
        "fig,ax=plt.subplots(figsize=(15,8))\n",
        "#Boxplot for total_count outliers\n",
        "sns.boxplot(data=bike[['total_count']], color='r')\n",
        "ax.set_title('Total_count outliers')\n",
        "plt.show()"
      ]
    },
    {
      "cell_type": "code",
      "source": [
        "fig,ax=plt.subplots(figsize=(15,8))\n",
        "#Box plot for Temp_windspeed_humidity_outliers\n",
        "sns.boxplot(data=bike[['temp','windspeed','humidity']], color='g')\n",
        "\n",
        "ax.set_title('Temp_windspeed_humidity_outiers')\n",
        "plt.show()"
      ],
      "metadata": {
        "colab": {
          "base_uri": "https://localhost:8080/",
          "height": 364
        },
        "id": "LhSoWUYdC9k3",
        "outputId": "65338c8f-bc3c-4d5a-b8ee-058dd324dab7"
      },
      "execution_count": 57,
      "outputs": [
        {
          "output_type": "display_data",
          "data": {
            "image/png": "[encoded data removed]",
            "text/plain": [
              "<Figure size 1080x576 with 1 Axes>"
            ]
          },
          "metadata": {
            "needs_background": "light"
          }
        }
      ]
    },
    {
      "cell_type": "code",
      "source": [
        "import scipy\n",
        "from scipy import stats\n",
        "#Normal plot\n",
        "fig=plt.figure(figsize=(15,8))\n",
        "stats.probplot(bike.total_count.tolist(),dist='norm',plot=plt)\n",
        "plt.show()"
      ],
      "metadata": {
        "colab": {
          "base_uri": "https://localhost:8080/",
          "height": 362
        },
        "id": "b3-W_9XnEwOT",
        "outputId": "2c426c19-54b3-4057-e10b-e678dade73f3"
      },
      "execution_count": 58,
      "outputs": [
        {
          "output_type": "display_data",
          "data": {
            "image/png": "[encoded data removed]",
            "text/plain": [
              "<Figure size 1080x576 with 1 Axes>"
            ]
          },
          "metadata": {
            "needs_background": "light"
          }
        }
      ]
    },
    {
      "cell_type": "code",
      "source": [
        "#Create the correlation matrix\n",
        "corr=bike[[\"temp\",\"atemp\",\"humidity\",\"windspeed\",\"casual\",\"registered\",\"total_count\"]].corr()\n",
        "mask=np.array(corr)\n",
        "mask[np.tril_indices_from(mask)]=False\n",
        "#Heat map for correlation matrix of attributes\n",
        "plt.figure(figsize=(10,10))\n",
        "sns.heatmap(corr,annot=True)\n",
        "ax.set_title('Correlation matrix of features')\n",
        "plt.show()"
      ],
      "metadata": {
        "colab": {
          "base_uri": "https://localhost:8080/",
          "height": 596
        },
        "id": "wROIrijtE5tb",
        "outputId": "7f31a32c-7d1a-4cff-edfa-594c55ead1f4"
      },
      "execution_count": 61,
      "outputs": [
        {
          "output_type": "display_data",
          "data": {
            "image/png": "[encoded data removed]",
            "text/plain": [
              "<Figure size 720x720 with 2 Axes>"
            ]
          },
          "metadata": {
            "needs_background": "light"
          }
        }
      ]
    },
    {
      "cell_type": "code",
      "source": [
        "## Split the dataset into the train and test data\n",
        "from sklearn import preprocessing,metrics,linear_model\n",
        "from sklearn.model_selection import cross_val_score,cross_val_predict,train_test_split\n",
        "\n",
        "\n",
        "from sklearn.model_selection import train_test_split\n",
        "X_train,X_test,y_train,y_test=train_test_split(bike.iloc[:,0:-3],bike.iloc[:,-1],test_size=0.3, random_state=42)\n",
        "\n",
        "# Train Data\n",
        "X_train.reset_index(inplace=True)\n",
        "y_train=y_train.reset_index()\n",
        "\n",
        "# Test Data\n",
        "X_test.reset_index(inplace=True)\n",
        "y_test=y_test.reset_index()\n",
        "\n",
        "print(X_train.shape,X_test.shape,y_train.shape,y_test.shape)\n",
        "print(y_train.head())\n",
        "print(y_test.head())\n"
      ],
      "metadata": {
        "colab": {
          "base_uri": "https://localhost:8080/"
        },
        "id": "NpOXeQUFG2fE",
        "outputId": "cf3fc8d0-d494-44a8-e8d9-fb1eaddc7085"
      },
      "execution_count": 67,
      "outputs": [
        {
          "output_type": "stream",
          "name": "stdout",
          "text": [
            "(511, 14) (220, 14) (511, 2) (220, 2)\n",
            "   index  total_count\n",
            "0    223         4905\n",
            "1    684         5445\n",
            "2    685         5698\n",
            "3    163         5020\n",
            "4    394         3624\n",
            "   index  total_count\n",
            "0    703         6606\n",
            "1     33         1550\n",
            "2    300         3747\n",
            "3    456         6041\n",
            "4    633         7538\n"
          ]
        }
      ]
    },
    {
      "cell_type": "code",
      "source": [
        "## Split the features into categorical and numerical features\n",
        "#Create a new dataset for train feature\n",
        "train_feature=X_train[['season','month','year','weekday','holiday','workingday','weather_condition','humidity','temp','windspeed']]\n",
        "#Create a new dataset for test feature\n",
        "test_feature=X_test[['season','month','year','weekday','holiday','workingday','humidity','temp','windspeed','weather_condition']]\n",
        "#categorical feature\n",
        "cat_feature=['season','holiday','workingday','weather_condition','year']\n",
        "#numerical feature\n",
        "num_feature=['temp','windspeed','humidity','month','weekday']\n"
      ],
      "metadata": {
        "id": "2IsPa9-qIAhH"
      },
      "execution_count": 69,
      "outputs": []
    },
    {
      "cell_type": "code",
      "source": [
        "#To get dummy variables to encode the categorical features to numeric\n",
        "train_encoded=pd.get_dummies(train_feature,columns=cat_feature)\n",
        "print('Shape of transfomed dataframe::',train_encoded.shape)\n",
        "train_encoded.head()"
      ],
      "metadata": {
        "colab": {
          "base_uri": "https://localhost:8080/",
          "height": 288
        },
        "id": "76WPh8wYI8Zl",
        "outputId": "3f955984-4934-4acb-982e-e802cfc3c36e"
      },
      "execution_count": 70,
      "outputs": [
        {
          "output_type": "stream",
          "name": "stdout",
          "text": [
            "Shape of transfomed dataframe:: (511, 18)\n"
          ]
        },
        {
          "output_type": "execute_result",
          "data": {
            "text/html": [
              "\n",
              "  <div id=\"df-8ebdc456-2191-4be5-82dc-f357005379ff\">\n",
              "    <div class=\"colab-df-container\">\n",
              "      <div>\n",
              "<style scoped>\n",
              "    .dataframe tbody tr th:only-of-type {\n",
              "        vertical-align: middle;\n",
              "    }\n",
              "\n",
              "    .dataframe tbody tr th {\n",
              "        vertical-align: top;\n",
              "    }\n",
              "\n",
              "    .dataframe thead th {\n",
              "        text-align: right;\n",
              "    }\n",
              "</style>\n",
              "<table border=\"1\" class=\"dataframe\">\n",
              "  <thead>\n",
              "    <tr style=\"text-align: right;\">\n",
              "      <th></th>\n",
              "      <th>month</th>\n",
              "      <th>weekday</th>\n",
              "      <th>humidity</th>\n",
              "      <th>temp</th>\n",
              "      <th>windspeed</th>\n",
              "      <th>season_1.0</th>\n",
              "      <th>season_2.0</th>\n",
              "      <th>season_3.0</th>\n",
              "      <th>season_4.0</th>\n",
              "      <th>holiday_0.0</th>\n",
              "      <th>holiday_1.0</th>\n",
              "      <th>workingday_0.0</th>\n",
              "      <th>workingday_1.0</th>\n",
              "      <th>weather_condition_1</th>\n",
              "      <th>weather_condition_2</th>\n",
              "      <th>weather_condition_3</th>\n",
              "      <th>year_0.0</th>\n",
              "      <th>year_1.0</th>\n",
              "    </tr>\n",
              "  </thead>\n",
              "  <tbody>\n",
              "    <tr>\n",
              "      <th>0</th>\n",
              "      <td>8.0</td>\n",
              "      <td>5.0</td>\n",
              "      <td>0.415000</td>\n",
              "      <td>0.708333</td>\n",
              "      <td>0.125621</td>\n",
              "      <td>0</td>\n",
              "      <td>0</td>\n",
              "      <td>1</td>\n",
              "      <td>0</td>\n",
              "      <td>1</td>\n",
              "      <td>0</td>\n",
              "      <td>0</td>\n",
              "      <td>1</td>\n",
              "      <td>1</td>\n",
              "      <td>0</td>\n",
              "      <td>0</td>\n",
              "      <td>1</td>\n",
              "      <td>0</td>\n",
              "    </tr>\n",
              "    <tr>\n",
              "      <th>1</th>\n",
              "      <td>11.0</td>\n",
              "      <td>4.0</td>\n",
              "      <td>0.620417</td>\n",
              "      <td>0.321667</td>\n",
              "      <td>0.152987</td>\n",
              "      <td>0</td>\n",
              "      <td>0</td>\n",
              "      <td>0</td>\n",
              "      <td>1</td>\n",
              "      <td>1</td>\n",
              "      <td>0</td>\n",
              "      <td>0</td>\n",
              "      <td>1</td>\n",
              "      <td>0</td>\n",
              "      <td>1</td>\n",
              "      <td>0</td>\n",
              "      <td>0</td>\n",
              "      <td>1</td>\n",
              "    </tr>\n",
              "    <tr>\n",
              "      <th>2</th>\n",
              "      <td>11.0</td>\n",
              "      <td>5.0</td>\n",
              "      <td>0.524583</td>\n",
              "      <td>0.345000</td>\n",
              "      <td>0.171025</td>\n",
              "      <td>0</td>\n",
              "      <td>0</td>\n",
              "      <td>0</td>\n",
              "      <td>1</td>\n",
              "      <td>1</td>\n",
              "      <td>0</td>\n",
              "      <td>0</td>\n",
              "      <td>1</td>\n",
              "      <td>1</td>\n",
              "      <td>0</td>\n",
              "      <td>0</td>\n",
              "      <td>0</td>\n",
              "      <td>1</td>\n",
              "    </tr>\n",
              "    <tr>\n",
              "      <th>3</th>\n",
              "      <td>6.0</td>\n",
              "      <td>1.0</td>\n",
              "      <td>0.494583</td>\n",
              "      <td>0.635000</td>\n",
              "      <td>0.305350</td>\n",
              "      <td>0</td>\n",
              "      <td>1</td>\n",
              "      <td>0</td>\n",
              "      <td>0</td>\n",
              "      <td>1</td>\n",
              "      <td>0</td>\n",
              "      <td>0</td>\n",
              "      <td>1</td>\n",
              "      <td>1</td>\n",
              "      <td>0</td>\n",
              "      <td>0</td>\n",
              "      <td>1</td>\n",
              "      <td>0</td>\n",
              "    </tr>\n",
              "    <tr>\n",
              "      <th>4</th>\n",
              "      <td>1.0</td>\n",
              "      <td>1.0</td>\n",
              "      <td>0.400833</td>\n",
              "      <td>0.269167</td>\n",
              "      <td>0.215792</td>\n",
              "      <td>1</td>\n",
              "      <td>0</td>\n",
              "      <td>0</td>\n",
              "      <td>0</td>\n",
              "      <td>1</td>\n",
              "      <td>0</td>\n",
              "      <td>0</td>\n",
              "      <td>1</td>\n",
              "      <td>1</td>\n",
              "      <td>0</td>\n",
              "      <td>0</td>\n",
              "      <td>0</td>\n",
              "      <td>1</td>\n",
              "    </tr>\n",
              "  </tbody>\n",
              "</table>\n",
              "</div>\n",
              "      <button class=\"colab-df-convert\" onclick=\"convertToInteractive('df-8ebdc456-2191-4be5-82dc-f357005379ff')\"\n",
              "              title=\"Convert this dataframe to an interactive table.\"\n",
              "              style=\"display:none;\">\n",
              "        \n",
              "  <svg xmlns=\"http://www.w3.org/2000/svg\" height=\"24px\"viewBox=\"0 0 24 24\"\n",
              "       width=\"24px\">\n",
              "    <path d=\"M0 0h24v24H0V0z\" fill=\"none\"/>\n",
              "    <path d=\"M18.56 5.44l.94 2.06.94-2.06 2.06-.94-2.06-.94-.94-2.06-.94 2.06-2.06.94zm-11 1L8.5 8.5l.94-2.06 2.06-.94-2.06-.94L8.5 2.5l-.94 2.06-2.06.94zm10 10l.94 2.06.94-2.06 2.06-.94-2.06-.94-.94-2.06-.94 2.06-2.06.94z\"/><path d=\"M17.41 7.96l-1.37-1.37c-.4-.4-.92-.59-1.43-.59-.52 0-1.04.2-1.43.59L10.3 9.45l-7.72 7.72c-.78.78-.78 2.05 0 2.83L4 21.41c.39.39.9.59 1.41.59.51 0 1.02-.2 1.41-.59l7.78-7.78 2.81-2.81c.8-.78.8-2.07 0-2.86zM5.41 20L4 18.59l7.72-7.72 1.47 1.35L5.41 20z\"/>\n",
              "  </svg>\n",
              "      </button>\n",
              "      \n",
              "  <style>\n",
              "    .colab-df-container {\n",
              "      display:flex;\n",
              "      flex-wrap:wrap;\n",
              "      gap: 12px;\n",
              "    }\n",
              "\n",
              "    .colab-df-convert {\n",
              "      background-color: #E8F0FE;\n",
              "      border: none;\n",
              "      border-radius: 50%;\n",
              "      cursor: pointer;\n",
              "      display: none;\n",
              "      fill: #1967D2;\n",
              "      height: 32px;\n",
              "      padding: 0 0 0 0;\n",
              "      width: 32px;\n",
              "    }\n",
              "\n",
              "    .colab-df-convert:hover {\n",
              "      background-color: #E2EBFA;\n",
              "      box-shadow: 0px 1px 2px rgba(60, 64, 67, 0.3), 0px 1px 3px 1px rgba(60, 64, 67, 0.15);\n",
              "      fill: #174EA6;\n",
              "    }\n",
              "\n",
              "    [theme=dark] .colab-df-convert {\n",
              "      background-color: #3B4455;\n",
              "      fill: #D2E3FC;\n",
              "    }\n",
              "\n",
              "    [theme=dark] .colab-df-convert:hover {\n",
              "      background-color: #434B5C;\n",
              "      box-shadow: 0px 1px 3px 1px rgba(0, 0, 0, 0.15);\n",
              "      filter: drop-shadow(0px 1px 2px rgba(0, 0, 0, 0.3));\n",
              "      fill: #FFFFFF;\n",
              "    }\n",
              "  </style>\n",
              "\n",
              "      <script>\n",
              "        const buttonEl =\n",
              "          document.querySelector('#df-8ebdc456-2191-4be5-82dc-f357005379ff button.colab-df-convert');\n",
              "        buttonEl.style.display =\n",
              "          google.colab.kernel.accessAllowed ? 'block' : 'none';\n",
              "\n",
              "        async function convertToInteractive(key) {\n",
              "          const element = document.querySelector('#df-8ebdc456-2191-4be5-82dc-f357005379ff');\n",
              "          const dataTable =\n",
              "            await google.colab.kernel.invokeFunction('convertToInteractive',\n",
              "                                                     [key], {});\n",
              "          if (!dataTable) return;\n",
              "\n",
              "          const docLinkHtml = 'Like what you see? Visit the ' +\n",
              "            '<a target=\"_blank\" href=https://colab.research.google.com/notebooks/data_table.ipynb>data table notebook</a>'\n",
              "            + ' to learn more about interactive tables.';\n",
              "          element.innerHTML = '';\n",
              "          dataTable['output_type'] = 'display_data';\n",
              "          await google.colab.output.renderOutput(dataTable, element);\n",
              "          const docLink = document.createElement('div');\n",
              "          docLink.innerHTML = docLinkHtml;\n",
              "          element.appendChild(docLink);\n",
              "        }\n",
              "      </script>\n",
              "    </div>\n",
              "  </div>\n",
              "  "
            ],
            "text/plain": [
              "  month weekday  humidity  ...  weather_condition_3  year_0.0  year_1.0\n",
              "0   8.0     5.0  0.415000  ...                    0         1         0\n",
              "1  11.0     4.0  0.620417  ...                    0         0         1\n",
              "2  11.0     5.0  0.524583  ...                    0         0         1\n",
              "3   6.0     1.0  0.494583  ...                    0         1         0\n",
              "4   1.0     1.0  0.400833  ...                    0         0         1\n",
              "\n",
              "[5 rows x 18 columns]"
            ]
          },
          "metadata": {},
          "execution_count": 70
        }
      ]
    },
    {
      "cell_type": "code",
      "source": [
        "#Training dataset for modelling\n",
        "X_train=train_encoded\n",
        "y_train=y_train.total_count.values"
      ],
      "metadata": {
        "id": "U2giL-S6J581"
      },
      "execution_count": 71,
      "outputs": []
    },
    {
      "cell_type": "code",
      "source": [
        "## Linear Regression Model\n",
        "\n",
        "#training model\n",
        "lm_model=linear_model.LinearRegression()\n",
        "lm_model"
      ],
      "metadata": {
        "colab": {
          "base_uri": "https://localhost:8080/"
        },
        "id": "QzLaCTSaJ-h8",
        "outputId": "4086963d-16ad-4ab4-c186-9a9693dbdcf7"
      },
      "execution_count": 74,
      "outputs": [
        {
          "output_type": "execute_result",
          "data": {
            "text/plain": [
              "LinearRegression()"
            ]
          },
          "metadata": {},
          "execution_count": 74
        }
      ]
    },
    {
      "cell_type": "code",
      "source": [
        "#fit the trained model\n",
        "lm_model.fit(X_train,y_train)"
      ],
      "metadata": {
        "colab": {
          "base_uri": "https://localhost:8080/"
        },
        "id": "FVK6egcZJ-pI",
        "outputId": "aa25c2a5-8c4b-4e93-979c-0edc92c4d320"
      },
      "execution_count": 75,
      "outputs": [
        {
          "output_type": "execute_result",
          "data": {
            "text/plain": [
              "LinearRegression()"
            ]
          },
          "metadata": {},
          "execution_count": 75
        }
      ]
    },
    {
      "cell_type": "code",
      "source": [
        "## Accuracy of model\n",
        "\n",
        "#Accuracy of the model\n",
        "lm=lm_model.score(X_train,y_train)\n",
        "print('Accuracy of the model :',lm)\n",
        "print('Model coefficients :',lm_model.coef_)\n",
        "print('Model intercept value :',lm_model.intercept_)"
      ],
      "metadata": {
        "colab": {
          "base_uri": "https://localhost:8080/"
        },
        "id": "-BP96qmqOryB",
        "outputId": "f5643217-a553-4951-ffd0-86932845d2c9"
      },
      "execution_count": 76,
      "outputs": [
        {
          "output_type": "stream",
          "name": "stdout",
          "text": [
            "Accuracy of the model : 0.8140894326748532\n",
            "Model coefficients : [  -28.14987031    68.25903696 -1000.34007663  5200.41404388\n",
            " -2571.96133143  -965.08541766   228.82990911   -63.96804255\n",
            "   800.22355111   231.61011466  -231.61011466   -74.57504312\n",
            "    74.57504312   781.42175024   275.69911278 -1057.12086302\n",
            "  -984.52177544   984.52177544]\n",
            "Model intercept value : 2217.2036838752147\n"
          ]
        }
      ]
    },
    {
      "cell_type": "code",
      "source": [
        "#Cross validation prediction\n",
        "predict=cross_val_predict(lm_model,X_train,y_train,cv=3)\n",
        "predict"
      ],
      "metadata": {
        "colab": {
          "base_uri": "https://localhost:8080/"
        },
        "id": "Xib8An8WPPNl",
        "outputId": "003b1c07-e969-438b-ca59-83ef8f57ef33"
      },
      "execution_count": 77,
      "outputs": [
        {
          "output_type": "execute_result",
          "data": {
            "text/plain": [
              "array([ 5251.49306921,  5025.50897197,  5804.87497307,  4358.64010405,\n",
              "        3739.44075835,  6758.80036287,  6248.13012834,  3796.23674061,\n",
              "        4679.08942946,  3415.85390803,  5391.11394033,  3126.76860605,\n",
              "        4348.62443243,  5781.17804709,  4357.43761649,  6301.32648027,\n",
              "        4376.91725604,  3355.72896004,   724.92028853,   561.92101979,\n",
              "        7404.69130411,  3738.83385214,  5267.54064496,  5494.45295096,\n",
              "        6936.64559733,  7309.54868781,  3638.89149978,  3558.88698367,\n",
              "        1004.91587816,  4885.46677104,  1654.64864743,  1706.56052095,\n",
              "        1698.23875652,  1291.4880176 ,  4899.49638963,  5495.76638582,\n",
              "        5991.42036029,  4189.43627056,  5080.78667366,  5953.52054593,\n",
              "        6392.10186294,  4208.67988975,  5946.91641341,  6042.27071342,\n",
              "        3350.73355216,  4094.03062749,  1463.81702537,  3597.46267737,\n",
              "        4595.3195736 ,  6645.73527274,  1711.5780511 ,  6125.2167578 ,\n",
              "        6445.98703434,  3275.94787464,  4575.15566887,  3196.2982477 ,\n",
              "        1050.64522641,  2102.26137109,   677.87931752,  5226.52902446,\n",
              "        5304.61926926,  4884.8130561 ,  3744.28070356,  6107.62940933,\n",
              "        5965.15980803,  6291.22517159,  3965.69807652,  3155.63335948,\n",
              "        3526.12547124,  4005.10740532,  2091.75913617,  3821.34078185,\n",
              "        6802.40570386,  4130.02415944,  4780.19706431,  2460.11186569,\n",
              "        3551.10331574,  4557.43915838,   548.46289331,  3774.44530784,\n",
              "        4213.74145125,  5018.81941024,  4016.33575813,  2527.93794551,\n",
              "        6376.317359  ,  3763.91443035,  3978.20796918,  6857.01048343,\n",
              "        4462.6104402 ,  3653.93071301,  1677.66755337,  3327.39307893,\n",
              "        1413.675607  ,  6569.90817361,  6227.50275867,  4523.72805773,\n",
              "        3628.1900226 ,  5028.45514099,  3151.30836748,  1892.41835907,\n",
              "        2646.81400392,  3768.34585126,  5684.73887758,  4860.44917084,\n",
              "        3436.46588232,  6023.94619381,  6474.25649776,  6996.38207943,\n",
              "        4455.69307366,  6352.70815325,  3202.61349908,  3879.17149712,\n",
              "        1972.83116182,  3315.4272205 ,  4779.72567331,   892.66222906,\n",
              "        5954.77827488,  4107.33830663,  1616.93826   ,  2688.82771555,\n",
              "        4503.06898221,  3436.01068014,  4831.23156422,  5654.83627105,\n",
              "        6700.41461477,  6004.53321989,  4886.78405362,  3842.13022595,\n",
              "        7118.75964042,  4290.45940885,  6081.37190729,  4500.11024838,\n",
              "        3761.63286698,  6227.96237268,  6935.7797764 ,  5141.01107573,\n",
              "        4077.71879447,  5397.25749452,  4222.45401201,  2892.73415799,\n",
              "        7078.23721024,  3531.54377406,  3418.28950539,  5341.81683193,\n",
              "        3735.614397  ,  4339.37015706,  4124.47756575,  2780.76223856,\n",
              "        1263.76304959,  4967.2932444 ,  7131.63009038,  4023.75996498,\n",
              "        6261.54139052,  1139.97178163,  3892.64408178,  1401.50730155,\n",
              "       -1065.82604865,  7344.82641967,  4398.12412182,  1060.70593798,\n",
              "        7124.55165274,  4699.53446188,  3630.39850546,  5267.61100914,\n",
              "        4778.12571131,  5144.99558191,  4438.96397176,  6422.1470713 ,\n",
              "        3089.54802382,  4512.92078082,  3535.5185407 ,  4923.46610358,\n",
              "        4266.3280306 ,  1130.23089708,  6202.10579898,  1806.05043621,\n",
              "        6076.42172846,  5077.75932149,  4829.05049427,   876.16620334,\n",
              "        5899.42576576,  3674.37411646,  4411.88383745,  3034.03938846,\n",
              "        1257.58076827,  4616.3660572 ,  5373.59582558,  5360.83716643,\n",
              "        4315.72337215,  2833.85207166,  4977.8870058 ,  1065.84877944,\n",
              "        3184.8962576 ,  7527.47180901,  5458.14144695,  6833.06388118,\n",
              "        6520.31398208,  5818.36235836,  1852.79272981,  5400.91176467,\n",
              "        1761.9518641 ,  6538.19245547,  7537.32129465,  4038.85279861,\n",
              "         346.28508579,  2972.74686546,  5308.06434488,  4964.19972609,\n",
              "        1507.16974857,  6945.8382033 ,  6742.06882017,  3837.85718829,\n",
              "        5182.53381271,  4305.88192669,  4067.63000826,  4421.45733955,\n",
              "        6002.02762419,  3453.82677594,  1587.20679819,  7097.89605178,\n",
              "        3638.8585833 ,  4988.18180355,  1572.18092897,  1963.25906464,\n",
              "        4667.34306333,  1890.79873903,  5143.98926956,  4895.84958109,\n",
              "        5608.27729128,  3915.6441811 ,  4321.9057608 ,  3793.79232584,\n",
              "        4705.83733522,  6380.16403821,  4205.18373047,  6908.95131779,\n",
              "        4706.88078332,  6604.8761573 ,  6090.62838063,  5217.01286363,\n",
              "        6699.88888222,  6154.37104992,  5578.44265775,  7187.21927615,\n",
              "        6168.73406794,  1157.38261132,  5778.18984952,  5110.32968587,\n",
              "        5047.12604669,  5782.0099005 ,  4636.70450211,  3564.17239772,\n",
              "        5036.87139445,  5826.02930239,  3805.28820368,  3517.21515543,\n",
              "        6623.18207792,  6186.94641881,  5319.12326601,  6889.63626078,\n",
              "        6525.41575957,  2905.98777121,  4311.25206417,  6886.71696295,\n",
              "        6496.64597359,  4389.12542966,  3593.98806983,  3814.76665484,\n",
              "        6849.21685846,  6665.97919413,  1523.78858609,  4394.60816739,\n",
              "        2355.08937921,  6077.39304914,  4003.63991066,  1943.80894366,\n",
              "        4861.34984343,  3260.75299158,  5277.99331686,  5309.41876281,\n",
              "        6595.66885193,  6448.70812951,  6718.47825858,  5911.29114313,\n",
              "         561.14146957,  6503.1465869 ,  5832.13098092,  6772.76444018,\n",
              "        1604.57230478,  6104.36236257,  4526.47187501,  4138.83746513,\n",
              "        3849.37056606,  7704.08397571,  7083.36649537,  5828.745426  ,\n",
              "        3364.94071172,  4459.31797585,  2909.25097031,  5628.83889665,\n",
              "        7105.06611077,  6661.69759025,  6059.15034015,  4633.41368175,\n",
              "        5012.25130395,  7065.59683441,  4939.93011858,  7189.72048025,\n",
              "        3544.19027196,  6096.75136177,  2329.95812287,  4792.70416047,\n",
              "        2894.36612963,  6543.25291793,  4287.66936482,  4792.40745134,\n",
              "        4315.85939758,  5053.78771975,  4310.92929166,  2850.42847906,\n",
              "        3814.66391866,  3789.07932035,  5690.46082866,  5457.27793569,\n",
              "        4165.90284031,  3246.72664758,  5686.92667429,  4479.4350614 ,\n",
              "        4342.11833288,  6490.88233779,  4218.84779222,  4936.64152174,\n",
              "        5759.56013466,  6443.85813933,  5077.57920013,  5714.43992016,\n",
              "        2228.99570556,  5312.43983913,  6944.92954004,  4485.3066798 ,\n",
              "        4357.96491232,  6485.22918764,  3111.04936453,  4092.92194905,\n",
              "        7108.35965176,  3091.17872167,  4469.79900851,  6785.56064475,\n",
              "        4241.56481971,  4367.35449854,  5920.5584176 ,  1224.14814768,\n",
              "        3292.36628483,  4451.0437674 ,  3932.3142326 ,  3404.06283928,\n",
              "        4209.88377355,  5052.62797986,  5653.17453295,  6514.37528825,\n",
              "        3360.01314716,  6120.71418364,  5237.24084259,  5267.92761669,\n",
              "        6550.06339596,  6267.24538244,  5676.67131825,  6365.46741099,\n",
              "        6710.17081459,  1943.76088683,  4884.4762321 ,  5564.93782041,\n",
              "        7177.62151147,  1098.8784009 ,  6862.41558826,  4088.83729794,\n",
              "        5347.35447908,  5720.38569649,  6105.07436515,  3399.24801234,\n",
              "        7664.16714861,  4405.03524918,  7302.2791465 ,  5895.34861832,\n",
              "        8013.99095709,  5060.95583052,  5193.11227623,  4249.31477374,\n",
              "        4118.96586262,  5764.19274014,  4309.38576257,  1870.41118692,\n",
              "        6303.5225394 ,  6465.9734788 ,  7384.68522388,  2736.98308653,\n",
              "        7537.41944569,  1421.50526257,  6581.87962328,  2926.24425895,\n",
              "         980.59548825,  5342.4271102 ,  3336.97744898,  1267.49105043,\n",
              "        7136.99514824,  4476.40426392,  6834.3064055 ,  3637.92579561,\n",
              "        4097.0246063 ,  5011.98331434,  3868.24667097,  6817.16762793,\n",
              "        6109.0632362 ,  3860.63875914,  1504.50685355,  5864.07885567,\n",
              "        4067.67116721,  4782.1778065 ,  6165.5588077 ,   763.25895966,\n",
              "        1593.92891246,  5052.96222614,  1367.43410892,  5355.31209232,\n",
              "        2844.1591053 ,  5262.49547275,  5055.76709968,  1317.47294535,\n",
              "        3277.19730972,  3841.14939703,  4106.44234946,  5574.90188124,\n",
              "        4959.00714248,  3144.43418877,  4759.6975945 ,  4941.84296556,\n",
              "        5491.34509003,  6111.85044521,  3786.5107731 ,  6187.97914817,\n",
              "        1241.62353226,  7333.45000957,  4027.7784891 ,  1287.33402299,\n",
              "        5738.18352824,  6533.40514254,  3564.47030203,  5022.41127109,\n",
              "        1491.59320154,  6278.26525098,  4345.77252289,  5199.83706498,\n",
              "        2852.22839309,  2634.06208791,  1902.25479281,  7475.77149874,\n",
              "        3170.41364565,  4621.99049154,  1753.51530047,  3893.57967912,\n",
              "        7079.80682858,  2801.08582111,  3313.67345681,  4252.47107904,\n",
              "        2363.23917794,  4443.00800435,  5563.04719098,  5554.51036128,\n",
              "        7146.97216184,  4729.87118958,  5987.30069477,  6964.77533253,\n",
              "        5736.4717877 ,  5227.18924588,  6371.43622822,  5470.00807742,\n",
              "        7184.44849875,  1444.50415964,  6444.45166076,  6486.71030453,\n",
              "        4641.95772256,  1135.64217165,  3309.94492595,  6414.80581877,\n",
              "        5811.5959482 ,  4265.29542672,  4707.56596003,  2634.49868772,\n",
              "        4462.76663743,  5402.44026747,  3389.08366736,  3825.57348009,\n",
              "        6920.9904175 ,  4470.26321167,  6424.75905343,  2622.45230962,\n",
              "        3937.2424493 ,  3101.21164155,  6204.2803865 ,  3755.60466198,\n",
              "        4630.24857875,  4989.8715832 ,  3566.5263141 ,  6237.99242101,\n",
              "        1279.73080427,  5159.52295884,  1930.77789065,  3208.24472728,\n",
              "        4797.02749136,  3915.99333886,  2721.87284187])"
            ]
          },
          "metadata": {},
          "execution_count": 77
        }
      ]
    },
    {
      "cell_type": "code",
      "source": [
        "# CV plot\n",
        "fig,ax=plt.subplots(figsize=(10,10))\n",
        "ax.scatter(y_train,y_train-predict)\n",
        "ax.axhline(lw=2,color='black')\n",
        "ax.set_title('CV predic plot')\n",
        "ax.set_xlabel('Observed')\n",
        "ax.set_ylabel('Residual')\n",
        "plt.show()"
      ],
      "metadata": {
        "colab": {
          "base_uri": "https://localhost:8080/",
          "height": 621
        },
        "id": "9SFmoXWuPPSm",
        "outputId": "58ebc653-9013-4166-ccf8-c04114506d77"
      },
      "execution_count": 78,
      "outputs": [
        {
          "output_type": "display_data",
          "data": {
            "image/png": "[encoded data removed]",
            "text/plain": [
              "<Figure size 720x720 with 1 Axes>"
            ]
          },
          "metadata": {
            "needs_background": "light"
          }
        }
      ]
    },
    {
      "cell_type": "code",
      "source": [
        "## Model_evalution_metrics\n",
        "\n",
        "# Rmse\n",
        "\n",
        "#R-squared scores\n",
        "Rsquer = cross_val_score(lm_model, X_train, y_train, cv=3)\n",
        "print('Rsquer :',np.average(Rsquer))"
      ],
      "metadata": {
        "colab": {
          "base_uri": "https://localhost:8080/"
        },
        "id": "4lc1VDkCPkP0",
        "outputId": "deb966c4-1402-4640-828f-118f3aad642a"
      },
      "execution_count": 81,
      "outputs": [
        {
          "output_type": "stream",
          "name": "stdout",
          "text": [
            "Rsquer : 0.7976757703089904\n"
          ]
        }
      ]
    },
    {
      "cell_type": "code",
      "source": [
        "#To get dummy variables to encode the categorical features to numeric\n",
        "test_encoded_feature=pd.get_dummies(test_feature,columns=cat_feature)\n",
        "print('Shape of transformed dataframe :',test_encoded_feature.shape)\n",
        "test_encoded_feature.head()"
      ],
      "metadata": {
        "colab": {
          "base_uri": "https://localhost:8080/",
          "height": 288
        },
        "id": "FaKiDVPGQiD9",
        "outputId": "bf14d38b-44e0-413f-eff9-ac26790c8e48"
      },
      "execution_count": 83,
      "outputs": [
        {
          "output_type": "stream",
          "name": "stdout",
          "text": [
            "Shape of transformed dataframe : (220, 18)\n"
          ]
        },
        {
          "output_type": "execute_result",
          "data": {
            "text/html": [
              "\n",
              "  <div id=\"df-abab016e-02fd-4068-ba0b-b17a25b83252\">\n",
              "    <div class=\"colab-df-container\">\n",
              "      <div>\n",
              "<style scoped>\n",
              "    .dataframe tbody tr th:only-of-type {\n",
              "        vertical-align: middle;\n",
              "    }\n",
              "\n",
              "    .dataframe tbody tr th {\n",
              "        vertical-align: top;\n",
              "    }\n",
              "\n",
              "    .dataframe thead th {\n",
              "        text-align: right;\n",
              "    }\n",
              "</style>\n",
              "<table border=\"1\" class=\"dataframe\">\n",
              "  <thead>\n",
              "    <tr style=\"text-align: right;\">\n",
              "      <th></th>\n",
              "      <th>month</th>\n",
              "      <th>weekday</th>\n",
              "      <th>humidity</th>\n",
              "      <th>temp</th>\n",
              "      <th>windspeed</th>\n",
              "      <th>season_1.0</th>\n",
              "      <th>season_2.0</th>\n",
              "      <th>season_3.0</th>\n",
              "      <th>season_4.0</th>\n",
              "      <th>holiday_0.0</th>\n",
              "      <th>holiday_1.0</th>\n",
              "      <th>workingday_0.0</th>\n",
              "      <th>workingday_1.0</th>\n",
              "      <th>weather_condition_1</th>\n",
              "      <th>weather_condition_2</th>\n",
              "      <th>weather_condition_3</th>\n",
              "      <th>year_0.0</th>\n",
              "      <th>year_1.0</th>\n",
              "    </tr>\n",
              "  </thead>\n",
              "  <tbody>\n",
              "    <tr>\n",
              "      <th>0</th>\n",
              "      <td>12.0</td>\n",
              "      <td>2.0</td>\n",
              "      <td>0.733750</td>\n",
              "      <td>0.475833</td>\n",
              "      <td>0.174129</td>\n",
              "      <td>0</td>\n",
              "      <td>0</td>\n",
              "      <td>0</td>\n",
              "      <td>1</td>\n",
              "      <td>1</td>\n",
              "      <td>0</td>\n",
              "      <td>0</td>\n",
              "      <td>1</td>\n",
              "      <td>1</td>\n",
              "      <td>0</td>\n",
              "      <td>0</td>\n",
              "      <td>0</td>\n",
              "      <td>1</td>\n",
              "    </tr>\n",
              "    <tr>\n",
              "      <th>1</th>\n",
              "      <td>2.0</td>\n",
              "      <td>4.0</td>\n",
              "      <td>0.437826</td>\n",
              "      <td>0.186957</td>\n",
              "      <td>0.277752</td>\n",
              "      <td>1</td>\n",
              "      <td>0</td>\n",
              "      <td>0</td>\n",
              "      <td>0</td>\n",
              "      <td>1</td>\n",
              "      <td>0</td>\n",
              "      <td>0</td>\n",
              "      <td>1</td>\n",
              "      <td>1</td>\n",
              "      <td>0</td>\n",
              "      <td>0</td>\n",
              "      <td>1</td>\n",
              "      <td>0</td>\n",
              "    </tr>\n",
              "    <tr>\n",
              "      <th>2</th>\n",
              "      <td>10.0</td>\n",
              "      <td>5.0</td>\n",
              "      <td>0.585833</td>\n",
              "      <td>0.330833</td>\n",
              "      <td>0.229479</td>\n",
              "      <td>0</td>\n",
              "      <td>0</td>\n",
              "      <td>0</td>\n",
              "      <td>1</td>\n",
              "      <td>1</td>\n",
              "      <td>0</td>\n",
              "      <td>0</td>\n",
              "      <td>1</td>\n",
              "      <td>0</td>\n",
              "      <td>1</td>\n",
              "      <td>0</td>\n",
              "      <td>1</td>\n",
              "      <td>0</td>\n",
              "    </tr>\n",
              "    <tr>\n",
              "      <th>3</th>\n",
              "      <td>4.0</td>\n",
              "      <td>0.0</td>\n",
              "      <td>0.676250</td>\n",
              "      <td>0.425833</td>\n",
              "      <td>0.172267</td>\n",
              "      <td>0</td>\n",
              "      <td>1</td>\n",
              "      <td>0</td>\n",
              "      <td>0</td>\n",
              "      <td>1</td>\n",
              "      <td>0</td>\n",
              "      <td>1</td>\n",
              "      <td>0</td>\n",
              "      <td>0</td>\n",
              "      <td>1</td>\n",
              "      <td>0</td>\n",
              "      <td>0</td>\n",
              "      <td>1</td>\n",
              "    </tr>\n",
              "    <tr>\n",
              "      <th>4</th>\n",
              "      <td>9.0</td>\n",
              "      <td>2.0</td>\n",
              "      <td>0.570000</td>\n",
              "      <td>0.550000</td>\n",
              "      <td>0.236321</td>\n",
              "      <td>0</td>\n",
              "      <td>0</td>\n",
              "      <td>0</td>\n",
              "      <td>1</td>\n",
              "      <td>1</td>\n",
              "      <td>0</td>\n",
              "      <td>0</td>\n",
              "      <td>1</td>\n",
              "      <td>1</td>\n",
              "      <td>0</td>\n",
              "      <td>0</td>\n",
              "      <td>0</td>\n",
              "      <td>1</td>\n",
              "    </tr>\n",
              "  </tbody>\n",
              "</table>\n",
              "</div>\n",
              "      <button class=\"colab-df-convert\" onclick=\"convertToInteractive('df-abab016e-02fd-4068-ba0b-b17a25b83252')\"\n",
              "              title=\"Convert this dataframe to an interactive table.\"\n",
              "              style=\"display:none;\">\n",
              "        \n",
              "  <svg xmlns=\"http://www.w3.org/2000/svg\" height=\"24px\"viewBox=\"0 0 24 24\"\n",
              "       width=\"24px\">\n",
              "    <path d=\"M0 0h24v24H0V0z\" fill=\"none\"/>\n",
              "    <path d=\"M18.56 5.44l.94 2.06.94-2.06 2.06-.94-2.06-.94-.94-2.06-.94 2.06-2.06.94zm-11 1L8.5 8.5l.94-2.06 2.06-.94-2.06-.94L8.5 2.5l-.94 2.06-2.06.94zm10 10l.94 2.06.94-2.06 2.06-.94-2.06-.94-.94-2.06-.94 2.06-2.06.94z\"/><path d=\"M17.41 7.96l-1.37-1.37c-.4-.4-.92-.59-1.43-.59-.52 0-1.04.2-1.43.59L10.3 9.45l-7.72 7.72c-.78.78-.78 2.05 0 2.83L4 21.41c.39.39.9.59 1.41.59.51 0 1.02-.2 1.41-.59l7.78-7.78 2.81-2.81c.8-.78.8-2.07 0-2.86zM5.41 20L4 18.59l7.72-7.72 1.47 1.35L5.41 20z\"/>\n",
              "  </svg>\n",
              "      </button>\n",
              "      \n",
              "  <style>\n",
              "    .colab-df-container {\n",
              "      display:flex;\n",
              "      flex-wrap:wrap;\n",
              "      gap: 12px;\n",
              "    }\n",
              "\n",
              "    .colab-df-convert {\n",
              "      background-color: #E8F0FE;\n",
              "      border: none;\n",
              "      border-radius: 50%;\n",
              "      cursor: pointer;\n",
              "      display: none;\n",
              "      fill: #1967D2;\n",
              "      height: 32px;\n",
              "      padding: 0 0 0 0;\n",
              "      width: 32px;\n",
              "    }\n",
              "\n",
              "    .colab-df-convert:hover {\n",
              "      background-color: #E2EBFA;\n",
              "      box-shadow: 0px 1px 2px rgba(60, 64, 67, 0.3), 0px 1px 3px 1px rgba(60, 64, 67, 0.15);\n",
              "      fill: #174EA6;\n",
              "    }\n",
              "\n",
              "    [theme=dark] .colab-df-convert {\n",
              "      background-color: #3B4455;\n",
              "      fill: #D2E3FC;\n",
              "    }\n",
              "\n",
              "    [theme=dark] .colab-df-convert:hover {\n",
              "      background-color: #434B5C;\n",
              "      box-shadow: 0px 1px 3px 1px rgba(0, 0, 0, 0.15);\n",
              "      filter: drop-shadow(0px 1px 2px rgba(0, 0, 0, 0.3));\n",
              "      fill: #FFFFFF;\n",
              "    }\n",
              "  </style>\n",
              "\n",
              "      <script>\n",
              "        const buttonEl =\n",
              "          document.querySelector('#df-abab016e-02fd-4068-ba0b-b17a25b83252 button.colab-df-convert');\n",
              "        buttonEl.style.display =\n",
              "          google.colab.kernel.accessAllowed ? 'block' : 'none';\n",
              "\n",
              "        async function convertToInteractive(key) {\n",
              "          const element = document.querySelector('#df-abab016e-02fd-4068-ba0b-b17a25b83252');\n",
              "          const dataTable =\n",
              "            await google.colab.kernel.invokeFunction('convertToInteractive',\n",
              "                                                     [key], {});\n",
              "          if (!dataTable) return;\n",
              "\n",
              "          const docLinkHtml = 'Like what you see? Visit the ' +\n",
              "            '<a target=\"_blank\" href=https://colab.research.google.com/notebooks/data_table.ipynb>data table notebook</a>'\n",
              "            + ' to learn more about interactive tables.';\n",
              "          element.innerHTML = '';\n",
              "          dataTable['output_type'] = 'display_data';\n",
              "          await google.colab.output.renderOutput(dataTable, element);\n",
              "          const docLink = document.createElement('div');\n",
              "          docLink.innerHTML = docLinkHtml;\n",
              "          element.appendChild(docLink);\n",
              "        }\n",
              "      </script>\n",
              "    </div>\n",
              "  </div>\n",
              "  "
            ],
            "text/plain": [
              "  month weekday  humidity  ...  weather_condition_3  year_0.0  year_1.0\n",
              "0  12.0     2.0  0.733750  ...                    0         0         1\n",
              "1   2.0     4.0  0.437826  ...                    0         1         0\n",
              "2  10.0     5.0  0.585833  ...                    0         1         0\n",
              "3   4.0     0.0  0.676250  ...                    0         0         1\n",
              "4   9.0     2.0  0.570000  ...                    0         0         1\n",
              "\n",
              "[5 rows x 18 columns]"
            ]
          },
          "metadata": {},
          "execution_count": 83
        }
      ]
    },
    {
      "cell_type": "code",
      "source": [
        "### Model performance on test dataset\n",
        "#Test dataset for prediction\n",
        "X_test=test_encoded_feature\n",
        "y_test=y_test.total_count.values"
      ],
      "metadata": {
        "id": "nzLNciJVQiM4"
      },
      "execution_count": 85,
      "outputs": []
    },
    {
      "cell_type": "code",
      "source": [
        "## Predict the model\n",
        "\n",
        "lm_pred=lm_model.predict(X_test)\n",
        "lm_pred"
      ],
      "metadata": {
        "colab": {
          "base_uri": "https://localhost:8080/"
        },
        "id": "cs6bL9ZnQiS2",
        "outputId": "a1f2e225-a8e6-4ab5-d351-1ebb72fbb0af"
      },
      "execution_count": 86,
      "outputs": [
        {
          "output_type": "execute_result",
          "data": {
            "text/plain": [
              "array([6180.95157843, 1391.85131628, 3218.81144866, 4845.65394554,\n",
              "       6654.95056619, 6936.25768459,  718.24766766, 1908.35283118,\n",
              "       6974.91782808, 6826.65695751, 2782.11285065, 2106.87826386,\n",
              "       4458.81521896, 5478.83006538, 2197.1097195 , 1842.57988016,\n",
              "       2180.98149819, 7446.36555141, 5497.57744954, 2622.34294934,\n",
              "       6925.45023129, 7821.41172942, 5532.38280721, 1270.72836623,\n",
              "       1261.83578939, 4481.31957664, 2638.29684149, 6719.00519929,\n",
              "       3857.76326635, 5788.85814881, 3120.67755523, 4246.83388215,\n",
              "       6355.61471206, 6783.57469666, 5788.40341848, 5420.05368963,\n",
              "       6688.26342049, 5854.021848  , 3180.52872776,  836.47597835,\n",
              "       4498.94510234, 3746.28893962, 6895.40221891, 4087.51445731,\n",
              "       6902.45936893, 1625.77935588, 4803.99725349, 4711.35483801,\n",
              "       6356.6722629 , 4605.06377234, 3117.01672473, 2849.87972506,\n",
              "       1818.79531802, 5602.21511181, 4625.90293389, 4096.92021543,\n",
              "       4696.26985736, 3066.47151819, 4361.22696097, 6620.65941922,\n",
              "       4995.81115133, 6205.99422635, 2598.21340562, 6727.17673182,\n",
              "       5800.5789896 , 7738.35973813, 6838.69777971, 5195.8976627 ,\n",
              "       1586.02489814, 6036.96374714, 2662.14632575, 2141.98534702,\n",
              "       3364.3800614 , 4355.35439513, 4378.85373547, 3234.12620558,\n",
              "       5363.32871792, 4253.98445161, 1002.66278316, 5645.46685409,\n",
              "       2521.86807391, 3059.58995856, 5872.46910813, 3524.38000197,\n",
              "       3872.62636435, 4064.16407266, 4712.37248683, 3433.36262518,\n",
              "       3727.64733581, 3207.35728782,  744.59049396, 6813.0540333 ,\n",
              "       5909.16887179, 4839.93816707, 3149.39149886, 3303.04656742,\n",
              "       4501.01717632, 2664.4308146 , 3601.6982174 , 5050.11728196,\n",
              "       7159.20354382, 4471.88933046, 6538.08276969, 3174.20536148,\n",
              "       2785.26525448, 5586.56506002, 1090.88953441, 2694.39413578,\n",
              "       7010.94341945,  962.3745691 , 5238.67241546, 6280.53565288,\n",
              "       3423.92360967, 6363.57870775, 5845.78589995, 3108.11135704,\n",
              "       1425.53556   , 4092.90809919, 4769.58201494, 3235.64991714,\n",
              "       6239.70392973, 2269.72060363, 3300.71015141, 1340.42381617,\n",
              "       4388.58891315, 5942.65890958, 5248.24338833, 2969.85759155,\n",
              "       1976.19913822, 5840.39890893, 3271.44991005, 4153.19081423,\n",
              "       5422.77405239, 5040.35138823, 4667.19618072, 2480.34565509,\n",
              "       5512.91697733, 6246.05271059, 1503.39605593, 5158.27836294,\n",
              "       4228.05663818, 2074.53049522, 2080.35264621, 5251.38427151,\n",
              "       4203.98914759, 4940.23390818, 4365.37526305, 4653.30500824,\n",
              "       2298.45061665, 3739.43394503, 3338.74425452, 6829.41379095,\n",
              "       3408.52004614, 4225.90950839, 1251.79950209, 3402.44249035,\n",
              "       4252.7728105 , 6570.4402101 , 2501.13532496, 5173.82849673,\n",
              "       5830.97945759, 3583.28176916, 4171.40833331, 5660.62470415,\n",
              "       1837.82772984, 3625.5009801 , 5446.79093316, 2000.42854253,\n",
              "       3394.82599832, 5341.72637447, 6651.47780953, 6937.03096984,\n",
              "       1169.02998901, 3723.04712567, 3737.80058927, 5778.81853335,\n",
              "       4143.57240271, 7396.87453408, 3853.64146928, 2280.98284543,\n",
              "        429.55318089, 6626.11762537, 6641.66840587, 5094.80481079,\n",
              "       6412.72501356, 6789.34551968, 7497.96087978, 2830.78552902,\n",
              "       5458.52764938, 1267.75925798, 6970.45568467, 3693.74561926,\n",
              "       3864.03708302, 5553.21724238, 3091.15796002, 1676.13183822,\n",
              "       5240.34365605, 3492.01517196, 1391.20751094, 4975.73338966,\n",
              "       5083.65732631, 6363.65811885, 5629.39643523, 5418.64391247,\n",
              "       5051.90396216, 1337.30425587, 6614.05630675, 1700.39021633,\n",
              "       6334.12988971, 7408.5611771 , 6352.91255786, 5769.68487924,\n",
              "       5347.5197143 , 3651.66310685, 4717.90945092, 3728.68953257,\n",
              "       7191.39595616, 6309.71718366, 3805.95488596, 3579.12607229])"
            ]
          },
          "metadata": {},
          "execution_count": 86
        }
      ]
    },
    {
      "cell_type": "code",
      "source": [
        "import math\n",
        "#Root mean square error \n",
        "rmse=math.sqrt(metrics.mean_squared_error(y_test,lm_pred))\n",
        "#Mean absolute error\n",
        "mae=metrics.mean_absolute_error(y_test,lm_pred)\n",
        "print('Root mean square error :',rmse)\n",
        "print('Mean absolute error :',mae)"
      ],
      "metadata": {
        "colab": {
          "base_uri": "https://localhost:8080/"
        },
        "id": "gP1YDIfCQU8n",
        "outputId": "b0f4d851-122a-47a8-ec70-814ae7ed1905"
      },
      "execution_count": 87,
      "outputs": [
        {
          "output_type": "stream",
          "name": "stdout",
          "text": [
            "Root mean square error : 781.4329039639008\n",
            "Mean absolute error : 593.4197275999385\n"
          ]
        }
      ]
    },
    {
      "cell_type": "code",
      "source": [
        "#Residual plot\n",
        "fig, ax = plt.subplots(figsize=(10,10))\n",
        "ax.scatter(y_test, y_test-lm_pred)\n",
        "ax.axhline(lw=2,color='black')\n",
        "ax.set_xlabel('Observed')\n",
        "ax.set_ylabel('Residuals')\n",
        "ax.title.set_text(\"Residual Plot\")\n",
        "plt.show()"
      ],
      "metadata": {
        "colab": {
          "base_uri": "https://localhost:8080/",
          "height": 621
        },
        "id": "ezCOjGYxRVX4",
        "outputId": "cb5f165c-ee0f-48a9-c06e-b2905a92741e"
      },
      "execution_count": 88,
      "outputs": [
        {
          "output_type": "display_data",
          "data": {
            "image/png": "[encoded data removed]",
            "text/plain": [
              "<Figure size 720x720 with 1 Axes>"
            ]
          },
          "metadata": {
            "needs_background": "light"
          }
        }
      ]
    },
    {
      "cell_type": "code",
      "execution_count": 63,
      "metadata": {
        "colab": {
          "base_uri": "https://localhost:8080/",
          "height": 405
        },
        "id": "HHjYt6_9lA8N",
        "outputId": "1f677675-39c8-4ac5-ce81-7b6fb3df33ab"
      },
      "outputs": [
        {
          "output_type": "display_data",
          "data": {
            "image/png": "[encoded data removed]",
            "text/plain": [
              "<Figure size 720x432 with 1 Axes>"
            ]
          },
          "metadata": {
            "needs_background": "light"
          }
        }
      ],
      "source": [
        "# Draw the scatter plot\n",
        "plt.rcParams[\"figure.figsize\"] = (10,6)\n",
        "sns.scatterplot(x = 'registered',\n",
        "                y = 'total_count', \n",
        "                data = bike)\n",
        "plt.title(\"season Vs. total_count\", fontsize=14, fontweight = \"bold\")\n",
        "\n",
        "# Show the plot\n",
        "plt.show()"
      ]
    },
    {
      "cell_type": "code",
      "execution_count": 64,
      "metadata": {
        "colab": {
          "base_uri": "https://localhost:8080/"
        },
        "id": "KqBDTT7HlA8P",
        "outputId": "b01ecb4d-60fd-4738-cab9-87389281e86a"
      },
      "outputs": [
        {
          "output_type": "stream",
          "name": "stdout",
          "text": [
            "Intercept     212.177734\n",
            "registered      1.173952\n",
            "dtype: float64\n"
          ]
        }
      ],
      "source": [
        "# Import the ols function\n",
        "from statsmodels.formula.api import ols\n",
        "import statsmodels.api as sm\n",
        "\n",
        "# Create the model object\n",
        "model = ols( \"total_count ~ registered\", data= bike) \n",
        "\n",
        "# Fit the model\n",
        "model = model.fit()\n",
        "\n",
        "# Print the parameters of the fitted model\n",
        "print(model.params)"
      ]
    },
    {
      "cell_type": "code",
      "execution_count": 65,
      "metadata": {
        "colab": {
          "base_uri": "https://localhost:8080/"
        },
        "id": "9An57MsdlA8Q",
        "outputId": "ad69162a-aa7b-43cb-d23c-17e54f64929e"
      },
      "outputs": [
        {
          "output_type": "stream",
          "name": "stdout",
          "text": [
            "                            OLS Regression Results                            \n",
            "==============================================================================\n",
            "Dep. Variable:            total_count   R-squared:                       0.894\n",
            "Model:                            OLS   Adj. R-squared:                  0.894\n",
            "Method:                 Least Squares   F-statistic:                     6149.\n",
            "Date:                Tue, 08 Feb 2022   Prob (F-statistic):               0.00\n",
            "Time:                        11:30:19   Log-Likelihood:                -5749.4\n",
            "No. Observations:                 731   AIC:                         1.150e+04\n",
            "Df Residuals:                     729   BIC:                         1.151e+04\n",
            "Df Model:                           1                                         \n",
            "Covariance Type:            nonrobust                                         \n",
            "==============================================================================\n",
            "                 coef    std err          t      P>|t|      [0.025      0.975]\n",
            "------------------------------------------------------------------------------\n",
            "Intercept    212.1777     59.508      3.566      0.000      95.350     329.005\n",
            "registered     1.1740      0.015     78.412      0.000       1.145       1.203\n",
            "==============================================================================\n",
            "Omnibus:                      193.736   Durbin-Watson:                   0.932\n",
            "Prob(Omnibus):                  0.000   Jarque-Bera (JB):              384.339\n",
            "Skew:                           1.525   Prob(JB):                     3.48e-84\n",
            "Kurtosis:                       4.822   Cond. No.                     1.01e+04\n",
            "==============================================================================\n",
            "\n",
            "Warnings:\n",
            "[1] Standard Errors assume that the covariance matrix of the errors is correctly specified.\n",
            "[2] The condition number is large, 1.01e+04. This might indicate that there are\n",
            "strong multicollinearity or other numerical problems.\n"
          ]
        }
      ],
      "source": [
        "print(model.summary())"
      ]
    },
    {
      "cell_type": "code",
      "execution_count": null,
      "metadata": {
        "id": "X6FlQQIylA8Q"
      },
      "outputs": [],
      "source": [
        "instant':'id','dteday':'datetime','yr':'year','mnth':'month','weathersit':'weather_condition',\n",
        "                       'hum':'humidity','cnt':'total_count"
      ]
    },
    {
      "cell_type": "code",
      "execution_count": null,
      "metadata": {
        "id": "qbxD9Em1lA8R"
      },
      "outputs": [],
      "source": [
        ""
      ]
    },
    {
      "cell_type": "code",
      "execution_count": 89,
      "metadata": {
        "id": "QJORKEP9nLHB"
      },
      "outputs": [],
      "source": [
        "## Decision tree regressor\n",
        "\n",
        "#training the model\n",
        "from sklearn.tree import DecisionTreeRegressor\n",
        "dtr=DecisionTreeRegressor(min_samples_split=2,max_leaf_nodes=10)"
      ]
    },
    {
      "cell_type": "code",
      "execution_count": 90,
      "metadata": {
        "id": "xeL-wb7NnLKN",
        "colab": {
          "base_uri": "https://localhost:8080/"
        },
        "outputId": "9e7ec628-42f0-479d-aeea-1a482049cb7b"
      },
      "outputs": [
        {
          "output_type": "execute_result",
          "data": {
            "text/plain": [
              "DecisionTreeRegressor(max_leaf_nodes=10)"
            ]
          },
          "metadata": {},
          "execution_count": 90
        }
      ],
      "source": [
        "## Fit the model\n",
        "#Fit the trained model\n",
        "dtr.fit(X_train,y_train)"
      ]
    },
    {
      "cell_type": "code",
      "execution_count": 91,
      "metadata": {
        "id": "aUIp4912nLM9",
        "colab": {
          "base_uri": "https://localhost:8080/"
        },
        "outputId": "f5e34835-3f9b-4cfb-868d-92f4f8bcd858"
      },
      "outputs": [
        {
          "output_type": "stream",
          "name": "stdout",
          "text": [
            "Accuracy of model : 0.8084747203148798\n"
          ]
        }
      ],
      "source": [
        "## Decision tree regression accuracy score\n",
        "\n",
        "#Accuracy score of the model\n",
        "dtr_score=dtr.score(X_train,y_train)\n",
        "print('Accuracy of model :',dtr_score)"
      ]
    },
    {
      "cell_type": "code",
      "source": [
        "## Plot the learned model\n",
        "\n",
        "#Plot the learned model\n",
        "from sklearn import tree\n",
        "import pydot\n",
        "import graphviz\n",
        "\n",
        "# export the learned model to tree\n",
        "dot_data = tree.export_graphviz(dtr, out_file=None) \n",
        "graph = graphviz.Source(dot_data) \n",
        "graph"
      ],
      "metadata": {
        "colab": {
          "base_uri": "https://localhost:8080/",
          "height": 816
        },
        "id": "ePmcnzmFRxoA",
        "outputId": "952de34d-ca5b-4d0a-e89c-bdc8b195afe7"
      },
      "execution_count": 92,
      "outputs": [
        {
          "output_type": "execute_result",
          "data": {
            "text/plain": [
              "<graphviz.files.Source at 0x7f1ff47aee10>"
            ],
            "image/svg+xml": "<?xml version=\"1.0\" encoding=\"UTF-8\" standalone=\"no\"?>\n<!DOCTYPE svg PUBLIC \"-//W3C//DTD SVG 1.1//EN\"\n \"http://www.w3.org/Graphics/SVG/1.1/DTD/svg11.dtd\">\n<!-- Generated by graphviz version 2.40.1 (20161225.0304)\n -->\n<!-- Title: Tree Pages: 1 -->\n<svg width=\"1666pt\" height=\"581pt\"\n viewBox=\"0.00 0.00 1666.00 581.00\" xmlns=\"http://www.w3.org/2000/svg\" xmlns:xlink=\"http://www.w3.org/1999/xlink\">\n<g id=\"graph0\" class=\"graph\" transform=\"scale(1 1) rotate(0) translate(4 577)\">\n<title>Tree</title>\n<polygon fill=\"#ffffff\" stroke=\"transparent\" points=\"-4,4 -4,-577 1662,-577 1662,4 -4,4\"/>\n<!-- 0 -->\n<g id=\"node1\" class=\"node\">\n<title>0</title>\n<polygon fill=\"none\" stroke=\"#000000\" points=\"872,-573 670,-573 670,-505 872,-505 872,-573\"/>\n<text text-anchor=\"middle\" x=\"771\" y=\"-557.8\" font-family=\"Helvetica,sans-Serif\" font-size=\"14.00\" fill=\"#000000\">X[3] &lt;= 0.432</text>\n<text text-anchor=\"middle\" x=\"771\" y=\"-542.8\" font-family=\"Helvetica,sans-Serif\" font-size=\"14.00\" fill=\"#000000\">squared_error = 3638903.63</text>\n<text text-anchor=\"middle\" x=\"771\" y=\"-527.8\" font-family=\"Helvetica,sans-Serif\" font-size=\"14.00\" fill=\"#000000\">samples = 511</text>\n<text text-anchor=\"middle\" x=\"771\" y=\"-512.8\" font-family=\"Helvetica,sans-Serif\" font-size=\"14.00\" fill=\"#000000\">value = 4556.867</text>\n</g>\n<!-- 1 -->\n<g id=\"node2\" class=\"node\">\n<title>1</title>\n<polygon fill=\"none\" stroke=\"#000000\" points=\"762,-469 552,-469 552,-401 762,-401 762,-469\"/>\n<text text-anchor=\"middle\" x=\"657\" y=\"-453.8\" font-family=\"Helvetica,sans-Serif\" font-size=\"14.00\" fill=\"#000000\">X[3] &lt;= 0.279</text>\n<text text-anchor=\"middle\" x=\"657\" y=\"-438.8\" font-family=\"Helvetica,sans-Serif\" font-size=\"14.00\" fill=\"#000000\">squared_error = 2321094.121</text>\n<text text-anchor=\"middle\" x=\"657\" y=\"-423.8\" font-family=\"Helvetica,sans-Serif\" font-size=\"14.00\" fill=\"#000000\">samples = 201</text>\n<text text-anchor=\"middle\" x=\"657\" y=\"-408.8\" font-family=\"Helvetica,sans-Serif\" font-size=\"14.00\" fill=\"#000000\">value = 3052.328</text>\n</g>\n<!-- 0&#45;&gt;1 -->\n<g id=\"edge1\" class=\"edge\">\n<title>0&#45;&gt;1</title>\n<path fill=\"none\" stroke=\"#000000\" d=\"M733.6721,-504.9465C723.535,-495.6986 712.4517,-485.5876 701.9417,-475.9994\"/>\n<polygon fill=\"#000000\" stroke=\"#000000\" points=\"704.1583,-473.284 694.4117,-469.13 699.4405,-478.4553 704.1583,-473.284\"/>\n<text text-anchor=\"middle\" x=\"695.5573\" y=\"-490.4037\" font-family=\"Helvetica,sans-Serif\" font-size=\"14.00\" fill=\"#000000\">True</text>\n</g>\n<!-- 2 -->\n<g id=\"node13\" class=\"node\">\n<title>2</title>\n<polygon fill=\"none\" stroke=\"#000000\" points=\"1100,-469 890,-469 890,-401 1100,-401 1100,-469\"/>\n<text text-anchor=\"middle\" x=\"995\" y=\"-453.8\" font-family=\"Helvetica,sans-Serif\" font-size=\"14.00\" fill=\"#000000\">X[17] &lt;= 0.5</text>\n<text text-anchor=\"middle\" x=\"995\" y=\"-438.8\" font-family=\"Helvetica,sans-Serif\" font-size=\"14.00\" fill=\"#000000\">squared_error = 2073995.844</text>\n<text text-anchor=\"middle\" x=\"995\" y=\"-423.8\" font-family=\"Helvetica,sans-Serif\" font-size=\"14.00\" fill=\"#000000\">samples = 310</text>\n<text text-anchor=\"middle\" x=\"995\" y=\"-408.8\" font-family=\"Helvetica,sans-Serif\" font-size=\"14.00\" fill=\"#000000\">value = 5532.39</text>\n</g>\n<!-- 0&#45;&gt;2 -->\n<g id=\"edge12\" class=\"edge\">\n<title>0&#45;&gt;2</title>\n<path fill=\"none\" stroke=\"#000000\" d=\"M844.346,-504.9465C866.1017,-494.8457 890.0752,-483.7151 912.3767,-473.3608\"/>\n<polygon fill=\"#000000\" stroke=\"#000000\" points=\"913.893,-476.5157 921.4892,-469.13 910.9452,-470.1666 913.893,-476.5157\"/>\n<text text-anchor=\"middle\" x=\"912.8997\" y=\"-488.9081\" font-family=\"Helvetica,sans-Serif\" font-size=\"14.00\" fill=\"#000000\">False</text>\n</g>\n<!-- 5 -->\n<g id=\"node3\" class=\"node\">\n<title>5</title>\n<polygon fill=\"none\" stroke=\"#000000\" points=\"534,-357.5 332,-357.5 332,-304.5 534,-304.5 534,-357.5\"/>\n<text text-anchor=\"middle\" x=\"433\" y=\"-342.3\" font-family=\"Helvetica,sans-Serif\" font-size=\"14.00\" fill=\"#000000\">squared_error = 861076.316</text>\n<text text-anchor=\"middle\" x=\"433\" y=\"-327.3\" font-family=\"Helvetica,sans-Serif\" font-size=\"14.00\" fill=\"#000000\">samples = 66</text>\n<text text-anchor=\"middle\" x=\"433\" y=\"-312.3\" font-family=\"Helvetica,sans-Serif\" font-size=\"14.00\" fill=\"#000000\">value = 1848.955</text>\n</g>\n<!-- 1&#45;&gt;5 -->\n<g id=\"edge2\" class=\"edge\">\n<title>1&#45;&gt;5</title>\n<path fill=\"none\" stroke=\"#000000\" d=\"M583.654,-400.9465C556.4896,-388.3344 525.8673,-374.117 499.3598,-361.8099\"/>\n<polygon fill=\"#000000\" stroke=\"#000000\" points=\"500.7117,-358.5788 490.1677,-357.5422 497.7639,-364.9279 500.7117,-358.5788\"/>\n</g>\n<!-- 6 -->\n<g id=\"node4\" class=\"node\">\n<title>6</title>\n<polygon fill=\"none\" stroke=\"#000000\" points=\"762,-365 552,-365 552,-297 762,-297 762,-365\"/>\n<text text-anchor=\"middle\" x=\"657\" y=\"-349.8\" font-family=\"Helvetica,sans-Serif\" font-size=\"14.00\" fill=\"#000000\">X[16] &lt;= 0.5</text>\n<text text-anchor=\"middle\" x=\"657\" y=\"-334.8\" font-family=\"Helvetica,sans-Serif\" font-size=\"14.00\" fill=\"#000000\">squared_error = 1980800.614</text>\n<text text-anchor=\"middle\" x=\"657\" y=\"-319.8\" font-family=\"Helvetica,sans-Serif\" font-size=\"14.00\" fill=\"#000000\">samples = 135</text>\n<text text-anchor=\"middle\" x=\"657\" y=\"-304.8\" font-family=\"Helvetica,sans-Serif\" font-size=\"14.00\" fill=\"#000000\">value = 3640.644</text>\n</g>\n<!-- 1&#45;&gt;6 -->\n<g id=\"edge3\" class=\"edge\">\n<title>1&#45;&gt;6</title>\n<path fill=\"none\" stroke=\"#000000\" d=\"M657,-400.9465C657,-392.776 657,-383.9318 657,-375.3697\"/>\n<polygon fill=\"#000000\" stroke=\"#000000\" points=\"660.5001,-375.13 657,-365.13 653.5001,-375.13 660.5001,-375.13\"/>\n</g>\n<!-- 7 -->\n<g id=\"node5\" class=\"node\">\n<title>7</title>\n<polygon fill=\"none\" stroke=\"#000000\" points=\"534,-261 324,-261 324,-193 534,-193 534,-261\"/>\n<text text-anchor=\"middle\" x=\"429\" y=\"-245.8\" font-family=\"Helvetica,sans-Serif\" font-size=\"14.00\" fill=\"#000000\">X[5] &lt;= 0.5</text>\n<text text-anchor=\"middle\" x=\"429\" y=\"-230.8\" font-family=\"Helvetica,sans-Serif\" font-size=\"14.00\" fill=\"#000000\">squared_error = 1524446.866</text>\n<text text-anchor=\"middle\" x=\"429\" y=\"-215.8\" font-family=\"Helvetica,sans-Serif\" font-size=\"14.00\" fill=\"#000000\">samples = 77</text>\n<text text-anchor=\"middle\" x=\"429\" y=\"-200.8\" font-family=\"Helvetica,sans-Serif\" font-size=\"14.00\" fill=\"#000000\">value = 4335.13</text>\n</g>\n<!-- 6&#45;&gt;7 -->\n<g id=\"edge4\" class=\"edge\">\n<title>6&#45;&gt;7</title>\n<path fill=\"none\" stroke=\"#000000\" d=\"M582.3443,-296.9465C560.2001,-286.8457 535.7984,-275.7151 513.0987,-265.3608\"/>\n<polygon fill=\"#000000\" stroke=\"#000000\" points=\"514.3742,-262.0957 503.8235,-261.13 511.4691,-268.4645 514.3742,-262.0957\"/>\n</g>\n<!-- 8 -->\n<g id=\"node10\" class=\"node\">\n<title>8</title>\n<polygon fill=\"none\" stroke=\"#000000\" points=\"762,-261 552,-261 552,-193 762,-193 762,-261\"/>\n<text text-anchor=\"middle\" x=\"657\" y=\"-245.8\" font-family=\"Helvetica,sans-Serif\" font-size=\"14.00\" fill=\"#000000\">X[8] &lt;= 0.5</text>\n<text text-anchor=\"middle\" x=\"657\" y=\"-230.8\" font-family=\"Helvetica,sans-Serif\" font-size=\"14.00\" fill=\"#000000\">squared_error = 1096277.226</text>\n<text text-anchor=\"middle\" x=\"657\" y=\"-215.8\" font-family=\"Helvetica,sans-Serif\" font-size=\"14.00\" fill=\"#000000\">samples = 58</text>\n<text text-anchor=\"middle\" x=\"657\" y=\"-200.8\" font-family=\"Helvetica,sans-Serif\" font-size=\"14.00\" fill=\"#000000\">value = 2718.655</text>\n</g>\n<!-- 6&#45;&gt;8 -->\n<g id=\"edge9\" class=\"edge\">\n<title>6&#45;&gt;8</title>\n<path fill=\"none\" stroke=\"#000000\" d=\"M657,-296.9465C657,-288.776 657,-279.9318 657,-271.3697\"/>\n<polygon fill=\"#000000\" stroke=\"#000000\" points=\"660.5001,-271.13 657,-261.13 653.5001,-271.13 660.5001,-271.13\"/>\n</g>\n<!-- 13 -->\n<g id=\"node6\" class=\"node\">\n<title>13</title>\n<polygon fill=\"none\" stroke=\"#000000\" points=\"312,-157 102,-157 102,-89 312,-89 312,-157\"/>\n<text text-anchor=\"middle\" x=\"207\" y=\"-141.8\" font-family=\"Helvetica,sans-Serif\" font-size=\"14.00\" fill=\"#000000\">X[2] &lt;= 0.765</text>\n<text text-anchor=\"middle\" x=\"207\" y=\"-126.8\" font-family=\"Helvetica,sans-Serif\" font-size=\"14.00\" fill=\"#000000\">squared_error = 1711653.161</text>\n<text text-anchor=\"middle\" x=\"207\" y=\"-111.8\" font-family=\"Helvetica,sans-Serif\" font-size=\"14.00\" fill=\"#000000\">samples = 41</text>\n<text text-anchor=\"middle\" x=\"207\" y=\"-96.8\" font-family=\"Helvetica,sans-Serif\" font-size=\"14.00\" fill=\"#000000\">value = 4891.098</text>\n</g>\n<!-- 7&#45;&gt;13 -->\n<g id=\"edge5\" class=\"edge\">\n<title>7&#45;&gt;13</title>\n<path fill=\"none\" stroke=\"#000000\" d=\"M356.3089,-192.9465C334.8433,-182.8906 311.1991,-171.814 289.1804,-161.4989\"/>\n<polygon fill=\"#000000\" stroke=\"#000000\" points=\"290.3948,-158.2028 279.8544,-157.13 287.4252,-164.5418 290.3948,-158.2028\"/>\n</g>\n<!-- 14 -->\n<g id=\"node9\" class=\"node\">\n<title>14</title>\n<polygon fill=\"none\" stroke=\"#000000\" points=\"532,-149.5 330,-149.5 330,-96.5 532,-96.5 532,-149.5\"/>\n<text text-anchor=\"middle\" x=\"431\" y=\"-134.3\" font-family=\"Helvetica,sans-Serif\" font-size=\"14.00\" fill=\"#000000\">squared_error = 558285.275</text>\n<text text-anchor=\"middle\" x=\"431\" y=\"-119.3\" font-family=\"Helvetica,sans-Serif\" font-size=\"14.00\" fill=\"#000000\">samples = 36</text>\n<text text-anchor=\"middle\" x=\"431\" y=\"-104.3\" font-family=\"Helvetica,sans-Serif\" font-size=\"14.00\" fill=\"#000000\">value = 3701.944</text>\n</g>\n<!-- 7&#45;&gt;14 -->\n<g id=\"edge8\" class=\"edge\">\n<title>7&#45;&gt;14</title>\n<path fill=\"none\" stroke=\"#000000\" d=\"M429.6549,-192.9465C429.8603,-182.2621 430.088,-170.4254 430.2966,-159.5742\"/>\n<polygon fill=\"#000000\" stroke=\"#000000\" points=\"433.7966,-159.6076 430.4896,-149.5422 426.7979,-159.473 433.7966,-159.6076\"/>\n</g>\n<!-- 15 -->\n<g id=\"node7\" class=\"node\">\n<title>15</title>\n<polygon fill=\"none\" stroke=\"#000000\" points=\"194,-53 0,-53 0,0 194,0 194,-53\"/>\n<text text-anchor=\"middle\" x=\"97\" y=\"-37.8\" font-family=\"Helvetica,sans-Serif\" font-size=\"14.00\" fill=\"#000000\">squared_error = 867075.21</text>\n<text text-anchor=\"middle\" x=\"97\" y=\"-22.8\" font-family=\"Helvetica,sans-Serif\" font-size=\"14.00\" fill=\"#000000\">samples = 32</text>\n<text text-anchor=\"middle\" x=\"97\" y=\"-7.8\" font-family=\"Helvetica,sans-Serif\" font-size=\"14.00\" fill=\"#000000\">value = 5277.094</text>\n</g>\n<!-- 13&#45;&gt;15 -->\n<g id=\"edge6\" class=\"edge\">\n<title>13&#45;&gt;15</title>\n<path fill=\"none\" stroke=\"#000000\" d=\"M168.2181,-88.9777C157.467,-79.546 145.8078,-69.3178 135.0962,-59.9208\"/>\n<polygon fill=\"#000000\" stroke=\"#000000\" points=\"137.316,-57.2122 127.4905,-53.2485 132.6996,-62.4743 137.316,-57.2122\"/>\n</g>\n<!-- 16 -->\n<g id=\"node8\" class=\"node\">\n<title>16</title>\n<polygon fill=\"none\" stroke=\"#000000\" points=\"422,-53 212,-53 212,0 422,0 422,-53\"/>\n<text text-anchor=\"middle\" x=\"317\" y=\"-37.8\" font-family=\"Helvetica,sans-Serif\" font-size=\"14.00\" fill=\"#000000\">squared_error = 2301277.333</text>\n<text text-anchor=\"middle\" x=\"317\" y=\"-22.8\" font-family=\"Helvetica,sans-Serif\" font-size=\"14.00\" fill=\"#000000\">samples = 9</text>\n<text text-anchor=\"middle\" x=\"317\" y=\"-7.8\" font-family=\"Helvetica,sans-Serif\" font-size=\"14.00\" fill=\"#000000\">value = 3518.667</text>\n</g>\n<!-- 13&#45;&gt;16 -->\n<g id=\"edge7\" class=\"edge\">\n<title>13&#45;&gt;16</title>\n<path fill=\"none\" stroke=\"#000000\" d=\"M245.7819,-88.9777C256.533,-79.546 268.1922,-69.3178 278.9038,-59.9208\"/>\n<polygon fill=\"#000000\" stroke=\"#000000\" points=\"281.3004,-62.4743 286.5095,-53.2485 276.684,-57.2122 281.3004,-62.4743\"/>\n</g>\n<!-- 9 -->\n<g id=\"node11\" class=\"node\">\n<title>9</title>\n<polygon fill=\"none\" stroke=\"#000000\" points=\"756,-149.5 554,-149.5 554,-96.5 756,-96.5 756,-149.5\"/>\n<text text-anchor=\"middle\" x=\"655\" y=\"-134.3\" font-family=\"Helvetica,sans-Serif\" font-size=\"14.00\" fill=\"#000000\">squared_error = 495119.812</text>\n<text text-anchor=\"middle\" x=\"655\" y=\"-119.3\" font-family=\"Helvetica,sans-Serif\" font-size=\"14.00\" fill=\"#000000\">samples = 32</text>\n<text text-anchor=\"middle\" x=\"655\" y=\"-104.3\" font-family=\"Helvetica,sans-Serif\" font-size=\"14.00\" fill=\"#000000\">value = 1992.25</text>\n</g>\n<!-- 8&#45;&gt;9 -->\n<g id=\"edge10\" class=\"edge\">\n<title>8&#45;&gt;9</title>\n<path fill=\"none\" stroke=\"#000000\" d=\"M656.3451,-192.9465C656.1397,-182.2621 655.912,-170.4254 655.7034,-159.5742\"/>\n<polygon fill=\"#000000\" stroke=\"#000000\" points=\"659.2021,-159.473 655.5104,-149.5422 652.2034,-159.6076 659.2021,-159.473\"/>\n</g>\n<!-- 10 -->\n<g id=\"node12\" class=\"node\">\n<title>10</title>\n<polygon fill=\"none\" stroke=\"#000000\" points=\"976,-149.5 774,-149.5 774,-96.5 976,-96.5 976,-149.5\"/>\n<text text-anchor=\"middle\" x=\"875\" y=\"-134.3\" font-family=\"Helvetica,sans-Serif\" font-size=\"14.00\" fill=\"#000000\">squared_error = 387427.675</text>\n<text text-anchor=\"middle\" x=\"875\" y=\"-119.3\" font-family=\"Helvetica,sans-Serif\" font-size=\"14.00\" fill=\"#000000\">samples = 26</text>\n<text text-anchor=\"middle\" x=\"875\" y=\"-104.3\" font-family=\"Helvetica,sans-Serif\" font-size=\"14.00\" fill=\"#000000\">value = 3612.692</text>\n</g>\n<!-- 8&#45;&gt;10 -->\n<g id=\"edge11\" class=\"edge\">\n<title>8&#45;&gt;10</title>\n<path fill=\"none\" stroke=\"#000000\" d=\"M728.3814,-192.9465C754.7027,-180.3895 784.36,-166.2411 810.0795,-153.9712\"/>\n<polygon fill=\"#000000\" stroke=\"#000000\" points=\"811.845,-157.0069 819.3635,-149.5422 808.831,-150.689 811.845,-157.0069\"/>\n</g>\n<!-- 3 -->\n<g id=\"node14\" class=\"node\">\n<title>3</title>\n<polygon fill=\"none\" stroke=\"#000000\" points=\"1096,-365 894,-365 894,-297 1096,-297 1096,-365\"/>\n<text text-anchor=\"middle\" x=\"995\" y=\"-349.8\" font-family=\"Helvetica,sans-Serif\" font-size=\"14.00\" fill=\"#000000\">X[2] &lt;= 0.849</text>\n<text text-anchor=\"middle\" x=\"995\" y=\"-334.8\" font-family=\"Helvetica,sans-Serif\" font-size=\"14.00\" fill=\"#000000\">squared_error = 603939.673</text>\n<text text-anchor=\"middle\" x=\"995\" y=\"-319.8\" font-family=\"Helvetica,sans-Serif\" font-size=\"14.00\" fill=\"#000000\">samples = 147</text>\n<text text-anchor=\"middle\" x=\"995\" y=\"-304.8\" font-family=\"Helvetica,sans-Serif\" font-size=\"14.00\" fill=\"#000000\">value = 4359.361</text>\n</g>\n<!-- 2&#45;&gt;3 -->\n<g id=\"edge13\" class=\"edge\">\n<title>2&#45;&gt;3</title>\n<path fill=\"none\" stroke=\"#000000\" d=\"M995,-400.9465C995,-392.776 995,-383.9318 995,-375.3697\"/>\n<polygon fill=\"#000000\" stroke=\"#000000\" points=\"998.5001,-375.13 995,-365.13 991.5001,-375.13 998.5001,-375.13\"/>\n</g>\n<!-- 4 -->\n<g id=\"node17\" class=\"node\">\n<title>4</title>\n<polygon fill=\"none\" stroke=\"#000000\" points=\"1434,-365 1224,-365 1224,-297 1434,-297 1434,-365\"/>\n<text text-anchor=\"middle\" x=\"1329\" y=\"-349.8\" font-family=\"Helvetica,sans-Serif\" font-size=\"14.00\" fill=\"#000000\">X[2] &lt;= 0.771</text>\n<text text-anchor=\"middle\" x=\"1329\" y=\"-334.8\" font-family=\"Helvetica,sans-Serif\" font-size=\"14.00\" fill=\"#000000\">squared_error = 1039698.273</text>\n<text text-anchor=\"middle\" x=\"1329\" y=\"-319.8\" font-family=\"Helvetica,sans-Serif\" font-size=\"14.00\" fill=\"#000000\">samples = 163</text>\n<text text-anchor=\"middle\" x=\"1329\" y=\"-304.8\" font-family=\"Helvetica,sans-Serif\" font-size=\"14.00\" fill=\"#000000\">value = 6590.276</text>\n</g>\n<!-- 2&#45;&gt;4 -->\n<g id=\"edge16\" class=\"edge\">\n<title>2&#45;&gt;4</title>\n<path fill=\"none\" stroke=\"#000000\" d=\"M1100.2212,-402.2365C1136.3803,-390.9774 1177.0374,-378.3177 1213.9375,-366.8278\"/>\n<polygon fill=\"#000000\" stroke=\"#000000\" points=\"1215.2267,-370.0922 1223.734,-363.7774 1213.1456,-363.4087 1215.2267,-370.0922\"/>\n</g>\n<!-- 17 -->\n<g id=\"node15\" class=\"node\">\n<title>17</title>\n<polygon fill=\"none\" stroke=\"#000000\" points=\"982,-253.5 780,-253.5 780,-200.5 982,-200.5 982,-253.5\"/>\n<text text-anchor=\"middle\" x=\"881\" y=\"-238.3\" font-family=\"Helvetica,sans-Serif\" font-size=\"14.00\" fill=\"#000000\">squared_error = 431500.768</text>\n<text text-anchor=\"middle\" x=\"881\" y=\"-223.3\" font-family=\"Helvetica,sans-Serif\" font-size=\"14.00\" fill=\"#000000\">samples = 135</text>\n<text text-anchor=\"middle\" x=\"881\" y=\"-208.3\" font-family=\"Helvetica,sans-Serif\" font-size=\"14.00\" fill=\"#000000\">value = 4465.044</text>\n</g>\n<!-- 3&#45;&gt;17 -->\n<g id=\"edge14\" class=\"edge\">\n<title>3&#45;&gt;17</title>\n<path fill=\"none\" stroke=\"#000000\" d=\"M957.6721,-296.9465C944.8737,-285.2707 930.567,-272.219 917.8099,-260.5809\"/>\n<polygon fill=\"#000000\" stroke=\"#000000\" points=\"919.8409,-257.6961 910.0943,-253.5422 915.1231,-262.8675 919.8409,-257.6961\"/>\n</g>\n<!-- 18 -->\n<g id=\"node16\" class=\"node\">\n<title>18</title>\n<polygon fill=\"none\" stroke=\"#000000\" points=\"1210,-253.5 1000,-253.5 1000,-200.5 1210,-200.5 1210,-253.5\"/>\n<text text-anchor=\"middle\" x=\"1105\" y=\"-238.3\" font-family=\"Helvetica,sans-Serif\" font-size=\"14.00\" fill=\"#000000\">squared_error = 1004637.576</text>\n<text text-anchor=\"middle\" x=\"1105\" y=\"-223.3\" font-family=\"Helvetica,sans-Serif\" font-size=\"14.00\" fill=\"#000000\">samples = 12</text>\n<text text-anchor=\"middle\" x=\"1105\" y=\"-208.3\" font-family=\"Helvetica,sans-Serif\" font-size=\"14.00\" fill=\"#000000\">value = 3170.417</text>\n</g>\n<!-- 3&#45;&gt;18 -->\n<g id=\"edge15\" class=\"edge\">\n<title>3&#45;&gt;18</title>\n<path fill=\"none\" stroke=\"#000000\" d=\"M1031.0181,-296.9465C1043.3675,-285.2707 1057.1722,-272.219 1069.4817,-260.5809\"/>\n<polygon fill=\"#000000\" stroke=\"#000000\" points=\"1072.0646,-262.9556 1076.9266,-253.5422 1067.2555,-257.869 1072.0646,-262.9556\"/>\n</g>\n<!-- 11 -->\n<g id=\"node18\" class=\"node\">\n<title>11</title>\n<polygon fill=\"none\" stroke=\"#000000\" points=\"1430,-253.5 1228,-253.5 1228,-200.5 1430,-200.5 1430,-253.5\"/>\n<text text-anchor=\"middle\" x=\"1329\" y=\"-238.3\" font-family=\"Helvetica,sans-Serif\" font-size=\"14.00\" fill=\"#000000\">squared_error = 787319.105</text>\n<text text-anchor=\"middle\" x=\"1329\" y=\"-223.3\" font-family=\"Helvetica,sans-Serif\" font-size=\"14.00\" fill=\"#000000\">samples = 140</text>\n<text text-anchor=\"middle\" x=\"1329\" y=\"-208.3\" font-family=\"Helvetica,sans-Serif\" font-size=\"14.00\" fill=\"#000000\">value = 6777.95</text>\n</g>\n<!-- 4&#45;&gt;11 -->\n<g id=\"edge17\" class=\"edge\">\n<title>4&#45;&gt;11</title>\n<path fill=\"none\" stroke=\"#000000\" d=\"M1329,-296.9465C1329,-286.2621 1329,-274.4254 1329,-263.5742\"/>\n<polygon fill=\"#000000\" stroke=\"#000000\" points=\"1332.5001,-263.5421 1329,-253.5422 1325.5001,-263.5422 1332.5001,-263.5421\"/>\n</g>\n<!-- 12 -->\n<g id=\"node19\" class=\"node\">\n<title>12</title>\n<polygon fill=\"none\" stroke=\"#000000\" points=\"1658,-253.5 1448,-253.5 1448,-200.5 1658,-200.5 1658,-253.5\"/>\n<text text-anchor=\"middle\" x=\"1553\" y=\"-238.3\" font-family=\"Helvetica,sans-Serif\" font-size=\"14.00\" fill=\"#000000\">squared_error = 1056534.253</text>\n<text text-anchor=\"middle\" x=\"1553\" y=\"-223.3\" font-family=\"Helvetica,sans-Serif\" font-size=\"14.00\" fill=\"#000000\">samples = 23</text>\n<text text-anchor=\"middle\" x=\"1553\" y=\"-208.3\" font-family=\"Helvetica,sans-Serif\" font-size=\"14.00\" fill=\"#000000\">value = 5447.913</text>\n</g>\n<!-- 4&#45;&gt;12 -->\n<g id=\"edge18\" class=\"edge\">\n<title>4&#45;&gt;12</title>\n<path fill=\"none\" stroke=\"#000000\" d=\"M1402.346,-296.9465C1429.5104,-284.3344 1460.1327,-270.117 1486.6402,-257.8099\"/>\n<polygon fill=\"#000000\" stroke=\"#000000\" points=\"1488.2361,-260.9279 1495.8323,-253.5422 1485.2883,-254.5788 1488.2361,-260.9279\"/>\n</g>\n</g>\n</svg>\n"
          },
          "metadata": {},
          "execution_count": 92
        }
      ]
    },
    {
      "cell_type": "code",
      "source": [
        ""
      ],
      "metadata": {
        "id": "T3HQKZ5BRxsV"
      },
      "execution_count": null,
      "outputs": []
    },
    {
      "cell_type": "code",
      "source": [
        "## CV prediction\n",
        "\n",
        "predict=cross_val_predict(dtr,X_train,y_train,cv=3)\n",
        "predict"
      ],
      "metadata": {
        "colab": {
          "base_uri": "https://localhost:8080/"
        },
        "id": "YOGQx4p8Rx5t",
        "outputId": "3a24649f-fb2a-4b26-b8e4-cf0fdd5cae51"
      },
      "execution_count": 93,
      "outputs": [
        {
          "output_type": "execute_result",
          "data": {
            "text/plain": [
              "array([4513.38554217, 4591.31111111, 4591.31111111, 4513.38554217,\n",
              "       2558.6       , 5347.38888889, 6824.96969697, 4591.31111111,\n",
              "       4591.31111111, 3603.92857143, 6824.96969697, 3194.22222222,\n",
              "       4513.38554217, 6824.96969697, 4513.38554217, 6824.96969697,\n",
              "       3603.92857143, 1636.81818182, 1636.81818182, 1636.81818182,\n",
              "       6824.96969697, 2558.6       , 4591.31111111, 1027.        ,\n",
              "       6824.96969697, 6824.96969697, 2558.6       , 4591.31111111,\n",
              "       1636.81818182, 4513.38554217, 1636.81818182, 1636.81818182,\n",
              "       1636.81818182, 1636.81818182, 4513.38554217, 5347.38888889,\n",
              "       6824.96969697, 4591.31111111, 4513.38554217, 6824.96969697,\n",
              "       6824.96969697, 4513.38554217, 6824.96969697, 6824.96969697,\n",
              "       4513.38554217, 3194.22222222, 1636.81818182, 4591.31111111,\n",
              "       4513.38554217, 6824.96969697, 3194.22222222, 6824.96969697,\n",
              "       6824.96969697, 3603.92857143, 4513.38554217, 1027.        ,\n",
              "       1636.81818182, 4513.38554217, 1636.81818182, 4513.38554217,\n",
              "       4591.31111111, 4591.31111111, 2558.6       , 5347.38888889,\n",
              "       4513.38554217, 6824.96969697, 4513.38554217, 3194.22222222,\n",
              "       1027.        , 4591.31111111, 4513.38554217, 4513.38554217,\n",
              "       6824.96969697, 3603.92857143, 4513.38554217, 1636.81818182,\n",
              "       2558.6       , 4513.38554217, 1636.81818182, 4591.31111111,\n",
              "       4513.38554217, 4513.38554217, 4513.38554217, 1636.81818182,\n",
              "       6824.96969697, 4513.38554217, 4513.38554217, 6824.96969697,\n",
              "       4513.38554217, 4513.38554217, 1636.81818182, 2558.6       ,\n",
              "       1636.81818182, 6824.96969697, 6824.96969697, 4513.38554217,\n",
              "       4513.38554217, 4513.38554217, 3603.92857143, 1636.81818182,\n",
              "       3603.92857143, 4513.38554217, 6824.96969697, 4513.38554217,\n",
              "       2558.6       , 6824.96969697, 6824.96969697, 6824.96969697,\n",
              "       4513.38554217, 6824.96969697, 3603.92857143, 3603.92857143,\n",
              "       1636.81818182, 4513.38554217, 4513.38554217, 1636.81818182,\n",
              "       5347.38888889, 4513.38554217, 1636.81818182, 2558.6       ,\n",
              "       6824.96969697, 4513.38554217, 6824.96969697, 6824.96969697,\n",
              "       6824.96969697, 6824.96969697, 4513.38554217, 3603.92857143,\n",
              "       6824.96969697, 4591.31111111, 6824.96969697, 4513.38554217,\n",
              "       3194.22222222, 6824.96969697, 6824.96969697, 4513.38554217,\n",
              "       4591.31111111, 4591.31111111, 4591.31111111, 1027.        ,\n",
              "       6824.96969697, 3603.92857143, 3603.92857143, 4591.31111111,\n",
              "       4513.38554217, 4513.38554217, 5347.38888889, 3603.92857143,\n",
              "       1636.81818182, 4513.38554217, 6824.96969697, 3603.92857143,\n",
              "       4591.31111111, 1636.81818182, 3603.92857143, 1636.81818182,\n",
              "       1636.81818182, 6824.96969697, 4513.38554217, 1636.81818182,\n",
              "       6824.96969697, 4513.38554217, 4513.38554217, 6824.96969697,\n",
              "       4513.38554217, 4513.38554217, 4513.38554217, 6824.96969697,\n",
              "       3603.92857143, 4513.38554217, 4513.38554217, 5335.42307692,\n",
              "       4508.48192771, 2088.92      , 6943.30434783, 2088.92      ,\n",
              "       6943.30434783, 4508.48192771, 4508.48192771, 1857.87234043,\n",
              "       5335.42307692, 3623.52380952, 4508.48192771, 1857.87234043,\n",
              "       1857.87234043, 4508.48192771, 5335.42307692, 5335.42307692,\n",
              "       3779.14285714, 2088.92      , 4508.48192771, 1857.87234043,\n",
              "       5335.42307692, 5798.66666667, 5335.42307692, 6943.30434783,\n",
              "       6943.30434783, 5335.42307692, 1857.87234043, 5335.42307692,\n",
              "       1857.87234043, 5998.        , 5798.66666667, 4508.48192771,\n",
              "       1857.87234043, 4508.48192771, 5335.42307692, 5335.42307692,\n",
              "       1857.87234043, 6943.30434783, 5998.        , 3623.52380952,\n",
              "       5335.42307692, 4508.48192771, 2088.92      , 3308.08333333,\n",
              "       5335.42307692, 4508.48192771, 1857.87234043, 6943.30434783,\n",
              "       3308.08333333, 6943.30434783, 2088.92      , 2088.92      ,\n",
              "       4508.48192771, 1857.87234043, 4508.48192771, 4508.48192771,\n",
              "       5998.        , 3779.14285714, 3779.14285714, 5998.        ,\n",
              "       4508.48192771, 6943.30434783, 4508.48192771, 6943.30434783,\n",
              "       4508.48192771, 6943.30434783, 6943.30434783, 1857.87234043,\n",
              "       6943.30434783, 5998.        , 1857.87234043, 5798.66666667,\n",
              "       6943.30434783, 2088.92      , 6943.30434783, 4508.48192771,\n",
              "       5998.        , 5998.        , 4508.48192771, 3623.52380952,\n",
              "       4508.48192771, 6943.30434783, 3779.14285714, 1857.87234043,\n",
              "       6943.30434783, 5998.        , 4508.48192771, 5798.66666667,\n",
              "       6943.30434783, 2088.92      , 4508.48192771, 6943.30434783,\n",
              "       6943.30434783, 4508.48192771, 1857.87234043, 3779.14285714,\n",
              "       6943.30434783, 6943.30434783, 2088.92      , 4508.48192771,\n",
              "       1857.87234043, 5335.42307692, 4508.48192771, 1857.87234043,\n",
              "       4508.48192771, 1857.87234043, 5335.42307692, 4508.48192771,\n",
              "       6943.30434783, 6943.30434783, 5998.        , 5335.42307692,\n",
              "       1857.87234043, 6943.30434783, 5998.        , 6943.30434783,\n",
              "       2088.92      , 6943.30434783, 4508.48192771, 4508.48192771,\n",
              "       3623.52380952, 5798.66666667, 6943.30434783, 5998.        ,\n",
              "       3308.08333333, 4508.48192771, 1857.87234043, 4508.48192771,\n",
              "       6943.30434783, 6943.30434783, 5998.        , 4508.48192771,\n",
              "       4508.48192771, 6943.30434783, 5335.42307692, 5798.66666667,\n",
              "       3623.52380952, 6943.30434783, 3623.52380952, 4508.48192771,\n",
              "       2088.92      , 6943.30434783, 4508.48192771, 5335.42307692,\n",
              "       4508.48192771, 4508.48192771, 3623.52380952, 1857.87234043,\n",
              "       4508.48192771, 4508.48192771, 4508.48192771, 6943.30434783,\n",
              "       4508.48192771, 1857.87234043, 5335.42307692, 4508.48192771,\n",
              "       3779.14285714, 6943.30434783, 5998.        , 4508.48192771,\n",
              "       5335.42307692, 6943.30434783, 6943.30434783, 5335.42307692,\n",
              "       1857.87234043, 5335.42307692, 6943.30434783, 3308.08333333,\n",
              "       5998.        , 6858.30952381, 2732.25      , 4509.55555556,\n",
              "       6858.30952381, 1434.22222222, 4509.55555556, 6858.30952381,\n",
              "       4509.55555556, 3573.79411765, 6858.30952381, 1960.84      ,\n",
              "       4509.55555556, 4509.55555556, 3573.79411765, 1434.22222222,\n",
              "       4509.55555556, 4724.68181818, 6858.30952381, 6858.30952381,\n",
              "       3520.11111111, 6858.30952381, 4724.68181818, 4724.68181818,\n",
              "       6084.5       , 6858.30952381, 4487.75      , 6858.30952381,\n",
              "       6858.30952381, 1434.22222222, 4509.55555556, 4509.55555556,\n",
              "       6858.30952381, 1434.22222222, 6858.30952381, 4509.55555556,\n",
              "       6858.30952381, 6858.30952381, 4724.68181818, 1960.84      ,\n",
              "       6858.30952381, 4509.55555556, 6858.30952381, 6858.30952381,\n",
              "       6858.30952381, 6084.5       , 4509.55555556, 3573.79411765,\n",
              "       3573.79411765, 6858.30952381, 4509.55555556, 1434.22222222,\n",
              "       4724.68181818, 4487.75      , 6858.30952381, 1960.84      ,\n",
              "       6858.30952381, 1434.22222222, 6858.30952381, 4509.55555556,\n",
              "       1960.84      , 4509.55555556, 2732.25      , 1434.22222222,\n",
              "       6858.30952381, 4509.55555556, 6858.30952381, 1434.22222222,\n",
              "       4509.55555556, 6858.30952381, 6858.30952381, 6858.30952381,\n",
              "       6858.30952381, 4509.55555556, 1960.84      , 6858.30952381,\n",
              "       4509.55555556, 4724.68181818, 6858.30952381, 1960.84      ,\n",
              "       1434.22222222, 4509.55555556, 1434.22222222, 6858.30952381,\n",
              "       1434.22222222, 4509.55555556, 4509.55555556, 1434.22222222,\n",
              "       3520.11111111, 4509.55555556, 2732.25      , 3573.79411765,\n",
              "       6858.30952381, 1434.22222222, 2732.25      , 4509.55555556,\n",
              "       4509.55555556, 6858.30952381, 3573.79411765, 6858.30952381,\n",
              "       2732.25      , 6858.30952381, 3573.79411765, 1960.84      ,\n",
              "       4724.68181818, 6858.30952381, 4509.55555556, 4509.55555556,\n",
              "       1434.22222222, 6084.5       , 3573.79411765, 3573.79411765,\n",
              "       3573.79411765, 1960.84      , 2732.25      , 6858.30952381,\n",
              "       1434.22222222, 4509.55555556, 1434.22222222, 3520.11111111,\n",
              "       6858.30952381, 1434.22222222, 3520.11111111, 4509.55555556,\n",
              "       3573.79411765, 4724.68181818, 6858.30952381, 4724.68181818,\n",
              "       6858.30952381, 4509.55555556, 4487.75      , 6858.30952381,\n",
              "       4724.68181818, 4509.55555556, 6858.30952381, 6858.30952381,\n",
              "       6084.5       , 1960.84      , 6858.30952381, 6858.30952381,\n",
              "       4509.55555556, 1434.22222222, 3520.11111111, 6858.30952381,\n",
              "       4509.55555556, 4509.55555556, 4509.55555556, 1434.22222222,\n",
              "       3573.79411765, 6858.30952381, 3520.11111111, 3520.11111111,\n",
              "       6858.30952381, 4509.55555556, 6084.5       , 2732.25      ,\n",
              "       3573.79411765, 1960.84      , 6858.30952381, 4509.55555556,\n",
              "       4509.55555556, 3573.79411765, 4509.55555556, 6084.5       ,\n",
              "       1434.22222222, 4724.68181818, 1960.84      , 4509.55555556,\n",
              "       4509.55555556, 3573.79411765, 1960.84      ])"
            ]
          },
          "metadata": {},
          "execution_count": 93
        }
      ]
    },
    {
      "cell_type": "code",
      "source": [
        "# Cross validation prediction plot\n",
        "fig,ax=plt.subplots(figsize=(10,10))\n",
        "ax.scatter(y_train,y_train-predict)\n",
        "ax.axhline(lw=2,color='black')\n",
        "ax.set_title('Cross validation prediction plot')\n",
        "ax.set_xlabel('Observed')\n",
        "ax.set_ylabel('Residual')\n",
        "plt.show()"
      ],
      "metadata": {
        "colab": {
          "base_uri": "https://localhost:8080/",
          "height": 621
        },
        "id": "LpzgBXzIWBzm",
        "outputId": "a4db4bc3-6256-43d1-fa14-f7700107ecd1"
      },
      "execution_count": 107,
      "outputs": [
        {
          "output_type": "display_data",
          "data": {
            "image/png": "[encoded data removed]",
            "text/plain": [
              "<Figure size 720x720 with 1 Axes>"
            ]
          },
          "metadata": {
            "needs_background": "light"
          }
        }
      ]
    },
    {
      "cell_type": "code",
      "source": [
        "#R-squar scores\n",
        "Rsquer1 = cross_val_score(dtr, X_train, y_train, cv=3)\n",
        "print('Rsquer1 :',np.average(Rsquer1))"
      ],
      "metadata": {
        "colab": {
          "base_uri": "https://localhost:8080/"
        },
        "id": "awuZzWJmWCFt",
        "outputId": "0f5f90e4-56c9-4f71-93c8-27e0631be22d"
      },
      "execution_count": 108,
      "outputs": [
        {
          "output_type": "stream",
          "name": "stdout",
          "text": [
            "Rsquer1 : 0.7280569840177501\n"
          ]
        }
      ]
    },
    {
      "cell_type": "code",
      "source": [
        "## Model performance on test dataset\n",
        "#predict the model\n",
        "dtr_pred=dtr.predict(X_test)\n",
        "dtr_pred"
      ],
      "metadata": {
        "colab": {
          "base_uri": "https://localhost:8080/"
        },
        "id": "rAoEG8T6WCRh",
        "outputId": "b9cdaefc-7e6b-4b32-beb0-1468dd4e8921"
      },
      "execution_count": 112,
      "outputs": [
        {
          "output_type": "execute_result",
          "data": {
            "text/plain": [
              "array([6777.95      , 1848.95454545, 3612.69230769, 5277.09375   ,\n",
              "       6777.95      , 6777.95      , 1848.95454545, 1992.25      ,\n",
              "       6777.95      , 6777.95      , 1848.95454545, 1992.25      ,\n",
              "       4465.04444444, 5277.09375   , 1992.25      , 1992.25      ,\n",
              "       1992.25      , 6777.95      , 4465.04444444, 1848.95454545,\n",
              "       6777.95      , 6777.95      , 5277.09375   , 1848.95454545,\n",
              "       1992.25      , 4465.04444444, 1992.25      , 6777.95      ,\n",
              "       1848.95454545, 5277.09375   , 1848.95454545, 4465.04444444,\n",
              "       6777.95      , 6777.95      , 6777.95      , 5447.91304348,\n",
              "       6777.95      , 6777.95      , 4465.04444444, 1848.95454545,\n",
              "       4465.04444444, 1848.95454545, 6777.95      , 4465.04444444,\n",
              "       6777.95      , 3612.69230769, 4465.04444444, 6777.95      ,\n",
              "       6777.95      , 5447.91304348, 4465.04444444, 1848.95454545,\n",
              "       1992.25      , 4465.04444444, 4465.04444444, 4465.04444444,\n",
              "       3170.41666667, 4465.04444444, 4465.04444444, 6777.95      ,\n",
              "       6777.95      , 6777.95      , 1992.25      , 6777.95      ,\n",
              "       6777.95      , 6777.95      , 6777.95      , 4465.04444444,\n",
              "       1992.25      , 6777.95      , 4465.04444444, 1992.25      ,\n",
              "       3612.69230769, 4465.04444444, 3701.94444444, 4465.04444444,\n",
              "       5277.09375   , 4465.04444444, 1848.95454545, 4465.04444444,\n",
              "       1848.95454545, 1848.95454545, 5277.09375   , 5447.91304348,\n",
              "       3612.69230769, 3701.94444444, 3170.41666667, 3612.69230769,\n",
              "       3612.69230769, 1848.95454545, 1848.95454545, 6777.95      ,\n",
              "       5277.09375   , 6777.95      , 1848.95454545, 1848.95454545,\n",
              "       4465.04444444, 1848.95454545, 3170.41666667, 4465.04444444,\n",
              "       6777.95      , 4465.04444444, 6777.95      , 1848.95454545,\n",
              "       1992.25      , 5277.09375   , 1992.25      , 1848.95454545,\n",
              "       6777.95      , 1848.95454545, 4465.04444444, 6777.95      ,\n",
              "       3612.69230769, 6777.95      , 5447.91304348, 4465.04444444,\n",
              "       1992.25      , 1848.95454545, 4465.04444444, 1848.95454545,\n",
              "       6777.95      , 3170.41666667, 4465.04444444, 1848.95454545,\n",
              "       4465.04444444, 5277.09375   , 4465.04444444, 3612.69230769,\n",
              "       1992.25      , 6777.95      , 3612.69230769, 3612.69230769,\n",
              "       5277.09375   , 5277.09375   , 4465.04444444, 1992.25      ,\n",
              "       6777.95      , 6777.95      , 1992.25      , 4465.04444444,\n",
              "       4465.04444444, 1992.25      , 1992.25      , 4465.04444444,\n",
              "       3612.69230769, 4465.04444444, 4465.04444444, 5277.09375   ,\n",
              "       3170.41666667, 3612.69230769, 4465.04444444, 6777.95      ,\n",
              "       4465.04444444, 4465.04444444, 1848.95454545, 4465.04444444,\n",
              "       3701.94444444, 6777.95      , 3170.41666667, 4465.04444444,\n",
              "       6777.95      , 3170.41666667, 3612.69230769, 5277.09375   ,\n",
              "       1848.95454545, 4465.04444444, 6777.95      , 1992.25      ,\n",
              "       3612.69230769, 4465.04444444, 6777.95      , 6777.95      ,\n",
              "       1848.95454545, 3701.94444444, 3701.94444444, 6777.95      ,\n",
              "       3701.94444444, 6777.95      , 4465.04444444, 1992.25      ,\n",
              "       1992.25      , 6777.95      , 6777.95      , 5277.09375   ,\n",
              "       6777.95      , 6777.95      , 6777.95      , 1848.95454545,\n",
              "       5277.09375   , 1992.25      , 6777.95      , 3701.94444444,\n",
              "       4465.04444444, 6777.95      , 1848.95454545, 1848.95454545,\n",
              "       4465.04444444, 3701.94444444, 1848.95454545, 4465.04444444,\n",
              "       4465.04444444, 5447.91304348, 5277.09375   , 4465.04444444,\n",
              "       5447.91304348, 3170.41666667, 6777.95      , 1848.95454545,\n",
              "       5447.91304348, 6777.95      , 6777.95      , 4465.04444444,\n",
              "       6777.95      , 1848.95454545, 4465.04444444, 4465.04444444,\n",
              "       6777.95      , 6777.95      , 3170.41666667, 3170.41666667])"
            ]
          },
          "metadata": {},
          "execution_count": 112
        }
      ]
    },
    {
      "cell_type": "code",
      "source": [
        "#Root mean square error\n",
        "rmse=math.sqrt(metrics.mean_squared_error(y_test,dtr_pred))\n",
        "#Mean absolute error\n",
        "mae=metrics.mean_absolute_error(y_test,dtr_pred)\n",
        "print('Root mean square error :',rmse)\n",
        "print('Mean absolute error :',mae)"
      ],
      "metadata": {
        "colab": {
          "base_uri": "https://localhost:8080/"
        },
        "id": "vixgDO5WXevQ",
        "outputId": "b688c57e-2020-4e0b-963a-465a6e84b86d"
      },
      "execution_count": 113,
      "outputs": [
        {
          "output_type": "stream",
          "name": "stdout",
          "text": [
            "Root mean square error : 924.7349824379328\n",
            "Mean absolute error : 667.6518372075881\n"
          ]
        }
      ]
    },
    {
      "cell_type": "code",
      "source": [
        "## Residual plot\n",
        "\n",
        "#Residual scatter plot\n",
        "residuals = y_test-dtr_pred\n",
        "fig, ax = plt.subplots(figsize=(10,10))\n",
        "ax.scatter(y_test, residuals)\n",
        "ax.axhline(lw=2,color='red')\n",
        "ax.set_xlabel('Observed')\n",
        "ax.set_ylabel('Residual')\n",
        "ax.set_title('Residual plot')\n",
        "plt.show()"
      ],
      "metadata": {
        "colab": {
          "base_uri": "https://localhost:8080/",
          "height": 621
        },
        "id": "s2IX6hjzXnm9",
        "outputId": "345fcf3a-4f90-4370-e40b-edaea493e7ca"
      },
      "execution_count": 114,
      "outputs": [
        {
          "output_type": "display_data",
          "data": {
            "image/png": "[encoded data removed]",
            "text/plain": [
              "<Figure size 720x720 with 1 Axes>"
            ]
          },
          "metadata": {
            "needs_background": "light"
          }
        }
      ]
    },
    {
      "cell_type": "code",
      "source": [
        ""
      ],
      "metadata": {
        "id": "AOcDMZRkXnz0"
      },
      "execution_count": null,
      "outputs": []
    },
    {
      "cell_type": "code",
      "source": [
        ""
      ],
      "metadata": {
        "id": "onlkRF_FXoAq"
      },
      "execution_count": null,
      "outputs": []
    },
    {
      "cell_type": "code",
      "source": [
        "## Random Forest\n",
        "#Training the model\n",
        "from sklearn.ensemble import RandomForestRegressor\n",
        "X_train=train_encoded\n",
        "rf=RandomForestRegressor(n_estimators=100)"
      ],
      "metadata": {
        "id": "Q4NhUN-iRx9O"
      },
      "execution_count": 101,
      "outputs": []
    },
    {
      "cell_type": "code",
      "source": [
        "## Fit the model\n",
        "\n",
        "#Fit the trained model\n",
        "rf.fit(X_train,y_train)"
      ],
      "metadata": {
        "colab": {
          "base_uri": "https://localhost:8080/"
        },
        "id": "DArlGISCSJbY",
        "outputId": "a508dab4-101c-4a56-d812-0a5fde13fa31"
      },
      "execution_count": 102,
      "outputs": [
        {
          "output_type": "execute_result",
          "data": {
            "text/plain": [
              "RandomForestRegressor()"
            ]
          },
          "metadata": {},
          "execution_count": 102
        }
      ]
    },
    {
      "cell_type": "code",
      "source": [
        "# accuracy of RF\n",
        "rf_score =rf.score(X_train,y_train)\n",
        "print('Accuracy of the model :',rf_score)"
      ],
      "metadata": {
        "colab": {
          "base_uri": "https://localhost:8080/"
        },
        "id": "ZAjvHgsmSJgA",
        "outputId": "e97bc621-a39c-49a4-c948-23b048749218"
      },
      "execution_count": 103,
      "outputs": [
        {
          "output_type": "stream",
          "name": "stdout",
          "text": [
            "Accuracy of the model : 0.980406718643754\n"
          ]
        }
      ]
    },
    {
      "cell_type": "code",
      "source": [
        "#Cross validation prediction\n",
        "pred=cross_val_predict(rf,X_train,y_train,cv=3)\n",
        "pred"
      ],
      "metadata": {
        "colab": {
          "base_uri": "https://localhost:8080/"
        },
        "id": "XK8kfasHSJjX",
        "outputId": "dd34d796-be15-45ba-fb31-f3ed821318b8"
      },
      "execution_count": 104,
      "outputs": [
        {
          "output_type": "execute_result",
          "data": {
            "text/plain": [
              "array([4953.25, 4625.24, 5207.23, 4798.  , 3120.14, 5505.57, 6578.24,\n",
              "       3665.2 , 4352.4 , 3627.88, 5911.56, 3483.5 , 4275.34, 6979.21,\n",
              "       4839.68, 6573.22, 4112.46, 2517.97, 1198.75, 1471.47, 6189.42,\n",
              "       3364.52, 4631.65, 4411.84, 7157.06, 6241.41, 3157.66, 4223.91,\n",
              "       1464.27, 4944.79, 1053.99, 1772.21, 1455.18, 1974.02, 4721.41,\n",
              "       4682.83, 6748.44, 4009.86, 4342.66, 6100.87, 6580.16, 4334.48,\n",
              "       7074.12, 6260.67, 4423.17, 3332.72, 1315.92, 3985.97, 4624.11,\n",
              "       6654.44, 2881.99, 6316.41, 6627.68, 3491.98, 4941.82, 3363.46,\n",
              "       1418.92, 4093.31, 1102.03, 4606.56, 5434.07, 4046.08, 3707.2 ,\n",
              "       5334.99, 4533.73, 6785.47, 4600.83, 3198.93, 3865.42, 4151.78,\n",
              "       3623.48, 4391.2 , 7066.05, 3793.98, 5027.95, 2470.22, 2590.58,\n",
              "       4569.33, 2331.75, 4207.48, 4343.32, 4740.35, 4190.3 , 2159.22,\n",
              "       7546.09, 4335.49, 4669.78, 7288.1 , 4628.16, 4192.12, 1442.4 ,\n",
              "       2554.14, 1924.  , 7175.79, 6771.66, 4812.94, 4283.63, 4739.84,\n",
              "       3523.48, 2023.09, 3055.12, 4291.84, 6036.51, 4494.14, 3005.1 ,\n",
              "       6525.75, 7008.04, 7434.28, 4173.48, 6732.16, 3319.5 , 3227.92,\n",
              "       1950.44, 4321.43, 4912.64, 1303.64, 5573.47, 4516.29, 1810.08,\n",
              "       1761.88, 6024.47, 4354.2 , 5768.  , 6462.51, 6998.6 , 7688.18,\n",
              "       4875.27, 3538.03, 7076.91, 4525.03, 6145.66, 4486.05, 3665.08,\n",
              "       6766.71, 7691.35, 4495.05, 4205.76, 5037.23, 4132.55, 3968.89,\n",
              "       7577.92, 3192.48, 3589.42, 4540.96, 4353.66, 4516.63, 5010.1 ,\n",
              "       3332.38, 1632.62, 4504.57, 7381.02, 3242.55, 5344.72, 1471.32,\n",
              "       3702.92, 2576.12,  962.88, 7081.81, 4349.67, 1598.94, 7173.99,\n",
              "       5127.87, 4351.69, 6398.39, 4677.16, 5126.36, 5016.78, 6787.86,\n",
              "       3311.06, 5051.94, 4353.65, 4915.6 , 3872.5 , 2414.86, 7097.95,\n",
              "       1714.42, 6586.51, 4854.87, 5202.1 , 1423.15, 5423.26, 3605.5 ,\n",
              "       4654.52, 2402.61, 1648.84, 4577.65, 5894.94, 6178.21, 4508.77,\n",
              "       2074.33, 4942.39, 2486.86, 5346.46, 6116.7 , 5253.28, 7241.57,\n",
              "       7631.81, 6329.36, 1638.03, 5712.31, 1884.02, 6014.65, 5735.95,\n",
              "       4114.29, 1446.41, 3516.48, 4619.09, 4419.56, 1518.72, 7170.45,\n",
              "       6585.43, 3756.72, 5232.88, 4208.06, 3083.34, 3633.24, 6515.97,\n",
              "       4083.19, 1340.49, 6859.78, 3771.3 , 5452.72, 1762.55, 2764.56,\n",
              "       4724.08, 1634.49, 4632.01, 4600.62, 6012.37, 3978.64, 4099.67,\n",
              "       5357.03, 5083.44, 7590.82, 5124.73, 7310.61, 4978.97, 7469.35,\n",
              "       7537.14, 3342.97, 7517.99, 5938.91, 3634.76, 6737.29, 7431.83,\n",
              "       1680.  , 6373.15, 5008.6 , 5378.99, 5448.29, 4512.1 , 3633.17,\n",
              "       4657.53, 6498.95, 4066.26, 2765.26, 7333.78, 5580.17, 4861.2 ,\n",
              "       6010.  , 6953.32, 2420.77, 4342.26, 6394.69, 6595.14, 3816.04,\n",
              "       3115.23, 4026.69, 6662.68, 6562.51, 1723.07, 3931.66, 2258.23,\n",
              "       6589.79, 3947.92, 1724.79, 3905.52, 2267.88, 5084.23, 4689.44,\n",
              "       6570.01, 7447.34, 6680.45, 6318.21, 1167.74, 7297.63, 5375.89,\n",
              "       6958.71, 1996.27, 6536.7 , 4666.14, 4768.65, 3618.47, 5802.81,\n",
              "       6794.  , 5724.49, 4024.46, 4644.18, 2883.91, 4536.18, 6865.63,\n",
              "       7194.93, 6087.75, 4615.78, 4848.65, 6983.91, 4828.89, 6629.97,\n",
              "       3618.63, 6697.2 , 3227.23, 4470.85, 2290.04, 7691.08, 4098.2 ,\n",
              "       4058.37, 4515.08, 5036.65, 3937.31, 2345.63, 3839.16, 4069.89,\n",
              "       3964.32, 5632.79, 4334.31, 2925.46, 6189.36, 4566.56, 4153.63,\n",
              "       6613.04, 5367.89, 4447.81, 4901.17, 6646.48, 6468.23, 4821.34,\n",
              "       1665.53, 4587.1 , 6453.18, 4782.5 , 5580.81, 6887.41, 2929.43,\n",
              "       4378.31, 7415.75, 2024.28, 4848.61, 6755.73, 4267.93, 4291.64,\n",
              "       6709.44, 2330.74, 4305.92, 5353.5 , 3500.61, 2740.22, 4250.68,\n",
              "       4432.43, 6558.77, 6538.04, 3427.43, 6485.32, 5078.35, 4637.2 ,\n",
              "       6124.68, 7797.81, 5257.56, 6740.2 , 6871.05, 1963.74, 5008.38,\n",
              "       4198.75, 7492.44, 1162.2 , 7174.45, 4638.77, 6779.98, 7309.11,\n",
              "       5798.91, 2643.81, 5920.07, 4729.04, 7097.23, 6126.44, 6228.32,\n",
              "       5476.25, 4388.01, 3433.12, 4008.22, 7065.34, 4186.06, 1662.55,\n",
              "       5667.93, 5988.14, 6968.87, 2083.23, 6605.06, 1712.79, 6906.36,\n",
              "       3033.75, 1766.5 , 4368.82, 3371.27, 1032.78, 7378.02, 4541.36,\n",
              "       7123.7 , 2255.33, 4576.58, 5358.32, 4440.45, 7323.92, 6745.35,\n",
              "       4309.71, 2023.48, 6229.1 , 4616.24, 4932.6 , 6769.58, 1927.79,\n",
              "       1761.16, 4958.71, 1410.68, 6016.47, 1964.36, 4527.24, 4929.19,\n",
              "       1465.21, 3449.87, 4180.89, 2880.51, 4909.81, 5222.64, 2059.84,\n",
              "       3104.97, 3819.4 , 4753.23, 6553.27, 3467.58, 6693.92, 2531.77,\n",
              "       6832.04, 3688.68, 1850.05, 4252.7 , 6686.08, 3164.9 , 4591.87,\n",
              "       1954.71, 6384.83, 4330.91, 4572.3 , 3071.38, 2054.25, 2682.66,\n",
              "       6356.05, 2290.67, 4821.9 , 1328.54, 3477.39, 7417.17, 1516.21,\n",
              "       3664.44, 4517.28, 3030.39, 3700.09, 6327.14, 4696.14, 7610.77,\n",
              "       4893.92, 4803.96, 6696.01, 5169.68, 4866.54, 7223.51, 6449.13,\n",
              "       6857.25, 2174.43, 7023.89, 6875.14, 4661.86, 1219.81, 3518.4 ,\n",
              "       6981.8 , 4748.33, 4447.24, 4392.23, 1553.72, 3948.49, 6160.43,\n",
              "       3351.82, 3581.69, 7300.17, 4864.08, 6196.11, 2926.68, 3618.43,\n",
              "       1905.45, 6510.34, 4090.15, 4461.04, 4571.18, 4495.37, 6297.23,\n",
              "       1278.71, 3882.95, 2290.34, 3504.45, 3981.27, 3628.42, 2309.68])"
            ]
          },
          "metadata": {},
          "execution_count": 104
        }
      ]
    },
    {
      "cell_type": "code",
      "source": [
        "## CV prediction plot\n",
        "#Cross validation prediction plot\n",
        "fig,ax=plt.subplots(figsize=(15,8))\n",
        "ax.scatter(y_train,y_train-predict)\n",
        "ax.axhline(lw=2,color='y')\n",
        "ax.set_title('Cross validation prediction plot')\n",
        "ax.set_xlabel('Observed')\n",
        "ax.set_ylabel('Residual')\n",
        "plt.show()"
      ],
      "metadata": {
        "colab": {
          "base_uri": "https://localhost:8080/",
          "height": 362
        },
        "id": "El4JwnmNTkca",
        "outputId": "29d5567f-b915-4217-e993-d64edab8b2a1"
      },
      "execution_count": 115,
      "outputs": [
        {
          "output_type": "display_data",
          "data": {
            "image/png": "[encoded data removed]",
            "text/plain": [
              "<Figure size 1080x576 with 1 Axes>"
            ]
          },
          "metadata": {
            "needs_background": "light"
          }
        }
      ]
    },
    {
      "cell_type": "code",
      "source": [
        "#R-squared scores\n",
        "Rsquer2 = cross_val_score(rf, X_train, y_train, cv=3)\n",
        "print('Rsquer2 :',np.average(Rsquer2))"
      ],
      "metadata": {
        "colab": {
          "base_uri": "https://localhost:8080/"
        },
        "id": "7EGpBZzDYIYi",
        "outputId": "ba364163-032c-40db-cb96-611e4c94ab50"
      },
      "execution_count": 116,
      "outputs": [
        {
          "output_type": "stream",
          "name": "stdout",
          "text": [
            "Rsquer2 : 0.8454372782231404\n"
          ]
        }
      ]
    },
    {
      "cell_type": "code",
      "source": [
        "## Performance Model\n",
        "#predict the model\n",
        "X_test=test_encoded_feature\n",
        "rf_pred=rf.predict(X_test)\n",
        "rf_pred"
      ],
      "metadata": {
        "colab": {
          "base_uri": "https://localhost:8080/"
        },
        "id": "9iSmPkvdTHBr",
        "outputId": "ab0ffa04-f157-4e6f-f206-b1eadffe8af1"
      },
      "execution_count": 118,
      "outputs": [
        {
          "output_type": "execute_result",
          "data": {
            "text/plain": [
              "array([6650.3 , 1516.93, 3505.45, 5369.47, 7438.15, 7292.17, 1416.41,\n",
              "       2299.07, 7310.06, 6334.65, 2118.74, 2948.34, 5010.62, 5050.14,\n",
              "       2013.17, 2080.75, 2234.03, 7814.7 , 5028.58, 2435.59, 7503.56,\n",
              "       6021.39, 5898.53, 1852.22, 1736.38, 4682.06, 2054.06, 7213.86,\n",
              "       3230.58, 5731.96, 3006.32, 4045.84, 6562.51, 7432.22, 6230.8 ,\n",
              "       5302.89, 7217.35, 6244.8 , 3160.84,  885.67, 3777.62, 3235.68,\n",
              "       7296.19, 4481.05, 7022.58, 2273.57, 4371.98, 5574.4 , 6573.04,\n",
              "       4208.67, 4222.07, 2959.84, 2261.03, 4333.09, 4653.91, 4206.95,\n",
              "       3398.51, 3913.54, 4256.6 , 6586.07, 6112.58, 6859.54, 2000.64,\n",
              "       7324.69, 6443.61, 6450.88, 5830.78, 4421.66, 1783.74, 7301.37,\n",
              "       3686.24, 2019.5 , 3269.91, 3935.83, 4313.12, 3906.51, 4765.53,\n",
              "       4483.37, 1356.61, 4283.55, 2108.7 , 2051.64, 5059.78, 4012.55,\n",
              "       3656.36, 3464.69, 3848.39, 3741.12, 3383.8 , 3324.89, 1365.25,\n",
              "       7064.36, 5704.79, 5788.85, 2302.79, 2193.39, 4747.47, 2778.76,\n",
              "       3071.35, 4800.81, 7544.74, 4400.41, 6731.09, 1902.26, 2565.39,\n",
              "       5262.8 , 2108.8 , 3139.26, 6612.14, 1176.45, 4414.49, 6851.72,\n",
              "       3645.71, 7784.68, 5587.04, 4201.24, 1671.55, 3116.3 , 5098.46,\n",
              "       2479.33, 6696.26, 2720.21, 3324.25, 1474.09, 4482.54, 5095.67,\n",
              "       4202.06, 3301.56, 2152.69, 5997.01, 3658.89, 3884.28, 4911.55,\n",
              "       5089.61, 4925.59, 1918.07, 6254.6 , 6649.44, 1978.21, 4563.11,\n",
              "       4640.6 , 2102.53, 2060.88, 4311.47, 3682.95, 5055.51, 4356.72,\n",
              "       4768.7 , 2583.64, 3610.27, 4718.51, 7371.32, 4168.96, 3968.24,\n",
              "       1516.36, 3823.19, 3986.55, 6817.84, 2856.16, 4594.58, 6340.02,\n",
              "       3767.9 , 3870.85, 4832.71, 1472.17, 3838.23, 6501.84, 1798.16,\n",
              "       3596.71, 4461.69, 6967.25, 7287.23, 1698.75, 3407.26, 3802.96,\n",
              "       5914.84, 3960.98, 6339.23, 3548.37, 1780.15, 1661.52, 7424.64,\n",
              "       7132.79, 5419.14, 6864.83, 7954.97, 7642.45, 2632.96, 4517.09,\n",
              "       1483.03, 7461.81, 3696.68, 3868.95, 6214.27, 1997.68, 1608.13,\n",
              "       3930.01, 3724.55, 1205.79, 5107.  , 4376.91, 5940.44, 5212.57,\n",
              "       5130.39, 4944.93, 3004.26, 7409.77, 1914.36, 6286.74, 6460.7 ,\n",
              "       6835.62, 3776.89, 5518.82, 2898.65, 5055.55, 3933.59, 7272.91,\n",
              "       6826.88, 3347.65, 3774.37])"
            ]
          },
          "metadata": {},
          "execution_count": 118
        }
      ]
    },
    {
      "cell_type": "code",
      "source": [
        "# RMSE & MAE\n",
        "#Root mean square error\n",
        "rmse = math.sqrt(metrics.mean_squared_error(y_test,rf_pred))\n",
        "print('Root mean square error :',rmse)\n",
        "#Mean absolute error\n",
        "mae=metrics.mean_absolute_error(y_test,rf_pred)\n",
        "print('Mean absolute error :',mae)"
      ],
      "metadata": {
        "colab": {
          "base_uri": "https://localhost:8080/"
        },
        "id": "XtHic9kZYfVK",
        "outputId": "31c06d8c-45d0-4eac-f679-16bec91b7c68"
      },
      "execution_count": 119,
      "outputs": [
        {
          "output_type": "stream",
          "name": "stdout",
          "text": [
            "Root mean square error : 635.6129705142188\n",
            "Mean absolute error : 427.6830454545454\n"
          ]
        }
      ]
    },
    {
      "cell_type": "code",
      "source": [
        "#Residual scatter plot\n",
        "fig, ax = plt.subplots(figsize=(15,8))\n",
        "residuals=y_test-rf_pred\n",
        "ax.scatter(y_test, residuals)\n",
        "ax.axhline(lw=2,color='orange')\n",
        "ax.set_xlabel('Observed')\n",
        "ax.set_ylabel('Residuals')\n",
        "ax.set_title('Residual plot')\n",
        "plt.show()"
      ],
      "metadata": {
        "colab": {
          "base_uri": "https://localhost:8080/",
          "height": 362
        },
        "id": "q2AvQw5bYfaQ",
        "outputId": "a75e26ae-e6c8-45fe-984c-0f8f7390ab62"
      },
      "execution_count": 122,
      "outputs": [
        {
          "output_type": "display_data",
          "data": {
            "image/png": "[encoded data removed]",
            "text/plain": [
              "<Figure size 1080x576 with 1 Axes>"
            ]
          },
          "metadata": {
            "needs_background": "light"
          }
        }
      ]
    },
    {
      "cell_type": "code",
      "source": [
        "# predic Model\n",
        "\n",
        "Bike1=pd.DataFrame(y_test,columns=['y_test'])\n",
        "Bike2=pd.DataFrame(rf_pred,columns=['rf_pred'])\n",
        "Bike_predic=pd.merge(Bike1,Bike2,left_index=True,right_index=True)\n",
        "Bike_predic.to_csv('Bike_rent.csv')\n",
        "Bike_predic"
      ],
      "metadata": {
        "colab": {
          "base_uri": "https://localhost:8080/",
          "height": 424
        },
        "id": "I3JoosoaYw0w",
        "outputId": "f4f39059-4c3e-433b-9d86-08d841d6aad4"
      },
      "execution_count": 123,
      "outputs": [
        {
          "output_type": "execute_result",
          "data": {
            "text/html": [
              "\n",
              "  <div id=\"df-a83b7212-796f-4653-ba20-f3dea30a21e7\">\n",
              "    <div class=\"colab-df-container\">\n",
              "      <div>\n",
              "<style scoped>\n",
              "    .dataframe tbody tr th:only-of-type {\n",
              "        vertical-align: middle;\n",
              "    }\n",
              "\n",
              "    .dataframe tbody tr th {\n",
              "        vertical-align: top;\n",
              "    }\n",
              "\n",
              "    .dataframe thead th {\n",
              "        text-align: right;\n",
              "    }\n",
              "</style>\n",
              "<table border=\"1\" class=\"dataframe\">\n",
              "  <thead>\n",
              "    <tr style=\"text-align: right;\">\n",
              "      <th></th>\n",
              "      <th>y_test</th>\n",
              "      <th>rf_pred</th>\n",
              "    </tr>\n",
              "  </thead>\n",
              "  <tbody>\n",
              "    <tr>\n",
              "      <th>0</th>\n",
              "      <td>6606</td>\n",
              "      <td>6650.30</td>\n",
              "    </tr>\n",
              "    <tr>\n",
              "      <th>1</th>\n",
              "      <td>1550</td>\n",
              "      <td>1516.93</td>\n",
              "    </tr>\n",
              "    <tr>\n",
              "      <th>2</th>\n",
              "      <td>3747</td>\n",
              "      <td>3505.45</td>\n",
              "    </tr>\n",
              "    <tr>\n",
              "      <th>3</th>\n",
              "      <td>6041</td>\n",
              "      <td>5369.47</td>\n",
              "    </tr>\n",
              "    <tr>\n",
              "      <th>4</th>\n",
              "      <td>7538</td>\n",
              "      <td>7438.15</td>\n",
              "    </tr>\n",
              "    <tr>\n",
              "      <th>...</th>\n",
              "      <td>...</td>\n",
              "      <td>...</td>\n",
              "    </tr>\n",
              "    <tr>\n",
              "      <th>215</th>\n",
              "      <td>2659</td>\n",
              "      <td>3933.59</td>\n",
              "    </tr>\n",
              "    <tr>\n",
              "      <th>216</th>\n",
              "      <td>7338</td>\n",
              "      <td>7272.91</td>\n",
              "    </tr>\n",
              "    <tr>\n",
              "      <th>217</th>\n",
              "      <td>6978</td>\n",
              "      <td>6826.88</td>\n",
              "    </tr>\n",
              "    <tr>\n",
              "      <th>218</th>\n",
              "      <td>4795</td>\n",
              "      <td>3347.65</td>\n",
              "    </tr>\n",
              "    <tr>\n",
              "      <th>219</th>\n",
              "      <td>3855</td>\n",
              "      <td>3774.37</td>\n",
              "    </tr>\n",
              "  </tbody>\n",
              "</table>\n",
              "<p>220 rows × 2 columns</p>\n",
              "</div>\n",
              "      <button class=\"colab-df-convert\" onclick=\"convertToInteractive('df-a83b7212-796f-4653-ba20-f3dea30a21e7')\"\n",
              "              title=\"Convert this dataframe to an interactive table.\"\n",
              "              style=\"display:none;\">\n",
              "        \n",
              "  <svg xmlns=\"http://www.w3.org/2000/svg\" height=\"24px\"viewBox=\"0 0 24 24\"\n",
              "       width=\"24px\">\n",
              "    <path d=\"M0 0h24v24H0V0z\" fill=\"none\"/>\n",
              "    <path d=\"M18.56 5.44l.94 2.06.94-2.06 2.06-.94-2.06-.94-.94-2.06-.94 2.06-2.06.94zm-11 1L8.5 8.5l.94-2.06 2.06-.94-2.06-.94L8.5 2.5l-.94 2.06-2.06.94zm10 10l.94 2.06.94-2.06 2.06-.94-2.06-.94-.94-2.06-.94 2.06-2.06.94z\"/><path d=\"M17.41 7.96l-1.37-1.37c-.4-.4-.92-.59-1.43-.59-.52 0-1.04.2-1.43.59L10.3 9.45l-7.72 7.72c-.78.78-.78 2.05 0 2.83L4 21.41c.39.39.9.59 1.41.59.51 0 1.02-.2 1.41-.59l7.78-7.78 2.81-2.81c.8-.78.8-2.07 0-2.86zM5.41 20L4 18.59l7.72-7.72 1.47 1.35L5.41 20z\"/>\n",
              "  </svg>\n",
              "      </button>\n",
              "      \n",
              "  <style>\n",
              "    .colab-df-container {\n",
              "      display:flex;\n",
              "      flex-wrap:wrap;\n",
              "      gap: 12px;\n",
              "    }\n",
              "\n",
              "    .colab-df-convert {\n",
              "      background-color: #E8F0FE;\n",
              "      border: none;\n",
              "      border-radius: 50%;\n",
              "      cursor: pointer;\n",
              "      display: none;\n",
              "      fill: #1967D2;\n",
              "      height: 32px;\n",
              "      padding: 0 0 0 0;\n",
              "      width: 32px;\n",
              "    }\n",
              "\n",
              "    .colab-df-convert:hover {\n",
              "      background-color: #E2EBFA;\n",
              "      box-shadow: 0px 1px 2px rgba(60, 64, 67, 0.3), 0px 1px 3px 1px rgba(60, 64, 67, 0.15);\n",
              "      fill: #174EA6;\n",
              "    }\n",
              "\n",
              "    [theme=dark] .colab-df-convert {\n",
              "      background-color: #3B4455;\n",
              "      fill: #D2E3FC;\n",
              "    }\n",
              "\n",
              "    [theme=dark] .colab-df-convert:hover {\n",
              "      background-color: #434B5C;\n",
              "      box-shadow: 0px 1px 3px 1px rgba(0, 0, 0, 0.15);\n",
              "      filter: drop-shadow(0px 1px 2px rgba(0, 0, 0, 0.3));\n",
              "      fill: #FFFFFF;\n",
              "    }\n",
              "  </style>\n",
              "\n",
              "      <script>\n",
              "        const buttonEl =\n",
              "          document.querySelector('#df-a83b7212-796f-4653-ba20-f3dea30a21e7 button.colab-df-convert');\n",
              "        buttonEl.style.display =\n",
              "          google.colab.kernel.accessAllowed ? 'block' : 'none';\n",
              "\n",
              "        async function convertToInteractive(key) {\n",
              "          const element = document.querySelector('#df-a83b7212-796f-4653-ba20-f3dea30a21e7');\n",
              "          const dataTable =\n",
              "            await google.colab.kernel.invokeFunction('convertToInteractive',\n",
              "                                                     [key], {});\n",
              "          if (!dataTable) return;\n",
              "\n",
              "          const docLinkHtml = 'Like what you see? Visit the ' +\n",
              "            '<a target=\"_blank\" href=https://colab.research.google.com/notebooks/data_table.ipynb>data table notebook</a>'\n",
              "            + ' to learn more about interactive tables.';\n",
              "          element.innerHTML = '';\n",
              "          dataTable['output_type'] = 'display_data';\n",
              "          await google.colab.output.renderOutput(dataTable, element);\n",
              "          const docLink = document.createElement('div');\n",
              "          docLink.innerHTML = docLinkHtml;\n",
              "          element.appendChild(docLink);\n",
              "        }\n",
              "      </script>\n",
              "    </div>\n",
              "  </div>\n",
              "  "
            ],
            "text/plain": [
              "     y_test  rf_pred\n",
              "0      6606  6650.30\n",
              "1      1550  1516.93\n",
              "2      3747  3505.45\n",
              "3      6041  5369.47\n",
              "4      7538  7438.15\n",
              "..      ...      ...\n",
              "215    2659  3933.59\n",
              "216    7338  7272.91\n",
              "217    6978  6826.88\n",
              "218    4795  3347.65\n",
              "219    3855  3774.37\n",
              "\n",
              "[220 rows x 2 columns]"
            ]
          },
          "metadata": {},
          "execution_count": 123
        }
      ]
    },
    {
      "cell_type": "code",
      "source": [
        ""
      ],
      "metadata": {
        "id": "Ub4v6zqHYfeG"
      },
      "execution_count": null,
      "outputs": []
    },
    {
      "cell_type": "code",
      "source": [
        ""
      ],
      "metadata": {
        "id": "SeAut7XCTHFy"
      },
      "execution_count": null,
      "outputs": []
    },
    {
      "cell_type": "code",
      "source": [
        ""
      ],
      "metadata": {
        "id": "XwEXWi67THJF"
      },
      "execution_count": null,
      "outputs": []
    },
    {
      "cell_type": "code",
      "source": [
        ""
      ],
      "metadata": {
        "id": "BipC3HV5THL0"
      },
      "execution_count": null,
      "outputs": []
    },
    {
      "cell_type": "code",
      "source": [
        ""
      ],
      "metadata": {
        "id": "i-fd4qW2THOj"
      },
      "execution_count": null,
      "outputs": []
    },
    {
      "cell_type": "code",
      "source": [
        ""
      ],
      "metadata": {
        "id": "BnVpK0SaTHRp"
      },
      "execution_count": null,
      "outputs": []
    }
  ],
  "metadata": {
    "colab": {
      "collapsed_sections": [],
      "name": "Bike.ipynb",
      "provenance": []
    },
    "kernelspec": {
      "display_name": "Python 3 (ipykernel)",
      "language": "python",
      "name": "python3"
    },
    "language_info": {
      "codemirror_mode": {
        "name": "ipython",
        "version": 3
      },
      "file_extension": ".py",
      "mimetype": "text/x-python",
      "name": "python",
      "nbconvert_exporter": "python",
      "pygments_lexer": "ipython3",
      "version": "3.9.7"
    }
  },
  "nbformat": 4,
  "nbformat_minor": 0
}